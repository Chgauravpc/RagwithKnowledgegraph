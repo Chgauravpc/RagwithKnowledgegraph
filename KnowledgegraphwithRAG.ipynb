{
  "cells": [
    {
      "cell_type": "code",
      "execution_count": 1,
      "metadata": {
        "colab": {
          "base_uri": "https://localhost:8080/"
        },
        "id": "qkZiUPZ4odHj",
        "outputId": "638caac5-8c5d-4aa3-c9b3-e70b7fa81786"
      },
      "outputs": [
        {
          "name": "stdout",
          "output_type": "stream",
          "text": [
            "\u001b[?25l   \u001b[90m━━━━━━━━━━━━━━━━━━━━━━━━━━━━━━━━━━━━━━━━\u001b[0m \u001b[32m0.0/2.5 MB\u001b[0m \u001b[31m?\u001b[0m eta \u001b[36m-:--:--\u001b[0m\r\u001b[2K   \u001b[91m━━━━━━━━━━━━━━━━━━━━━━━━━━━━━━━━━━━━━━━\u001b[0m\u001b[91m╸\u001b[0m \u001b[32m2.5/2.5 MB\u001b[0m \u001b[31m83.6 MB/s\u001b[0m eta \u001b[36m0:00:01\u001b[0m\r\u001b[2K   \u001b[90m━━━━━━━━━━━━━━━━━━━━━━━━━━━━━━━━━━━━━━━━\u001b[0m \u001b[32m2.5/2.5 MB\u001b[0m \u001b[31m38.3 MB/s\u001b[0m eta \u001b[36m0:00:00\u001b[0m\n",
            "\u001b[2K   \u001b[90m━━━━━━━━━━━━━━━━━━━━━━━━━━━━━━━━━━━━━━━━\u001b[0m \u001b[32m209.2/209.2 kB\u001b[0m \u001b[31m14.5 MB/s\u001b[0m eta \u001b[36m0:00:00\u001b[0m\n",
            "\u001b[2K   \u001b[90m━━━━━━━━━━━━━━━━━━━━━━━━━━━━━━━━━━━━━━━━\u001b[0m \u001b[32m131.4/131.4 kB\u001b[0m \u001b[31m8.4 MB/s\u001b[0m eta \u001b[36m0:00:00\u001b[0m\n",
            "\u001b[2K   \u001b[90m━━━━━━━━━━━━━━━━━━━━━━━━━━━━━━━━━━━━━━━━\u001b[0m \u001b[32m50.9/50.9 kB\u001b[0m \u001b[31m3.2 MB/s\u001b[0m eta \u001b[36m0:00:00\u001b[0m\n",
            "\u001b[?25h"
          ]
        }
      ],
      "source": [
        "pip install --upgrade --quiet langchain langchain-community langchain-groq langchain-experimental"
      ]
    },
    {
      "cell_type": "code",
      "execution_count": 2,
      "metadata": {
        "colab": {
          "base_uri": "https://localhost:8080/"
        },
        "id": "VP8IydbyxcCz",
        "outputId": "7162ae15-cd5b-402b-d3e6-e5a148835ed0"
      },
      "outputs": [
        {
          "name": "stdout",
          "output_type": "stream",
          "text": [
            "\u001b[2K   \u001b[90m━━━━━━━━━━━━━━━━━━━━━━━━━━━━━━━━━━━━━━━━\u001b[0m \u001b[32m15.7/15.7 MB\u001b[0m \u001b[31m48.0 MB/s\u001b[0m eta \u001b[36m0:00:00\u001b[0m\n",
            "\u001b[2K   \u001b[90m━━━━━━━━━━━━━━━━━━━━━━━━━━━━━━━━━━━━━━━━\u001b[0m \u001b[32m1.6/1.6 MB\u001b[0m \u001b[31m49.6 MB/s\u001b[0m eta \u001b[36m0:00:00\u001b[0m\n",
            "\u001b[?25h"
          ]
        }
      ],
      "source": [
        "pip install --upgrade --quiet tiktoken yfiles_jupyter_graphs"
      ]
    },
    {
      "cell_type": "code",
      "execution_count": null,
      "metadata": {
        "id": "Yo_-IfU0qbRN"
      },
      "outputs": [],
      "source": [
        "NEO4J_URI=\"\"\n",
        "NEO4J_USERNAME=\"\"\n",
        "NEO4J_PASSWORD=\"\""
      ]
    },
    {
      "cell_type": "code",
      "execution_count": null,
      "metadata": {
        "id": "6ew7voULqkRQ"
      },
      "outputs": [],
      "source": [
        "groq_api_key=\"Your_groq_api_key\""
      ]
    },
    {
      "cell_type": "code",
      "execution_count": 5,
      "metadata": {
        "colab": {
          "base_uri": "https://localhost:8080/"
        },
        "id": "nP7nDYuIsDwb",
        "outputId": "714cd6a9-ac3c-4b5c-ba4f-6146b00a01d1"
      },
      "outputs": [
        {
          "name": "stdout",
          "output_type": "stream",
          "text": [
            "Collecting langchain-neo4j\n",
            "  Downloading langchain_neo4j-0.5.0-py3-none-any.whl.metadata (4.5 kB)\n",
            "Collecting neo4j\n",
            "  Downloading neo4j-5.28.2-py3-none-any.whl.metadata (5.9 kB)\n",
            "Requirement already satisfied: langchain<0.4.0,>=0.3.7 in /usr/local/lib/python3.12/dist-packages (from langchain-neo4j) (0.3.27)\n",
            "Requirement already satisfied: langchain-core<0.4.0,>=0.3.39 in /usr/local/lib/python3.12/dist-packages (from langchain-neo4j) (0.3.74)\n",
            "Collecting neo4j-graphrag<2.0.0,>=1.9.0 (from langchain-neo4j)\n",
            "  Downloading neo4j_graphrag-1.9.1-py3-none-any.whl.metadata (18 kB)\n",
            "Requirement already satisfied: pytz in /usr/local/lib/python3.12/dist-packages (from neo4j) (2025.2)\n",
            "Requirement already satisfied: langchain-text-splitters<1.0.0,>=0.3.9 in /usr/local/lib/python3.12/dist-packages (from langchain<0.4.0,>=0.3.7->langchain-neo4j) (0.3.9)\n",
            "Requirement already satisfied: langsmith>=0.1.17 in /usr/local/lib/python3.12/dist-packages (from langchain<0.4.0,>=0.3.7->langchain-neo4j) (0.4.14)\n",
            "Requirement already satisfied: pydantic<3.0.0,>=2.7.4 in /usr/local/lib/python3.12/dist-packages (from langchain<0.4.0,>=0.3.7->langchain-neo4j) (2.11.7)\n",
            "Requirement already satisfied: SQLAlchemy<3,>=1.4 in /usr/local/lib/python3.12/dist-packages (from langchain<0.4.0,>=0.3.7->langchain-neo4j) (2.0.43)\n",
            "Requirement already satisfied: requests<3,>=2 in /usr/local/lib/python3.12/dist-packages (from langchain<0.4.0,>=0.3.7->langchain-neo4j) (2.32.4)\n",
            "Requirement already satisfied: PyYAML>=5.3 in /usr/local/lib/python3.12/dist-packages (from langchain<0.4.0,>=0.3.7->langchain-neo4j) (6.0.2)\n",
            "Requirement already satisfied: tenacity!=8.4.0,<10.0.0,>=8.1.0 in /usr/local/lib/python3.12/dist-packages (from langchain-core<0.4.0,>=0.3.39->langchain-neo4j) (8.5.0)\n",
            "Requirement already satisfied: jsonpatch<2.0,>=1.33 in /usr/local/lib/python3.12/dist-packages (from langchain-core<0.4.0,>=0.3.39->langchain-neo4j) (1.33)\n",
            "Requirement already satisfied: typing-extensions>=4.7 in /usr/local/lib/python3.12/dist-packages (from langchain-core<0.4.0,>=0.3.39->langchain-neo4j) (4.14.1)\n",
            "Requirement already satisfied: packaging>=23.2 in /usr/local/lib/python3.12/dist-packages (from langchain-core<0.4.0,>=0.3.39->langchain-neo4j) (25.0)\n",
            "Collecting fsspec<2025.0.0,>=2024.9.0 (from neo4j-graphrag<2.0.0,>=1.9.0->langchain-neo4j)\n",
            "  Downloading fsspec-2024.12.0-py3-none-any.whl.metadata (11 kB)\n",
            "Collecting json-repair<0.45.0,>=0.44.1 (from neo4j-graphrag<2.0.0,>=1.9.0->langchain-neo4j)\n",
            "  Downloading json_repair-0.44.1-py3-none-any.whl.metadata (12 kB)\n",
            "Requirement already satisfied: numpy<3.0.0,>=2.0.0 in /usr/local/lib/python3.12/dist-packages (from neo4j-graphrag<2.0.0,>=1.9.0->langchain-neo4j) (2.0.2)\n",
            "Collecting pypdf<6.0.0,>=5.1.0 (from neo4j-graphrag<2.0.0,>=1.9.0->langchain-neo4j)\n",
            "  Downloading pypdf-5.9.0-py3-none-any.whl.metadata (7.1 kB)\n",
            "Requirement already satisfied: scipy<2.0.0,>=1.13.0 in /usr/local/lib/python3.12/dist-packages (from neo4j-graphrag<2.0.0,>=1.9.0->langchain-neo4j) (1.16.1)\n",
            "Collecting tenacity!=8.4.0,<10.0.0,>=8.1.0 (from langchain-core<0.4.0,>=0.3.39->langchain-neo4j)\n",
            "  Downloading tenacity-9.1.2-py3-none-any.whl.metadata (1.2 kB)\n",
            "Collecting types-pyyaml<7.0.0.0,>=6.0.12.20240917 (from neo4j-graphrag<2.0.0,>=1.9.0->langchain-neo4j)\n",
            "  Downloading types_pyyaml-6.0.12.20250809-py3-none-any.whl.metadata (1.7 kB)\n",
            "Requirement already satisfied: jsonpointer>=1.9 in /usr/local/lib/python3.12/dist-packages (from jsonpatch<2.0,>=1.33->langchain-core<0.4.0,>=0.3.39->langchain-neo4j) (3.0.0)\n",
            "Requirement already satisfied: httpx<1,>=0.23.0 in /usr/local/lib/python3.12/dist-packages (from langsmith>=0.1.17->langchain<0.4.0,>=0.3.7->langchain-neo4j) (0.28.1)\n",
            "Requirement already satisfied: orjson>=3.9.14 in /usr/local/lib/python3.12/dist-packages (from langsmith>=0.1.17->langchain<0.4.0,>=0.3.7->langchain-neo4j) (3.11.2)\n",
            "Requirement already satisfied: requests-toolbelt>=1.0.0 in /usr/local/lib/python3.12/dist-packages (from langsmith>=0.1.17->langchain<0.4.0,>=0.3.7->langchain-neo4j) (1.0.0)\n",
            "Requirement already satisfied: zstandard>=0.23.0 in /usr/local/lib/python3.12/dist-packages (from langsmith>=0.1.17->langchain<0.4.0,>=0.3.7->langchain-neo4j) (0.24.0)\n",
            "Requirement already satisfied: annotated-types>=0.6.0 in /usr/local/lib/python3.12/dist-packages (from pydantic<3.0.0,>=2.7.4->langchain<0.4.0,>=0.3.7->langchain-neo4j) (0.7.0)\n",
            "Requirement already satisfied: pydantic-core==2.33.2 in /usr/local/lib/python3.12/dist-packages (from pydantic<3.0.0,>=2.7.4->langchain<0.4.0,>=0.3.7->langchain-neo4j) (2.33.2)\n",
            "Requirement already satisfied: typing-inspection>=0.4.0 in /usr/local/lib/python3.12/dist-packages (from pydantic<3.0.0,>=2.7.4->langchain<0.4.0,>=0.3.7->langchain-neo4j) (0.4.1)\n",
            "Requirement already satisfied: charset_normalizer<4,>=2 in /usr/local/lib/python3.12/dist-packages (from requests<3,>=2->langchain<0.4.0,>=0.3.7->langchain-neo4j) (3.4.3)\n",
            "Requirement already satisfied: idna<4,>=2.5 in /usr/local/lib/python3.12/dist-packages (from requests<3,>=2->langchain<0.4.0,>=0.3.7->langchain-neo4j) (3.10)\n",
            "Requirement already satisfied: urllib3<3,>=1.21.1 in /usr/local/lib/python3.12/dist-packages (from requests<3,>=2->langchain<0.4.0,>=0.3.7->langchain-neo4j) (2.5.0)\n",
            "Requirement already satisfied: certifi>=2017.4.17 in /usr/local/lib/python3.12/dist-packages (from requests<3,>=2->langchain<0.4.0,>=0.3.7->langchain-neo4j) (2025.8.3)\n",
            "Requirement already satisfied: greenlet>=1 in /usr/local/lib/python3.12/dist-packages (from SQLAlchemy<3,>=1.4->langchain<0.4.0,>=0.3.7->langchain-neo4j) (3.2.4)\n",
            "Requirement already satisfied: anyio in /usr/local/lib/python3.12/dist-packages (from httpx<1,>=0.23.0->langsmith>=0.1.17->langchain<0.4.0,>=0.3.7->langchain-neo4j) (4.10.0)\n",
            "Requirement already satisfied: httpcore==1.* in /usr/local/lib/python3.12/dist-packages (from httpx<1,>=0.23.0->langsmith>=0.1.17->langchain<0.4.0,>=0.3.7->langchain-neo4j) (1.0.9)\n",
            "Requirement already satisfied: h11>=0.16 in /usr/local/lib/python3.12/dist-packages (from httpcore==1.*->httpx<1,>=0.23.0->langsmith>=0.1.17->langchain<0.4.0,>=0.3.7->langchain-neo4j) (0.16.0)\n",
            "Requirement already satisfied: sniffio>=1.1 in /usr/local/lib/python3.12/dist-packages (from anyio->httpx<1,>=0.23.0->langsmith>=0.1.17->langchain<0.4.0,>=0.3.7->langchain-neo4j) (1.3.1)\n",
            "Downloading langchain_neo4j-0.5.0-py3-none-any.whl (31 kB)\n",
            "Downloading neo4j-5.28.2-py3-none-any.whl (313 kB)\n",
            "\u001b[2K   \u001b[90m━━━━━━━━━━━━━━━━━━━━━━━━━━━━━━━━━━━━━━━━\u001b[0m \u001b[32m313.2/313.2 kB\u001b[0m \u001b[31m19.1 MB/s\u001b[0m eta \u001b[36m0:00:00\u001b[0m\n",
            "\u001b[?25hDownloading neo4j_graphrag-1.9.1-py3-none-any.whl (193 kB)\n",
            "\u001b[2K   \u001b[90m━━━━━━━━━━━━━━━━━━━━━━━━━━━━━━━━━━━━━━━━\u001b[0m \u001b[32m193.4/193.4 kB\u001b[0m \u001b[31m18.7 MB/s\u001b[0m eta \u001b[36m0:00:00\u001b[0m\n",
            "\u001b[?25hDownloading fsspec-2024.12.0-py3-none-any.whl (183 kB)\n",
            "\u001b[2K   \u001b[90m━━━━━━━━━━━━━━━━━━━━━━━━━━━━━━━━━━━━━━━━\u001b[0m \u001b[32m183.9/183.9 kB\u001b[0m \u001b[31m14.8 MB/s\u001b[0m eta \u001b[36m0:00:00\u001b[0m\n",
            "\u001b[?25hDownloading json_repair-0.44.1-py3-none-any.whl (22 kB)\n",
            "Downloading pypdf-5.9.0-py3-none-any.whl (313 kB)\n",
            "\u001b[2K   \u001b[90m━━━━━━━━━━━━━━━━━━━━━━━━━━━━━━━━━━━━━━━━\u001b[0m \u001b[32m313.2/313.2 kB\u001b[0m \u001b[31m21.6 MB/s\u001b[0m eta \u001b[36m0:00:00\u001b[0m\n",
            "\u001b[?25hDownloading tenacity-9.1.2-py3-none-any.whl (28 kB)\n",
            "Downloading types_pyyaml-6.0.12.20250809-py3-none-any.whl (20 kB)\n",
            "Installing collected packages: types-pyyaml, tenacity, pypdf, neo4j, json-repair, fsspec, neo4j-graphrag, langchain-neo4j\n",
            "  Attempting uninstall: tenacity\n",
            "    Found existing installation: tenacity 8.5.0\n",
            "    Uninstalling tenacity-8.5.0:\n",
            "      Successfully uninstalled tenacity-8.5.0\n",
            "  Attempting uninstall: fsspec\n",
            "    Found existing installation: fsspec 2025.3.0\n",
            "    Uninstalling fsspec-2025.3.0:\n",
            "      Successfully uninstalled fsspec-2025.3.0\n",
            "\u001b[31mERROR: pip's dependency resolver does not currently take into account all the packages that are installed. This behaviour is the source of the following dependency conflicts.\n",
            "google-adk 1.11.0 requires tenacity<9.0.0,>=8.0.0, but you have tenacity 9.1.2 which is incompatible.\n",
            "gcsfs 2025.3.0 requires fsspec==2025.3.0, but you have fsspec 2024.12.0 which is incompatible.\u001b[0m\u001b[31m\n",
            "\u001b[0mSuccessfully installed fsspec-2024.12.0 json-repair-0.44.1 langchain-neo4j-0.5.0 neo4j-5.28.2 neo4j-graphrag-1.9.1 pypdf-5.9.0 tenacity-9.1.2 types-pyyaml-6.0.12.20250809\n"
          ]
        }
      ],
      "source": [
        "pip install --upgrade langchain-neo4j neo4j"
      ]
    },
    {
      "cell_type": "code",
      "execution_count": 6,
      "metadata": {
        "colab": {
          "base_uri": "https://localhost:8080/"
        },
        "id": "5nfwh8J1rDPe",
        "outputId": "3c4973fb-0c8d-4932-bf48-0e6785f299c4"
      },
      "outputs": [
        {
          "name": "stderr",
          "output_type": "stream",
          "text": [
            "/tmp/ipython-input-1096065748.py:2: LangChainDeprecationWarning: The class `Neo4jGraph` was deprecated in LangChain 0.3.8 and will be removed in 1.0. An updated version of the class exists in the :class:`~langchain-neo4j package and should be used instead. To use it run `pip install -U :class:`~langchain-neo4j` and import as `from :class:`~langchain_neo4j import Neo4jGraph``.\n",
            "  graph = Neo4jGraph(\n"
          ]
        }
      ],
      "source": [
        "from langchain_community.graphs import Neo4jGraph\n",
        "graph = Neo4jGraph(\n",
        "    url=NEO4J_URI,\n",
        "    username=NEO4J_USERNAME,\n",
        "    password=NEO4J_PASSWORD,\n",
        ")"
      ]
    },
    {
      "cell_type": "code",
      "execution_count": 7,
      "metadata": {
        "colab": {
          "base_uri": "https://localhost:8080/"
        },
        "id": "t9l5mK_jwY5m",
        "outputId": "a51580c8-3447-4f31-bc99-01c8b818320e"
      },
      "outputs": [
        {
          "name": "stdout",
          "output_type": "stream",
          "text": [
            "Collecting wikipedia\n",
            "  Downloading wikipedia-1.4.0.tar.gz (27 kB)\n",
            "  Preparing metadata (setup.py) ... \u001b[?25l\u001b[?25hdone\n",
            "Requirement already satisfied: beautifulsoup4 in /usr/local/lib/python3.12/dist-packages (from wikipedia) (4.13.4)\n",
            "Requirement already satisfied: requests<3.0.0,>=2.0.0 in /usr/local/lib/python3.12/dist-packages (from wikipedia) (2.32.4)\n",
            "Requirement already satisfied: charset_normalizer<4,>=2 in /usr/local/lib/python3.12/dist-packages (from requests<3.0.0,>=2.0.0->wikipedia) (3.4.3)\n",
            "Requirement already satisfied: idna<4,>=2.5 in /usr/local/lib/python3.12/dist-packages (from requests<3.0.0,>=2.0.0->wikipedia) (3.10)\n",
            "Requirement already satisfied: urllib3<3,>=1.21.1 in /usr/local/lib/python3.12/dist-packages (from requests<3.0.0,>=2.0.0->wikipedia) (2.5.0)\n",
            "Requirement already satisfied: certifi>=2017.4.17 in /usr/local/lib/python3.12/dist-packages (from requests<3.0.0,>=2.0.0->wikipedia) (2025.8.3)\n",
            "Requirement already satisfied: soupsieve>1.2 in /usr/local/lib/python3.12/dist-packages (from beautifulsoup4->wikipedia) (2.7)\n",
            "Requirement already satisfied: typing-extensions>=4.0.0 in /usr/local/lib/python3.12/dist-packages (from beautifulsoup4->wikipedia) (4.14.1)\n",
            "Building wheels for collected packages: wikipedia\n",
            "  Building wheel for wikipedia (setup.py) ... \u001b[?25l\u001b[?25hdone\n",
            "  Created wheel for wikipedia: filename=wikipedia-1.4.0-py3-none-any.whl size=11678 sha256=f53c89c5a229b7861472e1a747ff59f35dd3e3f95d435cf87a8e7817d10fcdd6\n",
            "  Stored in directory: /root/.cache/pip/wheels/63/47/7c/a9688349aa74d228ce0a9023229c6c0ac52ca2a40fe87679b8\n",
            "Successfully built wikipedia\n",
            "Installing collected packages: wikipedia\n",
            "Successfully installed wikipedia-1.4.0\n"
          ]
        }
      ],
      "source": [
        "pip install --upgrade wikipedia"
      ]
    },
    {
      "cell_type": "code",
      "execution_count": 8,
      "metadata": {
        "colab": {
          "base_uri": "https://localhost:8080/"
        },
        "id": "YapgtjIFsMPX",
        "outputId": "5d5f7d11-d044-46cc-d16f-32529d75d995"
      },
      "outputs": [
        {
          "name": "stderr",
          "output_type": "stream",
          "text": [
            "/usr/local/lib/python3.12/dist-packages/wikipedia/wikipedia.py:389: GuessedAtParserWarning: No parser was explicitly specified, so I'm using the best available HTML parser for this system (\"lxml\"). This usually isn't a problem, but if you run this code on another system, or in a different virtual environment, it may use a different parser and behave differently.\n",
            "\n",
            "The code that caused this warning is on line 389 of the file /usr/local/lib/python3.12/dist-packages/wikipedia/wikipedia.py. To get rid of this warning, pass the additional argument 'features=\"lxml\"' to the BeautifulSoup constructor.\n",
            "\n",
            "  lis = BeautifulSoup(html).find_all('li')\n"
          ]
        }
      ],
      "source": [
        "from langchain.document_loaders import WikipediaLoader\n",
        "\n",
        "raw_documents = WikipediaLoader(query=\"Elizabeth I\").load()"
      ]
    },
    {
      "cell_type": "code",
      "execution_count": 9,
      "metadata": {
        "colab": {
          "base_uri": "https://localhost:8080/"
        },
        "id": "1bFvKtB-0weT",
        "outputId": "d5c73bf0-2f74-483c-af16-28ecf4b0e355"
      },
      "outputs": [
        {
          "data": {
            "text/plain": [
              "[Document(metadata={'title': 'Elizabeth I', 'summary': 'Elizabeth I (7 September 1533 – 24 March 1603) was Queen of England and Ireland from 17 November 1558 until her death in 1603. She was the last and longest reigning monarch of the House of Tudor. Her eventful reign, and its effect on history and culture, gave name to the Elizabethan era.\\nElizabeth was the only surviving child of Henry VIII and his second wife, Anne Boleyn. When Elizabeth was two years old, her parents\\' marriage was annulled, her mother was executed, and Elizabeth was declared illegitimate. Henry restored her to the line of succession when she was 10. After Henry\\'s death in 1547, Elizabeth\\'s younger half-brother Edward VI ruled until his own death in 1553, bequeathing the crown to a Protestant cousin, Lady Jane Grey, and ignoring the claims of his two half-sisters, Mary and Elizabeth, despite statutes to the contrary. Edward\\'s will was quickly set aside and the Catholic Mary became queen, deposing Jane. During Mary\\'s reign, Elizabeth was imprisoned for nearly a year on suspicion of supporting Protestant rebels.\\nUpon Mary\\'s 1558 death, Elizabeth succeeded to the throne and set out to rule by good counsel. She depended heavily on a group of trusted advisers led by William Cecil, whom she created Baron Burghley. One of her first actions as queen was the establishment of an English Protestant church, of which she became the supreme governor. This arrangement, later named the Elizabethan Religious Settlement, would evolve into the Church of England. It was expected that Elizabeth would marry and produce an heir; however, despite numerous courtships, she never did. Because of this she is sometimes referred to as the \"Virgin Queen\". She was succeeded by her cousin, James VI of Scotland.\\nIn government, Elizabeth was more moderate than her father and siblings had been. One of her mottoes was video et taceo (\"I see and keep silent\"). In religion, she was relatively tolerant and avoided systematic persecution. After the pope declared her illegitimate in 1570, which in theory released English Catholics from allegiance to her, several conspiracies threatened her life, all of which were defeated with the help of her ministers\\' secret service, run by Francis Walsingham. Elizabeth was cautious in foreign affairs, manoeuvring between the major powers of France and Spain. She half-heartedly supported a number of ineffective, poorly resourced military campaigns in the Netherlands, France, and Ireland. By the mid-1580s, England could no longer avoid war with Spain.\\nAs she grew older, Elizabeth became celebrated for her virginity. A cult of personality grew around her which was celebrated in the portraits, pageants, and literature of the day. The Elizabethan era is famous for the flourishing of English drama, led by playwrights such as William Shakespeare and Christopher Marlowe, the prowess of English maritime adventurers, such as Francis Drake and Walter Raleigh, and for the defeat of the Spanish Armada. Some historians depict Elizabeth as a short-tempered, sometimes indecisive ruler, who enjoyed more than her fair share of luck. Towards the end of her reign, a series of economic and military problems weakened her popularity. Elizabeth is acknowledged as a charismatic performer (\"Gloriana\") and a dogged survivor (\"Good Queen Bess\") in an era when government was ramshackle and limited, and when monarchs in neighbouring countries faced internal problems that jeopardised their thrones. After the short, disastrous reigns of her half-siblings, her 44 years on the throne provided welcome stability for the kingdom and helped to forge a sense of national identity.', 'source': 'https://en.wikipedia.org/wiki/Elizabeth_I'}, page_content='Elizabeth I (7 September 1533 – 24 March 1603) was Queen of England and Ireland from 17 November 1558 until her death in 1603. She was the last and longest reigning monarch of the House of Tudor. Her eventful reign, and its effect on history and culture, gave name to the Elizabethan era.\\nElizabeth was the only surviving child of Henry VIII and his second wife, Anne Boleyn. When Elizabeth was two years old, her parents\\' marriage was annulled, her mother was executed, and Elizabeth was declared illegitimate. Henry restored her to the line of succession when she was 10. After Henry\\'s death in 1547, Elizabeth\\'s younger half-brother Edward VI ruled until his own death in 1553, bequeathing the crown to a Protestant cousin, Lady Jane Grey, and ignoring the claims of his two half-sisters, Mary and Elizabeth, despite statutes to the contrary. Edward\\'s will was quickly set aside and the Catholic Mary became queen, deposing Jane. During Mary\\'s reign, Elizabeth was imprisoned for nearly a year on suspicion of supporting Protestant rebels.\\nUpon Mary\\'s 1558 death, Elizabeth succeeded to the throne and set out to rule by good counsel. She depended heavily on a group of trusted advisers led by William Cecil, whom she created Baron Burghley. One of her first actions as queen was the establishment of an English Protestant church, of which she became the supreme governor. This arrangement, later named the Elizabethan Religious Settlement, would evolve into the Church of England. It was expected that Elizabeth would marry and produce an heir; however, despite numerous courtships, she never did. Because of this she is sometimes referred to as the \"Virgin Queen\". She was succeeded by her cousin, James VI of Scotland.\\nIn government, Elizabeth was more moderate than her father and siblings had been. One of her mottoes was video et taceo (\"I see and keep silent\"). In religion, she was relatively tolerant and avoided systematic persecution. After the pope declared her illegitimate in 1570, which in theory released English Catholics from allegiance to her, several conspiracies threatened her life, all of which were defeated with the help of her ministers\\' secret service, run by Francis Walsingham. Elizabeth was cautious in foreign affairs, manoeuvring between the major powers of France and Spain. She half-heartedly supported a number of ineffective, poorly resourced military campaigns in the Netherlands, France, and Ireland. By the mid-1580s, England could no longer avoid war with Spain.\\nAs she grew older, Elizabeth became celebrated for her virginity. A cult of personality grew around her which was celebrated in the portraits, pageants, and literature of the day. The Elizabethan era is famous for the flourishing of English drama, led by playwrights such as William Shakespeare and Christopher Marlowe, the prowess of English maritime adventurers, such as Francis Drake and Walter Raleigh, and for the defeat of the Spanish Armada. Some historians depict Elizabeth as a short-tempered, sometimes indecisive ruler, who enjoyed more than her fair share of luck. Towards the end of her reign, a series of economic and military problems weakened her popularity. Elizabeth is acknowledged as a charismatic performer (\"Gloriana\") and a dogged survivor (\"Good Queen Bess\") in an era when government was ramshackle and limited, and when monarchs in neighbouring countries faced internal problems that jeopardised their thrones. After the short, disastrous reigns of her half-siblings, her 44 years on the throne provided welcome stability for the kingdom and helped to forge a sense of national identity.\\n\\n\\n== Early life ==\\n\\nElizabeth was born at Greenwich Palace on 7 September 1533 and was named after her grandmothers, Elizabeth of York and Lady Elizabeth Howard. She was the second child of Henry VIII of England born in wedlock to survive infancy. Her mother was Henry VIII\\'s second wife, Anne Boleyn. At birth, Elizabeth was the heir presumptive to the English throne. Her elder '),\n",
              " Document(metadata={'title': 'Elizabeth of Russia', 'summary': \"Elizabeth or Elizaveta Petrovna (Russian: Елизаве́та Петро́вна; 29 December [O.S. 18 December] 1709 – 5 January [O.S. 25 December] 1762) was Empress of Russia from 1741 until her death in 1762. She remains one of the most popular Russian monarchs because of her decision not to execute a single person during her reign, her numerous construction projects, and her strong opposition to Prussian policies. She was the last person on the agnatic line of the Romanovs as her nephew ascended, thus creating the house of Holstein-Gottorp-Romanov.\\nThe second-eldest daughter of Tsar Peter the Great (r.\\u20091682–1725), Elizabeth lived through the confused successions of her father's descendants following her half-brother Alexei's death in 1718. The throne first passed to her mother Catherine I of Russia (r.\\u20091725–1727), then to her nephew Peter II, who died in 1730 and was succeeded by Elizabeth's first cousin Anna (r.\\u20091730–1740). After the brief rule of Anna's infant great-nephew, Ivan VI, Elizabeth seized the throne with the military's support and declared her own nephew, the future Peter III, her heir.\\nDuring her reign Elizabeth continued the policies of her father and brought about a remarkable Age of Enlightenment in Russia. Her domestic policies allowed the nobles to gain dominance in local government while shortening their terms of service to the state. She encouraged Mikhail Lomonosov's foundation of the University of Moscow, the highest-ranking Russian educational institution. Her court became one of the most splendid in all Europe, especially regarding architecture: she modernised Russia's roads, encouraged Ivan Shuvalov's foundation of the Imperial Academy of Arts, and financed grandiose Baroque projects of her favourite architect, Bartolomeo Rastrelli, particularly in Peterhof Palace. The Winter Palace and the Smolny Cathedral in Saint Petersburg are among the chief monuments of her reign.\\nElizabeth led the Russian Empire during the two major European conflicts of her time: the War of Austrian Succession (1740–1748) and the Seven Years' War (1756–1763). She and diplomat Aleksey Bestuzhev-Ryumin solved the first event by forming an alliance with Austria and France, but indirectly caused the second. Russian troops enjoyed several victories against Prussia and briefly occupied Berlin, but when Frederick the Great was finally considering surrender in January 1762, the Russian Empress died. She was the last agnatic member of the House of Romanov to reign over the Russian Empire.\", 'source': 'https://en.wikipedia.org/wiki/Elizabeth_of_Russia'}, page_content='Elizabeth or Elizaveta Petrovna (Russian: Елизаве́та Петро́вна; 29 December [O.S. 18 December] 1709 – 5 January [O.S. 25 December] 1762) was Empress of Russia from 1741 until her death in 1762. She remains one of the most popular Russian monarchs because of her decision not to execute a single person during her reign, her numerous construction projects, and her strong opposition to Prussian policies. She was the last person on the agnatic line of the Romanovs as her nephew ascended, thus creating the house of Holstein-Gottorp-Romanov.\\nThe second-eldest daughter of Tsar Peter the Great (r.\\u20091682–1725), Elizabeth lived through the confused successions of her father\\'s descendants following her half-brother Alexei\\'s death in 1718. The throne first passed to her mother Catherine I of Russia (r.\\u20091725–1727), then to her nephew Peter II, who died in 1730 and was succeeded by Elizabeth\\'s first cousin Anna (r.\\u20091730–1740). After the brief rule of Anna\\'s infant great-nephew, Ivan VI, Elizabeth seized the throne with the military\\'s support and declared her own nephew, the future Peter III, her heir.\\nDuring her reign Elizabeth continued the policies of her father and brought about a remarkable Age of Enlightenment in Russia. Her domestic policies allowed the nobles to gain dominance in local government while shortening their terms of service to the state. She encouraged Mikhail Lomonosov\\'s foundation of the University of Moscow, the highest-ranking Russian educational institution. Her court became one of the most splendid in all Europe, especially regarding architecture: she modernised Russia\\'s roads, encouraged Ivan Shuvalov\\'s foundation of the Imperial Academy of Arts, and financed grandiose Baroque projects of her favourite architect, Bartolomeo Rastrelli, particularly in Peterhof Palace. The Winter Palace and the Smolny Cathedral in Saint Petersburg are among the chief monuments of her reign.\\nElizabeth led the Russian Empire during the two major European conflicts of her time: the War of Austrian Succession (1740–1748) and the Seven Years\\' War (1756–1763). She and diplomat Aleksey Bestuzhev-Ryumin solved the first event by forming an alliance with Austria and France, but indirectly caused the second. Russian troops enjoyed several victories against Prussia and briefly occupied Berlin, but when Frederick the Great was finally considering surrender in January 1762, the Russian Empress died. She was the last agnatic member of the House of Romanov to reign over the Russian Empire.\\n\\n\\n== Early life ==\\n\\n\\n=== Childhood and teenage years ===\\n\\nElizabeth was born at Kolomenskoye, near Moscow, Russia, on 18 December 1709 (O.S.). Her parents were Peter the Great, Tsar of Russia and Catherine. Catherine was the daughter of Samuel Skowroński, a subject of Grand Duchy of Lithuania. Although no documentary record exists, her parents were said to have married secretly at the Cathedral of the Holy Trinity in Saint Petersburg at some point between 23 October and 1 December 1707. Their official marriage was at Saint Isaac\\'s Cathedral in Saint Petersburg on 9 February 1712. On this day, the two children previously born to the couple (Anna and Elizabeth) were legitimised by their father and given the title of Tsarevna (\"princess\") on 6 March 1711. Of the twelve children born to Peter and Catherine (five sons and seven daughters), only the sisters survived to adulthood. They had one older surviving sibling, crown prince Alexei Petrovich, who was Peter\\'s son by his first wife, noblewoman Eudoxia Lopukhina.\\n\\nAs a child, Elizabeth was the favourite of her father, whom she resembled both physically and temperamentally. Even though he adored his daughter, Peter did not devote time or attention to her education; having both a son and grandson from his first marriage to a noblewoman, he did not anticipate that a daughter born to his former maid might one day inherit the Russian throne, which had until that point never been occupied by a woman; as such, it was left to '),\n",
              " Document(metadata={'title': 'Succession to Elizabeth I', 'summary': 'The succession to the childless queen of England Elizabeth I was an open question from her accession in 1558 to her death in 1603, when the crown passed to James VI of Scotland, an event known as the Union of the Crowns. While the accession of James went smoothly, the succession had been the subject of much debate for decades. In some scholarly views, it was a major political factor of the entire reign, even if not so voiced. Separate aspects have acquired their own nomenclature: the \"Norfolk conspiracy\", Patrick Collinson\\'s \"Elizabethan exclusion crisis\", the \"Secret Correspondence\", and the \"Valentine Thomas affair\".\\nThe topics of debate remained obscured by uncertainty.\\nElizabeth I avoided establishing the order of succession in any form, presumably because she feared for her own life once a successor was named.  She was also concerned with England forming a productive relationship with Scotland, whose Catholic and Presbyterian strongholds were resistant to female leadership. Catholic women who would be submissive to the Pope and not to English constitutional law were rejected.\\nThe will of Elizabeth\\'s father, Henry VIII, had named one male and seven females living at his death in 1547 as the line of succession: (1) his son Edward VI, (2) Mary I, (3) Elizabeth I, (4) Jane Grey, (5) Katherine Grey, (6) Mary Grey, and (7) Margaret Clifford. By 1596, Elizabeth had outlived all others.\\nA number of authorities considered that the legal position hinged on documents such as the statute De natis ultra mare of Edward III, and the will of Henry VIII. There were different opinions about the application of these documents. Political, religious and military matters came to predominate later in Elizabeth\\'s reign, in the context of the Anglo-Spanish War.\\n\\n', 'source': 'https://en.wikipedia.org/wiki/Succession_to_Elizabeth_I'}, page_content='The succession to the childless queen of England Elizabeth I was an open question from her accession in 1558 to her death in 1603, when the crown passed to James VI of Scotland, an event known as the Union of the Crowns. While the accession of James went smoothly, the succession had been the subject of much debate for decades. In some scholarly views, it was a major political factor of the entire reign, even if not so voiced. Separate aspects have acquired their own nomenclature: the \"Norfolk conspiracy\", Patrick Collinson\\'s \"Elizabethan exclusion crisis\", the \"Secret Correspondence\", and the \"Valentine Thomas affair\".\\nThe topics of debate remained obscured by uncertainty.\\nElizabeth I avoided establishing the order of succession in any form, presumably because she feared for her own life once a successor was named.  She was also concerned with England forming a productive relationship with Scotland, whose Catholic and Presbyterian strongholds were resistant to female leadership. Catholic women who would be submissive to the Pope and not to English constitutional law were rejected.\\nThe will of Elizabeth\\'s father, Henry VIII, had named one male and seven females living at his death in 1547 as the line of succession: (1) his son Edward VI, (2) Mary I, (3) Elizabeth I, (4) Jane Grey, (5) Katherine Grey, (6) Mary Grey, and (7) Margaret Clifford. By 1596, Elizabeth had outlived all others.\\nA number of authorities considered that the legal position hinged on documents such as the statute De natis ultra mare of Edward III, and the will of Henry VIII. There were different opinions about the application of these documents. Political, religious and military matters came to predominate later in Elizabeth\\'s reign, in the context of the Anglo-Spanish War.\\n\\n\\n== Table ==\\n\\n\\n== Cognatic descent from Henry VII ==\\nDescent from the two daughters of Henry VII who reached adulthood, Margaret and Mary, was the first and main issue in the succession. \\n\\n\\n=== Lennox claim ===\\nMary I of England had died without managing to have her preferred successor and first cousin, Margaret Douglas, Countess of Lennox, nominated by parliament. Margaret Douglas was a daughter of Margaret Tudor, and lived to 1578, but became a marginal figure in discussions of the succession to Elizabeth I, who at no point clarified the dynastic issues of the Tudor line. When in 1565 Margaret Douglas\\'s elder son Henry Stuart, Lord Darnley, married Mary, Queen of Scots, the \"Lennox claim\" was generally regarded as consolidated into the \"Stuart claim\".\\n\\n\\n=== Stuart claimants ===\\nJames VI was the son of two grandchildren of Margaret Tudor. Arbella Stuart, the most serious other contender by the late 16th century, was the daughter of Margaret Douglas, Countess of Lennox\\'s younger son Charles Stuart, 1st Earl of Lennox.\\nJames VI\\'s mother, Mary, Queen of Scots, was considered a plausible successor to the English throne. At the beginning of Elizabeth\\'s reign she sent ambassadors to England when a parliament was summoned, anticipating a role for parliament in settling the succession in her favour. Mary was a Roman Catholic, and her proximity to the succession was a factor in plotting, including the Throckmorton plot and the Babington plot, making her position a political problem for the English government, eventually resolved by judicial means. She was convicted of plotting to assassinate Elizabeth and was executed in 1587. In that year, Mary\\'s son James reached the age of twenty-one, while Arbella was only twelve.\\n\\n\\n=== Suffolk claimants ===\\nWhile the Stuart line of James and Arbella would have had political support, by 1600 the descendants of Mary Tudor were theoretically relevant, and on legal grounds could not be discounted. Frances Grey, Duchess of Suffolk, and Eleanor Clifford, Countess of Cumberland, both had children who were in the line of succession. Frances and Eleanor were Mary Tudor\\'s daughters by her second husband, Charles Brandon, 1st Duke of Suffolk. Frances married Henry Grey'),\n",
              " Document(metadata={'title': 'House of Tudor', 'summary': \"The House of Tudor ( TEW-dər) was an English and Welsh dynasty that held the throne of England from 1485 to 1603. They descended from the Tudors of Penmynydd, a Welsh noble family, and Catherine of Valois. The Tudor monarchs were also descended from the House of Lancaster. They ruled the Kingdom of England and the Lordship of Ireland (later the Kingdom of Ireland) for 118 years with five monarchs: Henry VII, Henry VIII, Edward VI, Mary I and Elizabeth I. The Tudors succeeded the House of Plantagenet as rulers of the Kingdom of England, and were succeeded by the Scottish House of Stuart. The first Tudor monarch, Henry VII, descended through his mother from the House of Beaufort, a legitimised branch of the English royal House of Lancaster, a cadet house of the Plantagenets. The Tudor family rose to power and started the Tudor period in the wake of the Wars of the Roses (1455–1487), which left the main House of Lancaster (with which the Tudors were aligned) extinct in the male line.\\nHenry VII (a descendant of Edward III, and the son of Edmund Tudor, a half-brother of Henry VI) succeeded in presenting himself as a candidate not only for traditional Lancastrian supporters, but also for discontented supporters of their rival Plantagenet cadet House of York, and he took the throne by right of conquest. Following his victory at the Battle of Bosworth Field (22 August 1485), he reinforced his position in 1486 by fulfilling his 1483 vow to marry Elizabeth of York, daughter of King Edward IV and the heiress of the Yorkist claim to the throne, thus symbolically uniting the former warring factions of Lancaster and York under the new dynasty (represented by the Tudor rose). The Tudors extended their power beyond modern England, achieving the full union of England and the Principality of Wales in 1542 (Laws in Wales Acts 1535 and 1542), and successfully asserting English authority over the Kingdom of Ireland (proclaimed by the Crown of Ireland Act 1542). They also maintained the nominal English claim to the Kingdom of France; although none of them made substance of it, Henry VIII fought wars with France primarily as a matter of international alliances but also asserting claim to the title. After him, his daughter Mary I lost control of all territory in France permanently with the Siege of Calais in 1558.\\nIn total, the Tudor monarchs ruled their domains for 118 years. Henry VIII (r.\\u20091509–1547) was the only son of Henry VII to live to the age of maturity, and he proved a dominant ruler. Issues around royal succession (including marriage and the succession rights of women) became major political themes during the Tudor era, as did the English Reformation in religion, impacting the future of the Crown. Elizabeth I was the longest serving Tudor monarch at 44 years, and her reign—known as the Elizabethan Era—provided a period of stability after the short, troubled reigns of her siblings.  When Elizabeth I died childless, her cousin of the Scottish House of Stuart succeeded her, in the Union of the Crowns of 24 March 1603. The first Stuart to become King of England (r.\\u20091603–1625), James VI and I, was a great-grandson of Henry VII's daughter Margaret Tudor, who in 1503 had married James IV of Scotland in accordance with the 1502 Treaty of Perpetual Peace. A connection persists to the present 21st century, as Charles III is a ninth-generation descendant of George I, who in turn was James VI and I's great-grandson.\", 'source': 'https://en.wikipedia.org/wiki/House_of_Tudor'}, page_content=\"The House of Tudor ( TEW-dər) was an English and Welsh dynasty that held the throne of England from 1485 to 1603. They descended from the Tudors of Penmynydd, a Welsh noble family, and Catherine of Valois. The Tudor monarchs were also descended from the House of Lancaster. They ruled the Kingdom of England and the Lordship of Ireland (later the Kingdom of Ireland) for 118 years with five monarchs: Henry VII, Henry VIII, Edward VI, Mary I and Elizabeth I. The Tudors succeeded the House of Plantagenet as rulers of the Kingdom of England, and were succeeded by the Scottish House of Stuart. The first Tudor monarch, Henry VII, descended through his mother from the House of Beaufort, a legitimised branch of the English royal House of Lancaster, a cadet house of the Plantagenets. The Tudor family rose to power and started the Tudor period in the wake of the Wars of the Roses (1455–1487), which left the main House of Lancaster (with which the Tudors were aligned) extinct in the male line.\\nHenry VII (a descendant of Edward III, and the son of Edmund Tudor, a half-brother of Henry VI) succeeded in presenting himself as a candidate not only for traditional Lancastrian supporters, but also for discontented supporters of their rival Plantagenet cadet House of York, and he took the throne by right of conquest. Following his victory at the Battle of Bosworth Field (22 August 1485), he reinforced his position in 1486 by fulfilling his 1483 vow to marry Elizabeth of York, daughter of King Edward IV and the heiress of the Yorkist claim to the throne, thus symbolically uniting the former warring factions of Lancaster and York under the new dynasty (represented by the Tudor rose). The Tudors extended their power beyond modern England, achieving the full union of England and the Principality of Wales in 1542 (Laws in Wales Acts 1535 and 1542), and successfully asserting English authority over the Kingdom of Ireland (proclaimed by the Crown of Ireland Act 1542). They also maintained the nominal English claim to the Kingdom of France; although none of them made substance of it, Henry VIII fought wars with France primarily as a matter of international alliances but also asserting claim to the title. After him, his daughter Mary I lost control of all territory in France permanently with the Siege of Calais in 1558.\\nIn total, the Tudor monarchs ruled their domains for 118 years. Henry VIII (r.\\u20091509–1547) was the only son of Henry VII to live to the age of maturity, and he proved a dominant ruler. Issues around royal succession (including marriage and the succession rights of women) became major political themes during the Tudor era, as did the English Reformation in religion, impacting the future of the Crown. Elizabeth I was the longest serving Tudor monarch at 44 years, and her reign—known as the Elizabethan Era—provided a period of stability after the short, troubled reigns of her siblings.  When Elizabeth I died childless, her cousin of the Scottish House of Stuart succeeded her, in the Union of the Crowns of 24 March 1603. The first Stuart to become King of England (r.\\u20091603–1625), James VI and I, was a great-grandson of Henry VII's daughter Margaret Tudor, who in 1503 had married James IV of Scotland in accordance with the 1502 Treaty of Perpetual Peace. A connection persists to the present 21st century, as Charles III is a ninth-generation descendant of George I, who in turn was James VI and I's great-grandson.\\n\\n\\n== Ascent to the throne ==\\nThe Tudors descended from King Edward III on Henry VII's mother's side from John Beaufort, 1st Earl of Somerset, one of the illegitimate children of the 14th century English prince John of Gaunt, the third surviving son of Edward III. Beaufort's mother was Gaunt's long-term mistress, Katherine Swynford.\\nThe descendants of an illegitimate child of English royalty would normally have no claim on the throne, although Gaunt and Swynford eventually married in 1396, when John Beaufort was 25. The church then retroact\"),\n",
              " Document(metadata={'title': 'Portraiture of Elizabeth I', 'summary': 'The portraiture of Queen Elizabeth I (1533–1603) spans the evolution of English royal portraits in the early modern period (1400/1500-1800), from the earliest representations of simple likenesses to the later complex imagery used to convey the power and aspirations of the state, as well as of the monarch at its head.\\nEven the earliest portraits of Elizabeth I contain symbolic objects such as roses and prayer books that would have carried meaning to viewers of her day. Later portraits of Elizabeth layer the iconography of empire—globes, crowns, swords and columns—and representations of virginity and purity, such as moons and pearls, with classical allusions, to present a complex \"story\" that conveyed to Elizabethan era viewers the majesty and significance of the \\'Virgin Queen\\'.', 'source': 'https://en.wikipedia.org/wiki/Portraiture_of_Elizabeth_I'}, page_content='The portraiture of Queen Elizabeth I (1533–1603) spans the evolution of English royal portraits in the early modern period (1400/1500-1800), from the earliest representations of simple likenesses to the later complex imagery used to convey the power and aspirations of the state, as well as of the monarch at its head.\\nEven the earliest portraits of Elizabeth I contain symbolic objects such as roses and prayer books that would have carried meaning to viewers of her day. Later portraits of Elizabeth layer the iconography of empire—globes, crowns, swords and columns—and representations of virginity and purity, such as moons and pearls, with classical allusions, to present a complex \"story\" that conveyed to Elizabethan era viewers the majesty and significance of the \\'Virgin Queen\\'.\\n\\n\\n== Overview ==\\n\\n\\n=== Portraiture in Tudor England ===\\n\\nTwo portraiture traditions had arisen in the Tudor court since the days of Elizabeth\\'s father, Henry VIII. The portrait miniature developed from the illuminated manuscript tradition. These small personal images were almost invariably painted from life over the space of a few days in watercolours on vellum, stiffened by being glued to a playing card. Panel paintings in oils on prepared wood surfaces were based on preparatory drawings and were usually executed at life size, as were oil paintings on canvas.\\nUnlike her contemporaries in France, Elizabeth never granted rights to produce her portrait to a single artist, although Nicholas Hilliard was appointed her official limner, or miniaturist and goldsmith. George Gower, a fashionable court portraitist created Serjeant Painter in 1581, was responsible for approving all portraits of the Queen created by other artists from 1581 until his death in 1596.\\nElizabeth sat for a number of artists over the years, including Hilliard, Cornelis Ketel, Federico Zuccari, Isaac Oliver, and most likely to Gower and Marcus Gheeraerts the Younger. Portraits were commissioned by the government as gifts to foreign monarchs and to show to prospective suitors. Courtiers commissioned heavily symbolic paintings to demonstrate their devotion to the Queen, and the fashionable long galleries of later Elizabethan country houses were filled with sets of portraits. The studios of Tudor artists produced images of Elizabeth working from approved \"face patterns\", or approved drawings of the Queen, to meet this growing demand for her image, an important symbol of loyalty and reverence for the crown in times of turbulence.\\n\\n\\n=== European context ===\\n\\nBy far the most impressive models of portraiture available to English portraitists were the many portraits by Hans Holbein the Younger, the outstanding Northern portraitist of the first half of the 16th century, who had made two lengthy visits to England, and had been Henry VIII\\'s court artist. Holbein had accustomed the English court to the full-length life-size portrait, although none of his originals now survive. His great dynastic mural at Whitehall Palace, destroyed by fire in 1698, and perhaps other original large portraits, would have been familiar to Elizabethan artists.\\nBoth Holbein and his great Italian contemporary Titian had combined great psychological penetration with a sufficiently majestic impression to satisfy their royal patrons. By his second visit, Holbein had already begun to move away from a strictly realist depiction; in his Jane Seymour, \"the figure is no longer seen as displacing with its bulk a recognizable section of space: it approaches rather to a flat pattern, made alive by a bounding and vital outline\". This tendency was to be taken much further by the later portraits of Elizabeth, where \"Likeness of feature and an interest in form and volume have gradually been abandoned in favour of an effect of splendid majesty obtained by decorative pattern, and the forms have been flattened accordingly\".\\n\\nTitian continued to paint royal portraits, especially of Philip II of Spain, until the 1570s, but in sharply reduced n'),\n",
              " Document(metadata={'title': 'Elizabeth Stuart, Queen of Bohemia', 'summary': 'Elizabeth Stuart (19 August 1596 – 13 February 1662) was Electress of the Palatinate and briefly Queen of Bohemia as the wife of Frederick V of the Palatinate. The couple\\'s selection for the crown by the nobles of Bohemia was part of the political and religious turmoil that set off the Thirty Years\\' War. Since her husband\\'s reign in Bohemia lasted over only one winter, she is called \"The Winter Queen\" (German: Die Winterkönigin, Czech: Zimní královna).\\nPrincess Elizabeth was the only surviving daughter of James VI and I, King of Scotland, England, and Ireland, and his queen, Anne of Denmark; she was the elder sister of Charles I. Born in Scotland, she was named in honour of her father\\'s predecessor and cousin in England, Elizabeth I. During Elizabeth Stuart\\'s childhood, unbeknownst to her, part of the failed Gunpowder Plot was a scheme to replace her father with her on the throne, and forcibly raise her as a Catholic.\\nHer father later arranged for her marriage to the Protestant Frederick V, a senior prince of the Holy Roman Empire. They were married in the Chapel Royal in the Palace of Whitehall, and then left for his lands in Germany. Their marriage proved successful, but after they left Bohemia, they spent years in exile in The Hague, while the Thirty Years\\' War continued. In her widowhood, she eventually returned to England at the end of her own life during the Stuart Restoration of her nephew and is buried in Westminster Abbey.\\nWith the demise in 1714 of Elizabeth\\'s great-niece, Anne, Queen of Great Britain, the last Stuart monarch, the British throne passed to her grandson (by her daughter Sophia of Hanover) as George I, initiating the rule of the House of Hanover.', 'source': 'https://en.wikipedia.org/wiki/Elizabeth_Stuart,_Queen_of_Bohemia'}, page_content='Elizabeth Stuart (19 August 1596 – 13 February 1662) was Electress of the Palatinate and briefly Queen of Bohemia as the wife of Frederick V of the Palatinate. The couple\\'s selection for the crown by the nobles of Bohemia was part of the political and religious turmoil that set off the Thirty Years\\' War. Since her husband\\'s reign in Bohemia lasted over only one winter, she is called \"The Winter Queen\" (German: Die Winterkönigin, Czech: Zimní královna).\\nPrincess Elizabeth was the only surviving daughter of James VI and I, King of Scotland, England, and Ireland, and his queen, Anne of Denmark; she was the elder sister of Charles I. Born in Scotland, she was named in honour of her father\\'s predecessor and cousin in England, Elizabeth I. During Elizabeth Stuart\\'s childhood, unbeknownst to her, part of the failed Gunpowder Plot was a scheme to replace her father with her on the throne, and forcibly raise her as a Catholic.\\nHer father later arranged for her marriage to the Protestant Frederick V, a senior prince of the Holy Roman Empire. They were married in the Chapel Royal in the Palace of Whitehall, and then left for his lands in Germany. Their marriage proved successful, but after they left Bohemia, they spent years in exile in The Hague, while the Thirty Years\\' War continued. In her widowhood, she eventually returned to England at the end of her own life during the Stuart Restoration of her nephew and is buried in Westminster Abbey.\\nWith the demise in 1714 of Elizabeth\\'s great-niece, Anne, Queen of Great Britain, the last Stuart monarch, the British throne passed to her grandson (by her daughter Sophia of Hanover) as George I, initiating the rule of the House of Hanover.\\n\\n\\n== Early life ==\\n\\nElizabeth was born at Dunfermline Palace, Fife, on 19 August 1596 at 2 o\\'clock in the morning. King James rode to the bedside from Callendar, where he was attending the wedding of the Earl of Orkney. At the time of her birth, her father was King of Scotland, but not yet King of England. Named in honour of Elizabeth I of England, her godmother, the young Elizabeth was christened on 28 November 1596 in the Chapel Royal at Holyroodhouse, and was then proclaimed by the heralds as \"Lady Elizabeth\". During her early life in Scotland, Elizabeth was brought up at Linlithgow Palace, where she was placed in the care of Lord Livingstone and his wife, Eleanor Hay. A couple of years later the king\\'s second daughter, Margaret, was placed in their care as well. Elizabeth \"did not pay particular attention to this younger sister\", as even at this young age her affections were with her brother, Henry.\\n\\n\\n=== Move to England ===\\nWhen Queen Elizabeth I of England died in 1603, Elizabeth Stuart\\'s father, James, succeeded as King of England and Ireland. The Countess of Kildare was appointed the princess\\'s governess. Along with her elder brother, Henry, Elizabeth made the journey southward to England with her mother \"in a triumphal progress of perpetual entertainment\". On her father\\'s birthday, 19 June, Elizabeth danced at Worksop Manor with Robert Cecil\\'s son.\\nElizabeth remained at court for a few weeks, but \"there is no evidence that she was present at her parents\\' coronation\" on 25 July 1603. It seems likely that by this time the royal children already had been removed to Oatlands, an old Tudor hunting lodge near Weybridge. There was plague in London, and Prince Henry and Princess Elizabeth were moved to Winchester. Her mother, Anne of Denmark, produced a masque to welcome them. On 19 October 1603 \"an order was issued under the privy seal announcing that the King had thought fit to commit the keeping and education of the Lady Elizabeth to the Lord Harrington [sic] and his wife\".\\nUnder the care of Lord and Lady Harington at Coombe Abbey, Elizabeth met Anne Dudley, with whom she was to strike up a lifelong friendship. On 3 April 1604, Princess Elizabeth and her ladies rode from Coombe Abbey to Coventry. The Mayor and Aldermen met her at \"Jabet\\'s Ash on Stoke-green'),\n",
              " Document(metadata={'title': 'Mary, Queen of Scots', 'summary': \"Mary, Queen of Scots (8 December 1542 – 8 February 1587), also known as Mary Stuart or Mary I of Scotland, was Queen of Scotland from 14 December 1542 until her forced abdication on 24 July 1567.\\nThe only surviving legitimate child of James V of Scotland, Mary was six days old when her father died and she inherited the throne. During her childhood, Scotland was governed by regents, first by the heir to the throne, James Hamilton, Earl of Arran, and then by her mother, Mary of Guise. In 1548, she was betrothed to Francis, the Dauphin of France, and was sent to be brought up in France, where she would be safe from invading English forces during the Rough Wooing. Mary married Francis in 1558, becoming queen consort of France from his accession in 1559 until his death in December 1560. Widowed, Mary returned to Scotland in August 1561. The tense religious and political climate following the Scottish Reformation that Mary encountered on her return to Scotland was further agitated by prominent Scots such as John Knox, who openly questioned whether her subjects had a duty to obey her. The early years of her personal rule were marked by pragmatism, tolerance, and moderation. She issued a proclamation accepting the religious settlement in Scotland as she had found it upon her return, retained advisers such as James Stewart, Earl of Moray (her illegitimate half-brother), and William Maitland of Lethington, and governed as the Catholic monarch of a Protestant kingdom.\\nIn 1565, Mary married her half-cousin Henry Stuart, Lord Darnley; they had a son, James. Their marriage soured after Darnley orchestrated the murder of Mary's Italian secretary and close friend David Rizzio. In February 1567, Darnley's residence was destroyed by an explosion, and he was found murdered in the nearby garden. James Hepburn, 4th Earl of Bothwell, was generally believed to have orchestrated Darnley's death, but he was acquitted of the charge in April 1567 and in the following month he married Mary. Following an uprising against the couple, Mary was imprisoned in Lochleven Castle. In July 1567, she was forced to abdicate in favour of her one-year-old son James VI. After an unsuccessful attempt to regain the throne, she fled southward seeking the protection of her first cousin once removed, Elizabeth I of England.\\nAs a great-granddaughter of Henry VII of England, Mary had once claimed Elizabeth's throne as her own and was considered the legitimate sovereign of England by many English Catholics, including participants in a rebellion known as the Rising of the North. Perceiving Mary as a threat, Elizabeth had her confined in various castles and manor houses in the interior of England. After eighteen and a half years in captivity, Mary was found guilty of plotting to assassinate Elizabeth in 1586 and was beheaded the following year at Fotheringhay Castle. Mary's life and execution established her in popular culture as a romanticised historical character.\", 'source': 'https://en.wikipedia.org/wiki/Mary,_Queen_of_Scots'}, page_content='Mary, Queen of Scots (8 December 1542 – 8 February 1587), also known as Mary Stuart or Mary I of Scotland, was Queen of Scotland from 14 December 1542 until her forced abdication on 24 July 1567.\\nThe only surviving legitimate child of James V of Scotland, Mary was six days old when her father died and she inherited the throne. During her childhood, Scotland was governed by regents, first by the heir to the throne, James Hamilton, Earl of Arran, and then by her mother, Mary of Guise. In 1548, she was betrothed to Francis, the Dauphin of France, and was sent to be brought up in France, where she would be safe from invading English forces during the Rough Wooing. Mary married Francis in 1558, becoming queen consort of France from his accession in 1559 until his death in December 1560. Widowed, Mary returned to Scotland in August 1561. The tense religious and political climate following the Scottish Reformation that Mary encountered on her return to Scotland was further agitated by prominent Scots such as John Knox, who openly questioned whether her subjects had a duty to obey her. The early years of her personal rule were marked by pragmatism, tolerance, and moderation. She issued a proclamation accepting the religious settlement in Scotland as she had found it upon her return, retained advisers such as James Stewart, Earl of Moray (her illegitimate half-brother), and William Maitland of Lethington, and governed as the Catholic monarch of a Protestant kingdom.\\nIn 1565, Mary married her half-cousin Henry Stuart, Lord Darnley; they had a son, James. Their marriage soured after Darnley orchestrated the murder of Mary\\'s Italian secretary and close friend David Rizzio. In February 1567, Darnley\\'s residence was destroyed by an explosion, and he was found murdered in the nearby garden. James Hepburn, 4th Earl of Bothwell, was generally believed to have orchestrated Darnley\\'s death, but he was acquitted of the charge in April 1567 and in the following month he married Mary. Following an uprising against the couple, Mary was imprisoned in Lochleven Castle. In July 1567, she was forced to abdicate in favour of her one-year-old son James VI. After an unsuccessful attempt to regain the throne, she fled southward seeking the protection of her first cousin once removed, Elizabeth I of England.\\nAs a great-granddaughter of Henry VII of England, Mary had once claimed Elizabeth\\'s throne as her own and was considered the legitimate sovereign of England by many English Catholics, including participants in a rebellion known as the Rising of the North. Perceiving Mary as a threat, Elizabeth had her confined in various castles and manor houses in the interior of England. After eighteen and a half years in captivity, Mary was found guilty of plotting to assassinate Elizabeth in 1586 and was beheaded the following year at Fotheringhay Castle. Mary\\'s life and execution established her in popular culture as a romanticised historical character.\\n\\n\\n== Childhood and early reign ==\\n\\nMary was born on 8 December 1542 at Linlithgow Palace, Scotland, to King James V and his French second wife, Mary of Guise. She was said to have been born prematurely and was the only legitimate child of James to survive him. She was the great-granddaughter of King Henry VII of England through her paternal grandmother, Margaret Tudor. Margaret was Henry VIII\\'s older sister so Mary was Henry VIII\\'s great-niece. On 14 December, six days after her birth, she became Queen of Scotland when her father died, perhaps from the effects of a nervous collapse following the Battle of Solway Moss or from drinking contaminated water while on campaign.\\nA popular tale, first recorded by John Knox, states that James, upon hearing on his deathbed that his wife had given birth to a daughter, ruefully exclaimed, \"It cam wi\\' a lass and it will \\tgang wi\\' a lass!\" His House of Stuart had gained the throne of Scotland in the 14th century through \"a lass\"—via the marriage of Marjorie Bruce, daughter of Rober'),\n",
              " Document(metadata={'title': 'Francis Walsingham', 'summary': 'Sir Francis Walsingham (c.\\u20091532 – 6 April 1590) was principal secretary to Queen Elizabeth I of England from 20 December 1573 until his death and is popularly remembered as her \"spymaster\".\\nBorn to a well-connected family of gentry, Walsingham attended Cambridge University and travelled in continental Europe before embarking on a career in law at the age of twenty. A committed Protestant, during the reign of the Catholic Queen Mary I of England he joined other expatriates in exile in Switzerland and northern Italy until Mary\\'s death and the accession of her Protestant half-sister, Elizabeth.\\nWalsingham rose from relative obscurity to become one of the small coterie who directed the Elizabethan state, overseeing foreign, domestic and religious policy. He served as English ambassador to France in the early 1570s and witnessed the St. Bartholomew\\'s Day massacre. As principal secretary, he supported exploration, colonisation, the development of the navy, and the plantation of Ireland. He worked to bring Scotland and England together. Overall, his foreign policy demonstrated a new understanding of the role of England as a maritime Protestant power with intercontinental trading ties. He oversaw operations that penetrated Spanish military preparation, gathered intelligence from across Europe, disrupted a range of plots against Elizabeth and secured the execution of Mary, Queen of Scots.', 'source': 'https://en.wikipedia.org/wiki/Francis_Walsingham'}, page_content='Sir Francis Walsingham (c.\\u20091532 – 6 April 1590) was principal secretary to Queen Elizabeth I of England from 20 December 1573 until his death and is popularly remembered as her \"spymaster\".\\nBorn to a well-connected family of gentry, Walsingham attended Cambridge University and travelled in continental Europe before embarking on a career in law at the age of twenty. A committed Protestant, during the reign of the Catholic Queen Mary I of England he joined other expatriates in exile in Switzerland and northern Italy until Mary\\'s death and the accession of her Protestant half-sister, Elizabeth.\\nWalsingham rose from relative obscurity to become one of the small coterie who directed the Elizabethan state, overseeing foreign, domestic and religious policy. He served as English ambassador to France in the early 1570s and witnessed the St. Bartholomew\\'s Day massacre. As principal secretary, he supported exploration, colonisation, the development of the navy, and the plantation of Ireland. He worked to bring Scotland and England together. Overall, his foreign policy demonstrated a new understanding of the role of England as a maritime Protestant power with intercontinental trading ties. He oversaw operations that penetrated Spanish military preparation, gathered intelligence from across Europe, disrupted a range of plots against Elizabeth and secured the execution of Mary, Queen of Scots.\\n\\n\\n== Origins and early life ==\\n\\nFrancis Walsingham was born around 1532, probably at Foots Cray, near Chislehurst in Kent, the only son of William Walsingham (died 1534), a successful and well-connected London lawyer who served as a member of the commission appointed to investigate the estates of Cardinal Thomas Wolsey in 1530. William\\'s elder brother was Sir Edmund Walsingham, Lieutenant of the Tower of London.\\nFrancis\\'s mother was Joyce Denny, a daughter of the courtier Sir Edmund Denny of Cheshunt in Hertfordshire, and a sister of the courtier Sir Anthony Denny, the principal Gentleman of the Privy Chamber to King Henry VIII. After the death of her first husband she married the courtier Sir John Carey in 1538. Carey\\'s brother William was the husband of Mary Boleyn, the elder sister of Anne Boleyn, the second wife of King Henry VIII.\\nOf Francis\\'s five siblings, Mary married Sir Walter Mildmay, who was Chancellor of the Exchequer for over 20 years, and Elizabeth married the parliamentarian Peter Wentworth.\\nFrancis Walsingham matriculated at King\\'s College, Cambridge, in 1548 with many other Protestants but as an undergraduate of high social status did not sit for a degree. From 1550 or 1551, he travelled in continental Europe, returning to England by 1552 to enrol at Gray\\'s Inn, one of the qualifying bodies for English lawyers.\\nUpon the death in 1553 of Henry VIII\\'s successor, Edward VI, Edward\\'s Catholic half-sister Mary became queen. Many wealthy Protestants, such as John Foxe and John Cheke, fled England, and Walsingham was among them. He continued his studies in law at the universities of Basel and Padua, where he was elected to the governing body by his fellow students in 1555.\\n\\n\\n== Rise to power ==\\nMary I died in November 1558 and was succeeded by her Protestant half-sister Elizabeth. Walsingham returned to England and through the support of one of his fellow former exiles, Francis Russell, 2nd Earl of Bedford, he was elected to Elizabeth\\'s first parliament as the member for Bossiney, Cornwall, in 1559. At the subsequent election in 1563, he was returned for both Lyme Regis, Dorset, another constituency under Bedford\\'s influence, and Banbury, Oxfordshire. He chose to sit for Lyme Regis. In January 1562 he married Anne, daughter of Sir George Barne, Lord Mayor of London in 1552–3, and widow of wine merchant Alexander Carleill. Anne died two years later leaving her son Christopher Carleill in Walsingham\\'s care. In 1566, Walsingham married Ursula St. Barbe, widow of Sir Richard Worsley, and Walsingham acquired her estates of Appuldurcombe and Cari'),\n",
              " Document(metadata={'title': 'Francis, Duke of Anjou', 'summary': \"Monsieur François, Duke of Anjou and Alençon (French: Hercule François; 18 March 1555 – 10 June 1584) was the youngest son of King Henry II of France and Catherine de' Medici.\", 'source': 'https://en.wikipedia.org/wiki/Francis,_Duke_of_Anjou'}, page_content='Monsieur François, Duke of Anjou and Alençon (French: Hercule François; 18 March 1555 – 10 June 1584) was the youngest son of King Henry II of France and Catherine de\\' Medici.\\n\\n\\n== Early years ==\\nHe was scarred by smallpox at age eight, and his pitted face and slightly deformed spine did not suit his birth name of Hercule. He changed his name to Francis in honour of his late brother Francis II of France when he was confirmed.\\nThe royal children were raised under the supervision of the governor and governess of the royal children, Claude d\\'Urfé and Françoise d\\'Humières, under the orders of Diane de Poitiers.\\nIn 1574, following the death of his brother Charles IX of France and the accession of his other brother, Henry III of France, he became heir to the throne. In 1576 he was made Duke of Anjou, Touraine, and Berry.\\n\\n\\n== Alençon and the Huguenots ==\\nDuring the night of 13 September 1575, Alençon fled from the French court after being alienated from his brother King Henry III as they had had some differences. Both Henry III and Catherine de\\' Medici feared he would join the Protestant rebels. These fears proved well-founded; Francis joined the prince of Condé and his forces in the south. In February 1576, Henry, King of Navarre escaped from the French court, whereupon his forces also joined Condé. This combined army was enough to force Henry III, without a pitched battle of any sort, to capitulate and sign the very pro-Protestant \"peace of Monsieur\", or Edict of Beaulieu, on 6 May 1576. By \"secret treaties\" which formed part of this peace settlement, many on the Protestant side were rewarded with land and titles. Francis was awarded the Duchy of Anjou (along with other lands) and thus became the Duke of Anjou. He had the writer Jean de La Gessée as a secretary.\\n\\n\\n== Courting Elizabeth I ==\\n\\nIn 1579, negotiations commenced for marrying Anjou to Elizabeth I of England. The Duke of Anjou was in fact the only one of Elizabeth\\'s foreign suitors to court her in person. He made two visits to England, in 1579 and 1581. He was 24 and Elizabeth was 46. Despite the age gap, the two soon became very close, Elizabeth dubbing him her \"frog.\" While a few believe this nickname arose from a frog-shaped earring he had given her, \"frog\" has been an unflattering slang nickname for the French for centuries. Whether or not Elizabeth truly planned to marry Anjou is a hotly debated topic. She was quite fond of him, knowing that he was probably going to be her last suitor. The match was controversial among the English public: English Protestants warned the Queen that the \"hearts [of the English people] will be galled when they shall see you take to husband a Frenchman, and a Papist ... the very common people well know this: that he is the son of the Jezebel of our age,\" referring to the Duke\\'s mother, Catherine de\\' Medici. Among members of Elizabeth\\'s Privy Council, only William Cecil, Lord Burghley, and Thomas Radclyffe, 3rd Earl of Sussex, supported the marriage scheme wholeheartedly. Most notable councillors, foremost among them Robert Dudley, 1st Earl of Leicester, and Sir Francis Walsingham, strongly opposed it, even warning the Queen of the hazards of childbirth at her age.\\nBetween 1578 and 1581 the Queen resurrected attempts to negotiate a marriage with the Duke of Alençon. The Duke put himself forward as a protector of the Huguenots and a potential leader of the Dutch. In these years, Walsingham became friends with the diplomat of Henry of Navarre in England, the anti-monarchist Philippe de Mornay. Walsingham was sent to France in mid-1581 to discuss an Anglo-French alliance, but the French wanted the marriage agreed first, and Walsingham had instructions to obtain a treaty before committing to the marriage. He returned to England without an agreement. Personally Walsingham opposed the marriage, perhaps to the point of encouraging public opposition. Alençon was a Catholic and as his elder brother, Henry III, was childless, he was heir presumptive'),\n",
              " Document(metadata={'title': 'Mary I of England', 'summary': 'Mary I (18 February 1516 – 17 November 1558), also known as Mary Tudor, was Queen of England and Ireland from July 1553 and Queen of Spain as the wife of King Philip II from January 1556 until her death in 1558. She made vigorous attempts to reverse the English Reformation, which had begun during the reign of her father, King Henry VIII. Her attempt to restore to the Church the property confiscated in the previous two reigns was largely thwarted by Parliament but, during her five-year reign, more than 280 religious dissenters were burned at the stake in what became known as the Marian persecutions, leading later commentators to label her \"Bloody Mary\".\\nMary was the only surviving child of Henry VIII by his first wife, Catherine of Aragon. She was declared illegitimate and barred from the line of succession following the annulment of her parents\\' marriage in 1533, but was restored via the Third Succession Act 1543. Her younger half-brother, Edward VI, succeeded their father in 1547 at the age of nine. When Edward became terminally ill in 1553, he attempted to remove Mary from the line of succession because he supposed, correctly, that she would reverse the Protestant reforms that had taken place during his reign. Upon his death, leading politicians proclaimed their Protestant cousin, Lady Jane Grey, as queen instead. Mary speedily assembled a force in East Anglia and deposed Jane.\\nMary was—excluding the disputed reigns of Jane and the Empress Matilda—the first queen regnant of England. In July 1554, she married Philip of Spain, becoming queen consort of Habsburg Spain on his accession in 1556. After Mary\\'s death in 1558, her re-establishment of Roman Catholicism in England was reversed by her younger half-sister and successor, Elizabeth I.', 'source': 'https://en.wikipedia.org/wiki/Mary_I_of_England'}, page_content='Mary I (18 February 1516 – 17 November 1558), also known as Mary Tudor, was Queen of England and Ireland from July 1553 and Queen of Spain as the wife of King Philip II from January 1556 until her death in 1558. She made vigorous attempts to reverse the English Reformation, which had begun during the reign of her father, King Henry VIII. Her attempt to restore to the Church the property confiscated in the previous two reigns was largely thwarted by Parliament but, during her five-year reign, more than 280 religious dissenters were burned at the stake in what became known as the Marian persecutions, leading later commentators to label her \"Bloody Mary\".\\nMary was the only surviving child of Henry VIII by his first wife, Catherine of Aragon. She was declared illegitimate and barred from the line of succession following the annulment of her parents\\' marriage in 1533, but was restored via the Third Succession Act 1543. Her younger half-brother, Edward VI, succeeded their father in 1547 at the age of nine. When Edward became terminally ill in 1553, he attempted to remove Mary from the line of succession because he supposed, correctly, that she would reverse the Protestant reforms that had taken place during his reign. Upon his death, leading politicians proclaimed their Protestant cousin, Lady Jane Grey, as queen instead. Mary speedily assembled a force in East Anglia and deposed Jane.\\nMary was—excluding the disputed reigns of Jane and the Empress Matilda—the first queen regnant of England. In July 1554, she married Philip of Spain, becoming queen consort of Habsburg Spain on his accession in 1556. After Mary\\'s death in 1558, her re-establishment of Roman Catholicism in England was reversed by her younger half-sister and successor, Elizabeth I.\\n\\n\\n== Birth and family ==\\nMary was born on 18 February 1516 at the Palace of Placentia in Greenwich, England. She was the only child of King Henry VIII and his first wife, Catherine of Aragon, to survive infancy. Before Mary, her mother had three miscarriages and stillbirths and one short-lived son, Henry, Duke of Cornwall.  \\nMary was baptised into the Catholic faith at the Church of the Observant Friars in Greenwich three days after her birth. Her godparents included Lord Chancellor Thomas Wolsey; her great-aunt Catherine, Countess of Devon; and Agnes Howard, Duchess of Norfolk. Henry VIII\\'s first cousin once removed, Margaret Pole, Countess of Salisbury, stood sponsor for Mary\\'s confirmation, which was conducted immediately after the baptism. The following year, Mary became a godmother herself when she was named as one of the sponsors of her cousin Frances Brandon. In 1520, the Countess of Salisbury was appointed Mary\\'s governess. Sir John Hussey (later Lord Hussey) was her chamberlain from 1530, and his wife Lady Anne, daughter of George Grey, 2nd Earl of Kent, was one of Mary\\'s attendants.\\n\\n\\n== Childhood ==\\n\\nMary was a precocious child. In July 1520, when scarcely four and a half years old, she entertained a visiting French delegation with a performance on the virginals (a type of harpsichord). A great part of her early education came from her mother, who consulted the Spanish humanist Juan Luis Vives for advice and commissioned him to write De Institutione Feminae Christianae, a treatise on the education of girls. By the age of nine, Mary could read and write Latin. She studied French, Spanish, music, dance, and perhaps Greek. Henry VIII doted on her and boasted to the Venetian ambassador Sebastian Giustinian that she never cried. Mary had a fair complexion with pale blue eyes and red or reddish-golden hair, traits very similar to those of her parents. She was ruddy-cheeked, a trait she inherited from her father.\\nDespite his affection for Mary, Henry was deeply disappointed that his marriage had produced no sons. By the time Mary was nine years old, it was apparent that Henry and Catherine would have no more children, leaving Henry without a legitimate male heir. In 1525, Henry sent Mary '),\n",
              " Document(metadata={'title': 'Elizabeth (film)', 'summary': \"Elizabeth is a 1998 British biographical historical drama film directed by Shekhar Kapur and written by Michael Hirst. It stars Cate Blanchett as the titular Elizabeth I of England, with Geoffrey Rush, Christopher Eccleston, Joseph Fiennes, John Gielgud, and Richard Attenborough in supporting roles. The film is based on the early years of Elizabeth's reign, where she is elevated to the throne after the death of her half-sister Mary I, who had imprisoned her. As she establishes herself on the throne, she faces plots and threats to take her down.\\nElizabeth premiered at the 55th Venice International Film Festival on 8 September 1998 and was theatrically released in the United Kingdom on 23 October. The film became a critical and commercial success. Reviewers praised Kapur's direction, costume design, production values and most notably Blanchett's titular performance, bringing her to international recognition, while the film grossed $82 million against its $30 million budget.\\nThe film received three nominations at the 56th Golden Globe Awards, including for the Best Motion Picture – Drama, with Blanchett winning Best Actress. It received twelve nominations at the 52nd British Academy Film Awards, winning five awards, including Outstanding British Film, and Best Actress (for Blanchett). At the 71st Academy Awards, it received seven nominations, including for Best Picture and Best Actress (for Blanchett), winning Best Makeup. In 2007, Blanchett and Rush reprised their roles in Kapur's follow-up film Elizabeth: The Golden Age, which covers the later part of Elizabeth's reign.\", 'source': 'https://en.wikipedia.org/wiki/Elizabeth_(film)'}, page_content=\"Elizabeth is a 1998 British biographical historical drama film directed by Shekhar Kapur and written by Michael Hirst. It stars Cate Blanchett as the titular Elizabeth I of England, with Geoffrey Rush, Christopher Eccleston, Joseph Fiennes, John Gielgud, and Richard Attenborough in supporting roles. The film is based on the early years of Elizabeth's reign, where she is elevated to the throne after the death of her half-sister Mary I, who had imprisoned her. As she establishes herself on the throne, she faces plots and threats to take her down.\\nElizabeth premiered at the 55th Venice International Film Festival on 8 September 1998 and was theatrically released in the United Kingdom on 23 October. The film became a critical and commercial success. Reviewers praised Kapur's direction, costume design, production values and most notably Blanchett's titular performance, bringing her to international recognition, while the film grossed $82 million against its $30 million budget.\\nThe film received three nominations at the 56th Golden Globe Awards, including for the Best Motion Picture – Drama, with Blanchett winning Best Actress. It received twelve nominations at the 52nd British Academy Film Awards, winning five awards, including Outstanding British Film, and Best Actress (for Blanchett). At the 71st Academy Awards, it received seven nominations, including for Best Picture and Best Actress (for Blanchett), winning Best Makeup. In 2007, Blanchett and Rush reprised their roles in Kapur's follow-up film Elizabeth: The Golden Age, which covers the later part of Elizabeth's reign.\\n\\n\\n== Plot ==\\nIn 1558, 42-year-old Catholic Queen Mary I of England, the daughter of Henry VIII and his first wife, Catherine of Aragon, dies, presumably from a cancerous tumor in her womb. Mary's heir presumptive and 25-year-old half sister, Lady Elizabeth, daughter of Henry and his second wife, Anne Boleyn, was under house arrest for suspected involvement in Thomas Wyatt the Younger's rebellion, is now freed from her imprisonment and crowned as Queen of England.\\nAs briefed by her adviser, Sir William Cecil, Elizabeth inherits a distressed England besieged by debts, crumbling infrastructure, hostile neighbours, and treasonous nobles within her administration, chief among them, Thomas Howard, 4th Duke of Norfolk. Cecil tells Elizabeth that she must marry, produce an heir, and secure her rule. Unimpressed with her suitors, Elizabeth delays her decision and continues her affair with Lord Robert Dudley, her childhood friend. Cecil appoints Francis Walsingham, a Protestant exile returned from France, to act as Elizabeth's bodyguard and adviser.\\nMary of Guise, acting as regent for her young daughter, Mary, Queen of Scots, brings an additional 4,000 French troops to neighbouring Scotland. Unfamiliar with military strategy and browbeaten by Norfolk at the war council, Elizabeth orders a military response, which proves disastrous when the professional French soldiers defeat the inexperienced, ill-trained English forces. Walsingham tells Elizabeth that Catholic lords and priests intentionally deprived Elizabeth's army of proper soldiers and used their defeat to argue for Elizabeth's removal. Realising the depth of the conspiracy against her and her dwindling options, Elizabeth accepts Mary of Guise's conditions to consider marrying her nephew Henry, Duke of Anjou.\\nTo stabilise her rule and heal England's religious divisions, Elizabeth proposes the Act of Uniformity, which unites English Christians under the Church of England and severs their connection to the Vatican. In response to the Act's passage, the Vatican sends a priest to England to aid Norfolk and his cohorts in their growing plot to overthrow Elizabeth. Unaware of the plot, Elizabeth meets Henry of France but ignores his advances in favour of Lord Robert. William Cecil confronts Elizabeth over her indecisiveness about marrying and reveals that Lord Dudley is married. Elizabeth rejects Henry's marriage proposal \"),\n",
              " Document(metadata={'title': 'Inventory of Elizabeth I', 'summary': \"The Inventory of Elizabeth I recorded the costume and gold and silver plate belonging to Elizabeth I in several inventories, and other documents, including rolls of New Year's Day gifts. Arthur Jefferies Collins published the Jewels and Plate of Queen Elizabeth I: The Inventory of 1574 from manuscripts in 1955. The published inventory describes jewels and silver-plate belonging to Elizabeth with detailed references to other source material. Two inventories of Elizabeth's costume and some of her jewellery were published by Janet Arnold in Queen Elizabeth's Wardrobe Unlocke'd (Maney, 1988).\\n\\n\", 'source': 'https://en.wikipedia.org/wiki/Inventory_of_Elizabeth_I'}, page_content='The Inventory of Elizabeth I recorded the costume and gold and silver plate belonging to Elizabeth I in several inventories, and other documents, including rolls of New Year\\'s Day gifts. Arthur Jefferies Collins published the Jewels and Plate of Queen Elizabeth I: The Inventory of 1574 from manuscripts in 1955. The published inventory describes jewels and silver-plate belonging to Elizabeth with detailed references to other source material. Two inventories of Elizabeth\\'s costume and some of her jewellery were published by Janet Arnold in Queen Elizabeth\\'s Wardrobe Unlocke\\'d (Maney, 1988).\\n\\n\\n== Introduction ==\\nIn 1574 the office of the Jewel House was located in a two-storey building on the south side of the White Tower. This contained the records of the jewels and packing materials for sending jewels to court. The 1574 inventory was made by John Astley, Master and Treasurer of the Jewel House. The Master had an annual salary of £50 and was able to exact payments from goldsmiths appointed to work for the Jewel House, and those who transported plate from the House to diplomats. The post was lucrative, but some of the perquisites of the role were exaggerated or overstated by Sir Gilbert Talbot, who was made Master in 1660 and in 1680 wrote a treatise entitled Of the Jewel house. In the inventory the items were listed in categories; below an outline of the main categories is given with some examples of the 1,605 entries.\\nThe sources used by Collins were British Library Harley MS 1560 and Stowe MS 555 (see external links for digitised manuscripts). The manuscripts represent the \"Quenis Majesties juelles plate and other stuff\" in 1574 and additions by gift or purchase over the next 20 years which were kept in the Jewel House at the Tower of London. Collins also collated information from other books and manuscripts to cross-reference information about the objects listed. Gifts of plate to the queen passed from the Privy Chamber to the Jewel House. Some pieces were melted down and others were given as diplomatic gifts. When the queen travelled, the towns she visited often gave her gifts of silver-gilt cups.\\n\\n\\n=== Costume inventories ===\\nJanet Arnold published an annotated wardrobe inventory now in the British Library, (Stowe MS 557), consulting also a duplicate copy at the National Archives, and another inventory held by the Folger Shakespeare Library, MS V. b.72. The inventory includes some of the queen\\'s jewels.\\nJanet Arnold also published a surviving wardrobe book which records gifts, fabrics issued to the gentlewomen who made Elizabeth\\'s hoods, and losses of jewelled buttons and aglets from her clothes. Entries were signed by the gentlewomen and chamberers and can be very detailed: Elizabeth lost a pendant pearl from one three fish that comprised a jewel called the \"monster while visiting Wanstead Park on 25 February 1584.\\n\\n\\n== Outline of the 1574 inventory of plate ==\\n\\n\\n=== Gold plate ===\\nJuelles of Golde\\nno. 1 The imperial crown of England.\\nno. 2 The sceptre of gold with a dove.\\nno. 3 The globe or round ball (orb) with a cross.\\nno. 4 The queen\\'s crown (intended for a queen consort).\\nno. 5 The queen\\'s sceptre with a dove intended for a queen consort). One sceptre was repaired by Cornelis Hayes for the coronation of Anne Boleyn, and later issued to Dorothy Bulstrode for a masque of Anne of Denmark, and a gold wing was lost.\\nno. 6 A pair of bracelets with six rubies and seven large pearls and five smaller pearls, with red laces.\\nCups and bowls\\n\\nno. 48 The St Agnes cup. A cup of gold with imagery the knop a crown imperial and about border of the cover and the foot a crown garnished with 61 pearls.\\nno. 49 A jewelled gold cup given to James VI of Scotland at the christening of Prince Henry at Stirling Castle on 30 August 1594.\\nno. 75 A cup of \"assaye\" of gold fair wrought and enamelled. Given to Christian IV of Denmark on 5 August 1606.\\nCandlesticks\\nno. 77: Four gold candlesticks for a table with \"H\" and \"R\" enamelled in red. Three we'),\n",
              " Document(metadata={'title': 'James VI and I', 'summary': 'James VI and I (James Charles Stuart; 19 June 1566 – 27 March 1625) was King of Scotland as James VI from 24 July 1567 and King of England and Ireland as James I from the union of the Scottish and English crowns on 24 March 1603 until his death in 1625. Though he long attempted to get both countries to adopt a closer political union, the kingdoms of Scotland and England remained sovereign states, with their own parliaments, judiciaries, and laws, ruled by James in personal union.\\nJames was the son of Mary, Queen of Scots, and a great-great-grandson of Henry VII, King of England and Lord of Ireland, and thus a potential successor to all three thrones. He acceded to the Scottish throne at the age of thirteen months, after his mother was forced to abdicate in his favour. Although his mother was a Catholic, James was brought up as a Protestant. Four regents governed during his minority, which ended officially in 1578, though he did not gain full control of his government until 1583. In 1589, he married Anne of Denmark. Three of their children survived to adulthood: Henry Frederick, Elizabeth, and Charles. In 1603, James succeeded his cousin Elizabeth I, the last Tudor monarch of England and Ireland, who died childless. He continued to reign in all three kingdoms for 22 years, a period known as the Jacobean era, until his death in 1625. After the Union of the Crowns, he based himself in England (the largest of the three realms) from 1603, returning to Scotland only once, in 1617, and styled himself \"King of Great Britain and Ireland\". He advocated for a single parliament for England and Scotland. In his reign, the Plantation of Ulster and English colonisation of the Americas began.\\nAt 57 years and 246 days, James\\'s reign in Scotland was the longest of any Scottish monarch. He achieved most of his aims in Scotland but faced great difficulties in England, including the Gunpowder Plot in 1605 and conflicts with the English Parliament. Under James, the \"Golden Age\" of Elizabethan literature and drama continued, with writers such as William Shakespeare, John Donne, Ben Jonson, and Francis Bacon contributing to a flourishing literary culture. James was a prolific writer, authoring works such as Daemonologie (1597), The True Law of Free Monarchies (1598), and Basilikon Doron (1599). He sponsored the translation of the Bible into English (later named after him, the Authorized King James Version), and the 1604 revision of the Book of Common Prayer. Contemporary courtier Anthony Weldon claimed that James had been termed \"the wisest fool in Christendom\" (wise in small things, foolish otherwise) an epithet associated with his character ever since. Since the latter half of the 20th century, historians have tended to revise James\\'s reputation and treat him as a serious and thoughtful monarch. He was strongly committed to a peace policy, and tried to avoid involvement in religious wars, especially the Thirty Years\\' War that devastated much of Central Europe. He tried but failed to prevent the rise of hawkish elements in the English Parliament who wanted war with Spain. The first English king of the House of Stuart, he was succeeded by his second son, Charles I.', 'source': 'https://en.wikipedia.org/wiki/James_VI_and_I'}, page_content='James VI and I (James Charles Stuart; 19 June 1566 – 27 March 1625) was King of Scotland as James VI from 24 July 1567 and King of England and Ireland as James I from the union of the Scottish and English crowns on 24 March 1603 until his death in 1625. Though he long attempted to get both countries to adopt a closer political union, the kingdoms of Scotland and England remained sovereign states, with their own parliaments, judiciaries, and laws, ruled by James in personal union.\\nJames was the son of Mary, Queen of Scots, and a great-great-grandson of Henry VII, King of England and Lord of Ireland, and thus a potential successor to all three thrones. He acceded to the Scottish throne at the age of thirteen months, after his mother was forced to abdicate in his favour. Although his mother was a Catholic, James was brought up as a Protestant. Four regents governed during his minority, which ended officially in 1578, though he did not gain full control of his government until 1583. In 1589, he married Anne of Denmark. Three of their children survived to adulthood: Henry Frederick, Elizabeth, and Charles. In 1603, James succeeded his cousin Elizabeth I, the last Tudor monarch of England and Ireland, who died childless. He continued to reign in all three kingdoms for 22 years, a period known as the Jacobean era, until his death in 1625. After the Union of the Crowns, he based himself in England (the largest of the three realms) from 1603, returning to Scotland only once, in 1617, and styled himself \"King of Great Britain and Ireland\". He advocated for a single parliament for England and Scotland. In his reign, the Plantation of Ulster and English colonisation of the Americas began.\\nAt 57 years and 246 days, James\\'s reign in Scotland was the longest of any Scottish monarch. He achieved most of his aims in Scotland but faced great difficulties in England, including the Gunpowder Plot in 1605 and conflicts with the English Parliament. Under James, the \"Golden Age\" of Elizabethan literature and drama continued, with writers such as William Shakespeare, John Donne, Ben Jonson, and Francis Bacon contributing to a flourishing literary culture. James was a prolific writer, authoring works such as Daemonologie (1597), The True Law of Free Monarchies (1598), and Basilikon Doron (1599). He sponsored the translation of the Bible into English (later named after him, the Authorized King James Version), and the 1604 revision of the Book of Common Prayer. Contemporary courtier Anthony Weldon claimed that James had been termed \"the wisest fool in Christendom\" (wise in small things, foolish otherwise) an epithet associated with his character ever since. Since the latter half of the 20th century, historians have tended to revise James\\'s reputation and treat him as a serious and thoughtful monarch. He was strongly committed to a peace policy, and tried to avoid involvement in religious wars, especially the Thirty Years\\' War that devastated much of Central Europe. He tried but failed to prevent the rise of hawkish elements in the English Parliament who wanted war with Spain. The first English king of the House of Stuart, he was succeeded by his second son, Charles I.\\n\\n\\n== Childhood ==\\n\\n\\n=== Birth ===\\n\\nJames was the only son of Mary, Queen of Scots, and her second husband, Henry Stuart, Lord Darnley. Mary and Darnley were great-grandchildren of Henry VII of England through Margaret Tudor, the older sister of Henry VIII. Mary\\'s rule over Scotland was insecure, and she and her husband, being Roman Catholics, faced a rebellion by Protestant noblemen. During Mary\\'s and Darnley\\'s difficult marriage, Darnley secretly allied himself with the rebels and conspired in the murder of the queen\\'s private secretary, David Rizzio, just three months before James\\'s birth.\\nJames was born on 19 June 1566 at Edinburgh Castle, and as the eldest son and heir apparent of the monarch automatically became Duke of Rothesay and Prince and Great Steward of Scotland. Five days late'),\n",
              " Document(metadata={'title': 'Lady Katherine Grey', 'summary': \"Katherine Seymour, Countess of Hertford (née Lady Katherine Grey; 25 August 1540 – 26 January 1568) was a younger sister of Lady Jane Grey.\\nA granddaughter of Henry VIII's sister Mary, she emerged as a prospective successor to her cousin, Elizabeth I of England, before incurring Queen Elizabeth's wrath by secretly marrying Edward Seymour, 1st Earl of Hertford. Arrested after the Queen was informed of their clandestine marriage, Katherine (as Lady Hertford) lived in captivity until her death, having borne two sons in the Tower of London.\\n\\n\", 'source': 'https://en.wikipedia.org/wiki/Lady_Katherine_Grey'}, page_content='Katherine Seymour, Countess of Hertford (née Lady Katherine Grey; 25 August 1540 – 26 January 1568) was a younger sister of Lady Jane Grey.\\nA granddaughter of Henry VIII\\'s sister Mary, she emerged as a prospective successor to her cousin, Elizabeth I of England, before incurring Queen Elizabeth\\'s wrath by secretly marrying Edward Seymour, 1st Earl of Hertford. Arrested after the Queen was informed of their clandestine marriage, Katherine (as Lady Hertford) lived in captivity until her death, having borne two sons in the Tower of London.\\n\\n\\n== Family and claim to the throne ==\\nLady Katherine was born on 25 August 1540 at Bradgate Park, near Leicester, the second surviving daughter of Henry Grey, 1st Duke of Suffolk, by his marriage to Lady Frances Brandon. She was the younger sister of Lady Jane Grey and elder sister of Lady Mary Grey. Katherine Grey\\'s maternal grandparents were Charles Brandon, 1st Duke of Suffolk, and Mary Tudor, Dowager Queen of France, youngest surviving daughter of Henry VII and Elizabeth of York.\\nThrough their grandmother, the Grey sisters had a close claim in the line of succession to the English throne. They were preceded in the line of succession only by Henry VIII\\'s three children – Prince Edward, Lady Mary and Lady Elizabeth – and the descendants of Princess Margaret, the elder daughter of Henry VII and Queen Consort of Scotland, after 1542 represented by Mary, Queen of Scots. However, Henry VIII had excluded the Scottish regal line from the English succession in his Will, placing the Grey sisters next-in-line after his own children.\\n\\n\\n== First marriage ==\\nSome time before August 1552, Katherine Grey was betrothed to Henry, Lord Herbert, heir apparent to William Herbert, 1st Earl of Pembroke. In 1553, as Edward VI was dying, the King and his Chief Minister, John Dudley, 1st Duke of Northumberland, planned to exclude Edward\\'s sister Mary Tudor from the succession in favour of Katherine\\'s elder sister, Jane. According to the Letters Patent of 21 June 1553, Lady Katherine was to be second in the line of succession behind her sister and heirs-male. Jane had been married to Northumberland\\'s son, Lord Guildford Dudley, on 25 May 1553. On the same occasion, Katherine was married to Lord Herbert at Durham House. After the wedding, Katherine (now Lady Herbert) went to live with her husband at Baynard\\'s Castle beside the Thames.  When Jane\\'s accession to the throne failed, Henry\\'s father sought to distance himself from the Grey family by separating his son from Katherine and seeking the annulment of the marriage; this was probably achieved in early 1554, as the union had not been consummated. Meanwhile, her sister Jane and her father (the Duke of Suffolk) had been executed in February 1554 after the suppression of Wyatt\\'s Rebellion.\\n\\n\\n== Prospective royal heir under Mary I and Elizabeth I ==\\nDuring the first phase of Queen Mary I\\'s reign, Katherine was senior heir-in-line to the throne as Mary was yet unmarried and her younger sister Elizabeth was regarded as illegitimate. Demoted when Elizabeth was declared heir, Katherine\\'s claim came to the fore again when Queen Elizabeth I acceded to the throne in November 1558. At one point the Queen was apparently contemplating Katherine as a potential Protestant heir, with rumours of a possible adoption, but any such development was terminated upon Katherine\\'s clandestine marriage to Lord Hertford.\\n\\n\\n== Second marriage ==\\n\\nOne of Katherine\\'s friends, Lady Jane Seymour, daughter of the Duke of Somerset, introduced her brother, Edward Seymour, 1st Earl of Hertford, to Lady Katherine Grey (so restyled after the annulment of her first marriage). Without royal assent, the two were married in late December 1560 during a secret ceremony at Lord Hertford\\'s house in Cannon Row, where Lady Jane Seymour was the sole witness.\\nSoon thereafter, the Queen despatched Lord Hertford with Thomas Cecil, eldest son of Sir William Cecil, on a grand tour across Europe \"for the improvement of t'),\n",
              " Document(metadata={'title': 'Coronation of Elizabeth I', 'summary': \"The coronation of Elizabeth I as Queen of England and Ireland took place at Westminster Abbey, London, on 15 January 1559. Elizabeth I had ascended the throne at the age of 25 upon the death of her half-sister, Mary I, on 17 November 1558. Mary had reversed the Protestant Reformation which had been started by her two predecessors, so this was the last coronation in Great Britain to be conducted under the authority of the Catholic Church. Historians view Elizabeth's coronation as a statement of her intention to restore England to Protestantism, but to allow the continuation of some Catholic customs, a compromise known as the Elizabethan Settlement.\", 'source': 'https://en.wikipedia.org/wiki/Coronation_of_Elizabeth_I'}, page_content='The coronation of Elizabeth I as Queen of England and Ireland took place at Westminster Abbey, London, on 15 January 1559. Elizabeth I had ascended the throne at the age of 25 upon the death of her half-sister, Mary I, on 17 November 1558. Mary had reversed the Protestant Reformation which had been started by her two predecessors, so this was the last coronation in Great Britain to be conducted under the authority of the Catholic Church. Historians view Elizabeth\\'s coronation as a statement of her intention to restore England to Protestantism, but to allow the continuation of some Catholic customs, a compromise known as the Elizabethan Settlement.\\n\\n\\n== Background ==\\nThe reign of Elizabeth I\\'s father, Henry VIII, was one of great political and social change. Religious upheaval in continental Europe and Henry\\'s dispute with the Pope over his marital difficulties led Henry to break from the Catholic Church and to establish the Church of England. Henry VIII was succeeded by his son Edward VII, under whom the Protestant reforms continued. However, Edward\\'s early death in 1553 led to the accession of Henry\\'s daughter Mary I. She returned England to Catholicism, burning at the stake some 300 Protestants as heretics and forcing others into exile. The Protestant-minded Elizabeth outwardly conformed with Mary, but became the focus of opposition to the increasingly unpopular government. Mary became ill in May 1558 and formally recognised Elizabeth as her heir presumptive on 6 November. Elizabeth was at Hatfield House to the north of London when she was informed of Mary\\'s death on 17 November.\\n\\n\\n== Preparations ==\\nElizabeth I\\'s first surviving state paper is dated 17 November 1558, the day of her accession, and is a memorandum for the appointment of \"Commissioners for the Coronation\"; a month later five had been selected, with Sir Richard Sackville taking charge. The date of Sunday 15 January 1559 was set: not, as in previous coronations, an appropriate Christian holy day but, following the advice of her court astrologer, Dr John Dee, one on which the stars and planets would be in favourable positions. The brief time between accession and coronation was also a product of Elizabeth\\'s concern over her legal status; the First Succession Act of 1533 and the Second Succession Act of 1536 had declared both Mary and Elizabeth to be bastards and excluded them from the line of succession. Although the Third Succession Act of 1543/44 had restored their place in the succession, it had not restored their legitimacy. Elizabeth consulted Sir Nicholas Bacon, the Lord Keeper of the Great Seal, who warned against attempting to repeal the Succession Acts and the tangle of legislation relating to them. Instead, he advised that following her coronation, Elizabeth\\'s right to rule would be beyond question since \"the English laws have long since pronounced, That the Crowne once worn quite taketh away all Defects whatsoever\".\\nCoronation festivities at that time consisted of four parts: the vigil procession to the Tower of London where the monarch would spend one or more nights in vigil; on the day before the coronation, the royal entry procession through the streets of the City of London to the Palace of Westminster; the coronation service itself in Westminster Abbey, and finally the coronation banquet in Westminster Hall. Although the religious ceremony at Westminster Abbey was theoretically the main event, Elizabeth was aware that it was the elaborate processions through London which would secure the new queen\\'s popularity with her subjects: not a foregone conclusion given that she was an unmarried woman, that her claim to the throne rested on her executed mother and that there was likely to be a further period of religious upheaval. The queen spent some £16,000 of her own money on the coronation, while the aldermen, livery companies and merchants of the City contributed a very substantial amount; exactly how much is unknown. Unusually, the foreign merchants o'),\n",
              " Document(metadata={'title': 'Becoming Elizabeth', 'summary': \"Becoming Elizabeth is a historical drama television series, created by Anya Reiss, that charts Elizabeth I's early years. Airing on Starz on 12 June 2022 and Channel 4 on 15 June, on 2 October 2022, the series was cancelled.\\n\\n\", 'source': 'https://en.wikipedia.org/wiki/Becoming_Elizabeth'}, page_content='Becoming Elizabeth is a historical drama television series, created by Anya Reiss, that charts Elizabeth I\\'s early years. Airing on Starz on 12 June 2022 and Channel 4 on 15 June, on 2 October 2022, the series was cancelled.\\n\\n\\n== Plot ==\\nThe series follows the younger years of the only surviving child of Anne Boleyn and Henry VIII, Queen Elizabeth I, who starts out in the story as an orphaned teenager who becomes embroiled in the politics of the English court on her journey towards the crown. Before cancellation, the series covered almost the full reign of her younger half brother, Edward VI.\\n\\n\\n== Cast and characters ==\\nAlicia von Rittberg as Elizabeth Tudor\\nRomola Garai as Mary Tudor\\nJessica Raine as Catherine Parr\\nTom Cullen as Thomas Seymour\\nBella Ramsey as Jane Grey\\nJamie Parker as John Dudley, 1st Duke of Northumberland\\nOliver Zetterström as King Edward VI\\nJohn Heffernan as Edward Seymour, 1st Duke of Somerset\\nJamie Blackley as Lord Robert Dudley\\nJacob Avery as Lord Guildford Dudley\\nAlexandra Gilbreath as Kat Ashley\\nLeo Bill as Henry Grey\\nEkow Quartey as Pedro\\nAlex Macqueen as Stephen Gardiner\\nOlivier Huband as Ambassador Guzman\\nRobert Whitelock as Robert Kett\\nRuby Ashbourne Serkis as Amy Robsart\\n\\n\\n== Episodes ==\\n\\n\\n== Production ==\\n\\n\\n=== Development ===\\nIn December 2019, it was announced Starz had greenlit an 8-episode series focusing on the younger years of Queen Elizabeth I created by Anya Reiss, who would also serve as an executive producer. In October 2022, it was announced that Starz had cancelled the show and there would be no season 2 covering the reign of Mary I.\\n\\n\\n=== Casting ===\\nIn October 2020, Alicia von Rittberg joined the cast of the series. In May 2021, Romola Garai, Jessica Raine, Tom Cullen, Bella Ramsey, Oliver Zetterström, John Heffernan, Jamie Blackley, Jacob Avery, Alexandra Gilbreath, Leo Bill, Ekow Quartey, Alex Macqueen and Oliver Huband joined the cast of the series.\\n\\n\\n=== Filming ===\\nPrincipal photography began in December 2020. In March 2021, production took place at Cardiff Castle.\\n\\n\\n== Reception ==\\nOn the review aggregator website Rotten Tomatoes, 88% of 16 critics\\' reviews are positive, with an average rating of 6.9/10. The website\\'s consensus reads, \"Angsty as a disgruntled teenager and all the better for it, Becoming Elizabeth finds fresh drama in the Tudors by shifting focus onto the royal court\\'s web of spiders.\". Particular praise was given to Romola Garai in her role as Mary Tudor, with many commentating that she stole the show. Metacritic, which uses a weighted average, assigned a score of 73 out of 100 based on 11 critics, indicating \"generally favorable reviews\". Ramsey in playing this version of Lady Jane Grey \"imbues the malleable noblewoman with as much ambivalence as she does wit and cunning.\"\\nThe series was repeated in the UK on Channel 4 from 15 July 2023.\\n\\n\\n== References ==\\n\\n\\n== External links ==\\nBecoming Elizabeth at IMDb'),\n",
              " Document(metadata={'title': 'Elizabeth Boleyn, Countess of Wiltshire', 'summary': 'Elizabeth Boleyn, Countess of Wiltshire (née Howard; c.\\u20091480 – 3 April 1538) was an English noblewoman, noted for being the mother of Anne Boleyn and as such the maternal grandmother of Elizabeth I of England. The eldest daughter of Thomas Howard, 2nd Duke of Norfolk and his first wife Elizabeth Tilney, she married Thomas Boleyn sometime in the later 15th century. Elizabeth became Viscountess Rochford in 1525 when her husband was elevated to the peerage, subsequently becoming Countess of Ormond in 1527 and Countess of Wiltshire in 1529.', 'source': 'https://en.wikipedia.org/wiki/Elizabeth_Boleyn,_Countess_of_Wiltshire'}, page_content='Elizabeth Boleyn, Countess of Wiltshire (née Howard; c.\\u20091480 – 3 April 1538) was an English noblewoman, noted for being the mother of Anne Boleyn and as such the maternal grandmother of Elizabeth I of England. The eldest daughter of Thomas Howard, 2nd Duke of Norfolk and his first wife Elizabeth Tilney, she married Thomas Boleyn sometime in the later 15th century. Elizabeth became Viscountess Rochford in 1525 when her husband was elevated to the peerage, subsequently becoming Countess of Ormond in 1527 and Countess of Wiltshire in 1529.\\n\\n\\n== Family and early life ==\\nElizabeth was born around 1480 into the wealthy and influential Howard family, as the elder of the two daughters of Sir Thomas Howard, later 2nd Duke of Norfolk, and his first wife Elizabeth Tilney. Her paternal grandfather, Sir John Howard, was created Duke of Norfolk in 1483 by King Richard III.\\nHer family managed to survive the fall of their patron, King Richard III, who was killed at Bosworth in 1485 and supplanted by the victor, King Henry VII, when she was about five years old. Elizabeth became a part of the royal court as a young girl.\\n\\n\\n== Marriage and lady-in-waiting for the royal court ==\\nIt was while she was at court, that she wed Thomas Boleyn, an ambitious young courtier, sometime before 1500, probably in 1498. According to Thomas, his wife was pregnant many times in the next few years but only three children lived to adulthood. The three children were: \\n\\nMary Boleyn, mistress of Henry VIII of England (c.1499 – 19 July 1543).\\nGeorge Boleyn, Viscount Rochford (c.1504 – 17 May 1536).\\nAnne Boleyn, Queen consort of Henry VIII of England (c. 1507 – 19 May 1536)\\nThe other two boys were Thomas born 1496 and Henry \\'Hal\\' born 1500.  Both died of the sweating sickness plague during the outbreak in 1506. \\nThroughout this time, Elizabeth was a lady-in-waiting at the royal court; first to Elizabeth of York, and then to Catherine of Aragon. Based on later gossip, Elizabeth Boleyn must have been a highly attractive woman. Rumours circulated when Henry was involved with Anne Boleyn that Elizabeth had once been his mistress, with the suggestion even being made that Anne Boleyn might be the daughter of Henry VIII. However, despite recent attempts by one or two historians to rehabilitate this myth, it was denied by Henry and never mentioned in the dispensation he sought in order to make his union with Anne lawful. Most historians believe it is likely that this rumour began by confusing Elizabeth with Henry\\'s more famous mistress Elizabeth Blount, or from the growing unpopularity of the Boleyn family after 1527.\\n\\n\\n== 1519–1536 ==\\n\\nIn 1519, Elizabeth\\'s daughters, Anne and Mary, were living in the French royal court as Ladies-in-waiting to the French Queen consort Claude. According to the papal nuncio in France fifteen years later, the French King Francis I had referred to Mary as \"my English mare\", and later in his life described her as \"a great whore, the most infamous of all\".\\nIn the words of historian M.L. Bruce, both Thomas and Elizabeth \"developed feelings of dislike\" for their daughter Mary. In later years, Mary\\'s romantic involvements would only further strain this relationship. Around 1520, the Boleyns managed to arrange Mary\\'s marriage to William Carey, a respected and popular man at court. It was sometime after the wedding that Mary became mistress to Henry VIII (the exact dates as to when the affair started and ended are unknown), although she never held the title of \"official royal mistress,\" as the post did not exist in England. It has long been rumoured that one or both of Mary Boleyn\\'s children were fathered by Henry and not Carey. Some historians, such as Alison Weir, now question whether Henry Carey was fathered by the King. Few of Henry\\'s mistresses were ever publicly honoured, except Elizabeth Blount, who was mentioned in Parliament and whose son, Henry Fitzroy, was created Duke of Richmond and Somerset in an elaborate public ceremony in 1525. Henry\\'s re'),\n",
              " Document(metadata={'title': 'Elizabeth: The Golden Age', 'summary': \"Elizabeth: The Golden Age is a 2007 biographical historical drama film directed by Shekhar Kapur and produced by Universal Pictures and Working Title Films. It stars Cate Blanchett in the title role and is a loose but fact-based portrayal of events during the latter part of the reign of Elizabeth I, forming a sequel to Kapur's 1998 film Elizabeth. The film co-stars Geoffrey Rush (reprising his role from the previous film), Clive Owen, Jordi Mollà, Abbie Cornish, and Samantha Morton. The screenplay was written by William Nicholson and Michael Hirst, and the music score was composed by Craig Armstrong and A. R. Rahman. Guy Hendrix Dyas was the film's production designer and co-visual effects supervisor, and the costumes were created by Alexandra Byrne. The film was shot at Shepperton Studios and various locations around the United Kingdom.\\nThe film premiered on 9 September 2007 at the Toronto International Film Festival. It opened in wide release in the United States on 12 October 2007, premiered in London on 23 October 2007, and opened wide on 2 November 2007 throughout the rest of the UK and Republic of Ireland. At the 80th Academy Awards, the film won Best Costume Design and Blanchett received a nomination for Best Actress.\", 'source': 'https://en.wikipedia.org/wiki/Elizabeth:_The_Golden_Age'}, page_content='Elizabeth: The Golden Age is a 2007 biographical historical drama film directed by Shekhar Kapur and produced by Universal Pictures and Working Title Films. It stars Cate Blanchett in the title role and is a loose but fact-based portrayal of events during the latter part of the reign of Elizabeth I, forming a sequel to Kapur\\'s 1998 film Elizabeth. The film co-stars Geoffrey Rush (reprising his role from the previous film), Clive Owen, Jordi Mollà, Abbie Cornish, and Samantha Morton. The screenplay was written by William Nicholson and Michael Hirst, and the music score was composed by Craig Armstrong and A. R. Rahman. Guy Hendrix Dyas was the film\\'s production designer and co-visual effects supervisor, and the costumes were created by Alexandra Byrne. The film was shot at Shepperton Studios and various locations around the United Kingdom.\\nThe film premiered on 9 September 2007 at the Toronto International Film Festival. It opened in wide release in the United States on 12 October 2007, premiered in London on 23 October 2007, and opened wide on 2 November 2007 throughout the rest of the UK and Republic of Ireland. At the 80th Academy Awards, the film won Best Costume Design and Blanchett received a nomination for Best Actress.\\n\\n\\n== Plot ==\\nIn 1585, Catholic Spain, ruled by King Philip II, is the most powerful country in Europe. Seeing that the Catholic plots against Queen Elizabeth\\'s life that occurred from the 1570s onwards had all failed, Pope Sixtus V approached King Philip, who had amassed the most significant naval force in all of Europe and convinced the king to use this naval force to invade and re-Catholicize England. By doing so, Philip, with the pope\\'s blessing, would overthrow Elizabeth and take control of England. Philip agrees and plots to take over England and make his daughter, Isabella, the Queen of England in Elizabeth\\'s place. Meanwhile,  Elizabeth is being pressured by her advisor, Francis Walsingham, to marry; if Elizabeth dies childless, the throne will pass to her first cousin, Mary, Queen of Scots, who is Catholic.\\nEnglish explorer Walter Raleigh is presented at court, having returned from the New World. Queen Elizabeth is attracted to Raleigh, enthralled by his tales of exploration, and asks Elizabeth \"Bess\" Throckmorton, her most favoured lady-in-waiting, to observe him. Bess also finds Raleigh attractive and they begin a secret affair. With tensions strained between England and Spain, Elizabeth seeks guidance from her astrologer, Dr. John Dee.\\nJesuits in London conspire with Philip to assassinate Elizabeth and replace her with Mary of Scots, in what King Philip calls \"The English Enterprise,\" historically known as the Babington Plot. From her imprisonment, Mary sends secret correspondence to the Jesuits, who recruit Anthony Babington to assassinate Elizabeth. Walsingham continues to warn Queen Elizabeth of Spain\\'s rising power and of the Catholic plots against her, but unlike her predecessor and half-sister, Queen Mary, Elizabeth refuses to force her people to share her religious beliefs.\\nWalsingham\\'s Catholic brother, who knows of the plot against Elizabeth, is jailed, leading Walsingham to reveal Spain\\'s plan to Queen Elizabeth, who angrily confronts the Spanish diplomats. The Spanish ambassador feigns ignorance, accuses her of receiving stolen Spanish gold from pirates, and insinuates that she has a sexual relationship with Raleigh. Enraged, Elizabeth throws the Spaniards out of England. Meanwhile, Philip is cutting down the forests of Spain to build the Spanish Armada to invade England. Mary writes letters condoning the plot.\\nBabington storms into a cathedral where Elizabeth is praying and fires a pistol at her, though Elizabeth is unharmed as there was no bullet in the gun. As Elizabeth learns of Mary\\'s involvement in the plot, Walsingham insists Mary be executed to quell any possible revolt. Elizabeth reluctantly agrees. Mary is tried for high treason and beheaded; Walsingham realises this was par'),\n",
              " Document(metadata={'title': 'Elizabeth Raleigh', 'summary': 'Elizabeth, Lady Raleigh (née Throckmorton; 16 April 1565 – c. 1647), was an English courtier, a Gentlewoman of the Privy Chamber to Queen Elizabeth I of England. Her secret marriage to Sir Walter Raleigh precipitated a long period of royal disfavour for both her and her husband.\\n\\n', 'source': 'https://en.wikipedia.org/wiki/Elizabeth_Raleigh'}, page_content='Elizabeth, Lady Raleigh (née Throckmorton; 16 April 1565 – c. 1647), was an English courtier, a Gentlewoman of the Privy Chamber to Queen Elizabeth I of England. Her secret marriage to Sir Walter Raleigh precipitated a long period of royal disfavour for both her and her husband.\\n\\n\\n== Life ==\\nElizabeth, known also as \"Bess\", was the daughter of the diplomat Sir Nicholas Throckmorton and Anne Carew. Her father, Nicholas, was the nephew of Sir Thomas Parr making him a cousin to the late Queen, Catherine Parr, the sixth wife of King Henry VIII, to whom he served in her household. Her mother, Anne, was the daughter of Elizabeth Bryan who is reputed to have been a mistress of King Henry. That made Anne a niece of Sir Francis Bryan who had been a close confidant to King Henry. Both Elizabeth and Francis had been a first half-cousin of both Queen consorts Anne Boleyn and Catherine Howard and a second half-cousin of Jane Seymour, so Bess was well connected at court.\\nBess and her brother Arthur were cousins and courtiers to Elizabeth I. \\nIn her book, The Life of Elizabeth I (1998), British author and historian Alison Weir states Throckmorton and Raleigh\\'s first child was conceived by July 1591, the couple were married \"in great secrecy\" in the autumn of 1591, and their son was born in March 1592. The boy was christened Damerei, after Sir Walter\\'s claimed ancestors, the D\\'Ameries. Damerei is believed to have died during infancy.\\nWeir states that Queen Elizabeth first became aware in May 1592 of the secret marriage and of Damerei\\'s birth, despite Bess and Sir Walter\\'s denials. The couple had married without royal permission, but, significantly, Robert Devereux, 2nd Earl of Essex, was in on the secret and acting as godfather to the Raleighs\\' son. Once the queen found out, she first placed Bess and Raleigh under house arrest, then sent them to the Tower of London, in June 1592. Raleigh was released from the Tower in August 1592 and Bess in December 1592, at which time she joined her husband at Sherborne Castle, his Dorset estate. The couple remained devoted to each other, although, according to Weir, Bess proved to be a domineering wife. Anna Beer, Lady Raleigh\\'s biographer, offers a different perspective, pointing out that due to Raleigh\\'s frequent absences, whether on expeditions, diplomatic duties, or in prison, Bess had to shoulder an unusual level of responsibility for a woman of her time. The Raleighs\\' second son, Walter, was born in 1593 at Sherborne.\\nAfter the Union of Crowns in 1603, many courtiers travelled to Northamptonshire to greet the new queen, Anne of Denmark, and her children, and to seek royal favour. Lord Buckhurst wrote on 21 June 1603 that he and the Lord Keeper Thomas Egerton were travelling \"to do our duties to the Queen, the Prince, and Princess, all the world flying beforehand to see her\". Bess made the same trip, but was disappointed. Sir Robert Crosse wrote that she had persuaded him to make an \"idle journey\" to meet the queen and she had received \"but idle graces\". \\nThe couple\\'s third son was born in January 1605, by which time Raleigh was again a prisoner in the Tower of London. Named Carew, which was both Bess\\'s mother\\'s maiden name and the name of one of Raleigh\\'s brothers, he was christened within the walls of the Tower in the church of St Peter ad Vincula. After Raleigh\\'s execution in 1618, Bess worked tirelessly to re-establish her late husband\\'s reputation and, in 1628, saw a Bill of Restitution restore the Raleigh name \\'in blood\\', which allowed her one surviving son to inherit.\\nBess is said to have had her husband\\'s head embalmed and to have carried it around with her for the rest of her life, although the only documented reference to Raleigh\\'s head is from the day of his execution, when it was noted that Lady Raleigh and her ladies left the scene carrying Sir Walter\\'s head in a red bag. An account from 1740 claims that, after Bess\\'s death, Raleigh\\'s head was returned to his tomb in St Margaret\\'s, Westmi'),\n",
              " Document(metadata={'title': 'Helen Mirren', 'summary': \"Dame Helen Mirren (; born Ilyena Lydia Mironoff; 26 July 1945) is an English actor. With a career spanning over six decades of screen and stage, her accolades include an Academy Award, five Emmy Awards, a Tony Award, four BAFTA Awards, and a Laurence Olivier Award. She is the only person to have achieved both the US and UK Triple Crowns of Acting, and has also received the BAFTA Fellowship, Honorary Golden Bear, and the Screen Actors Guild Life Achievement Award. Mirren was made a Dame Commander of the Order of the British Empire (DBE) by Queen Elizabeth II in 2003.\\nMirren started her career at the age of 18 as a performer with the National Youth Theatre, where she played Cleopatra in Antony and Cleopatra (1965). She later joined the Royal Shakespeare Company and made her West End stage debut in 1975. She went on to receive the Laurence Olivier Award for Best Actress for playing Elizabeth II in the Peter Morgan play The Audience (2013). She reprised the role on Broadway and won the Tony Award for Best Actress in a Play. She was Tony-nominated for A Month in the Country (1995) and The Dance of Death (2002).\\nMirren's first credited film role was in Herostratus (1967) and her first major role was in Age of Consent (1969). She gained further recognition for her roles in O Lucky Man! (1973), Caligula (1979), The Long Good Friday (1980), Excalibur (1981), The Mosquito Coast (1986), and The Cook, the Thief, His Wife & Her Lover (1989). She received Academy Award nominations for her performances in The Madness of King George (1994) and Gosford Park (2001), before winning Best Actress for her portrayal of Elizabeth II in the drama The Queen (2006). She was nominated again for her performance in The Last Station (2009), and went on to appear in further films such as The Tempest (2010), Hitchcock (2012), Eye in the Sky (2015), and Trumbo (2015). She has also appeared in the action film Red (2010) and its 2013 sequel, as well as four films in the Fast & Furious franchise.\\nOn television, Mirren played DCI Jane Tennison in ITV's police procedural Prime Suspect (1991–2006), for which she earned three British Academy Television Awards for Best Actress and two Primetime Emmy Awards for Outstanding Lead Actress in a Miniseries or Movie. She also earned Emmy Awards for portraying Ayn Rand in the Showtime television film The Passion of Ayn Rand (1999) and Queen Elizabeth I in the HBO miniseries Elizabeth I (2005). Her other television roles include Door to Door (2002), Phil Spector (2013), Catherine the Great (2019), 1923 (2022), and MobLand (2025).\", 'source': 'https://en.wikipedia.org/wiki/Helen_Mirren'}, page_content='Dame Helen Mirren (; born Ilyena Lydia Mironoff; 26 July 1945) is an English actor. With a career spanning over six decades of screen and stage, her accolades include an Academy Award, five Emmy Awards, a Tony Award, four BAFTA Awards, and a Laurence Olivier Award. She is the only person to have achieved both the US and UK Triple Crowns of Acting, and has also received the BAFTA Fellowship, Honorary Golden Bear, and the Screen Actors Guild Life Achievement Award. Mirren was made a Dame Commander of the Order of the British Empire (DBE) by Queen Elizabeth II in 2003.\\nMirren started her career at the age of 18 as a performer with the National Youth Theatre, where she played Cleopatra in Antony and Cleopatra (1965). She later joined the Royal Shakespeare Company and made her West End stage debut in 1975. She went on to receive the Laurence Olivier Award for Best Actress for playing Elizabeth II in the Peter Morgan play The Audience (2013). She reprised the role on Broadway and won the Tony Award for Best Actress in a Play. She was Tony-nominated for A Month in the Country (1995) and The Dance of Death (2002).\\nMirren\\'s first credited film role was in Herostratus (1967) and her first major role was in Age of Consent (1969). She gained further recognition for her roles in O Lucky Man! (1973), Caligula (1979), The Long Good Friday (1980), Excalibur (1981), The Mosquito Coast (1986), and The Cook, the Thief, His Wife & Her Lover (1989). She received Academy Award nominations for her performances in The Madness of King George (1994) and Gosford Park (2001), before winning Best Actress for her portrayal of Elizabeth II in the drama The Queen (2006). She was nominated again for her performance in The Last Station (2009), and went on to appear in further films such as The Tempest (2010), Hitchcock (2012), Eye in the Sky (2015), and Trumbo (2015). She has also appeared in the action film Red (2010) and its 2013 sequel, as well as four films in the Fast & Furious franchise.\\nOn television, Mirren played DCI Jane Tennison in ITV\\'s police procedural Prime Suspect (1991–2006), for which she earned three British Academy Television Awards for Best Actress and two Primetime Emmy Awards for Outstanding Lead Actress in a Miniseries or Movie. She also earned Emmy Awards for portraying Ayn Rand in the Showtime television film The Passion of Ayn Rand (1999) and Queen Elizabeth I in the HBO miniseries Elizabeth I (2005). Her other television roles include Door to Door (2002), Phil Spector (2013), Catherine the Great (2019), 1923 (2022), and MobLand (2025).\\n\\n\\n== Early life and background ==\\nIlyena Lydia Mironoff was born on 26 July 1945 at Queen Charlotte\\'s and Chelsea Hospital in the Hammersmith district of London, to an English mother and Russian father. Her mother, Kathleen \"Kitty\" Alexandrina Eva Matilda (née Rogers; 1908–1996), was a working-class woman from West Ham, the thirteenth of fourteen children born to a butcher whose own father was the butcher to Queen Victoria. Mirren\\'s father, Vasily Petrovich Mironoff (1913–1980), was a member of an old exiled family of the Russian nobility dating back to the first half of the 15th century; he was taken to England when he was two by his father, Pyotr Vasilievich Mironov (1880–1957). Pyotr Vasilievich Mironov owned a large family estate near Gzhatsk (now Gagarin) in the Russian Empire. His mother, Mirren\\'s great-grandmother, was Countess Lydia Andreevna Kamenskaya (1848–1928), an aristocrat and a descendant of Count Mikhail Fedotovich Kamensky, a prominent Russian general in the Napoleonic Wars. Her grandfather, Pyotr Vasilievich Mironov, also served as a colonel in the Imperial Russian Army and fought in the 1904 Russo-Japanese War. He later became a diplomat in the service of Nicholas II and was negotiating an arms deal in Britain when he and his family were stranded by the Russian Revolution in 1917. He settled in London and became a cab driver to support his family.\\nVasily Mironoff also played the vi'),\n",
              " Document(metadata={'title': 'History of the English penny (1485–1603)', 'summary': \"The history of the English penny from 1485 to 1603 covers the period of the House of Tudor up to the death of Elizabeth I without an heir. The Tudor era saw the debasement of the penny under Henry VIII and Edward VI, with Elizabeth I's reign overseeing the recovery of the silver quality. Under the Tudors, the penny decreased in size.\\n\\n\", 'source': 'https://en.wikipedia.org/wiki/History_of_the_English_penny_(1485%E2%80%931603)'}, page_content='The history of the English penny from 1485 to 1603 covers the period of the House of Tudor up to the death of Elizabeth I without an heir. The Tudor era saw the debasement of the penny under Henry VIII and Edward VI, with Elizabeth I\\'s reign overseeing the recovery of the silver quality. Under the Tudors, the penny decreased in size.\\n\\n\\n== The Tudors (1485–1603) ==\\n\\n\\n=== Henry VII ===\\n\\nHenry Tudor, who reigned as King Henry VI between 1485 and 1509, had a tenuous claim on the throne, being the Lancastrian claimant via an illegitimate descendant of Edward III when all the senior candidates had been killed off in the Wars of the Roses. He concluded the wars with his victory at the Battle of Bosworth Field in 1485. Subsequently, He consolidated his power through various means, including his marriage to Elizabeth of York, which united the two warring dynasties. Henry VII\\'s reign was marked by pretenders\\' claims to the throne, whose existence resulted from the king\\'s initially insecure grasp of power; Henry could subdue each of the attempted usurpers without particular difficulty. The whole style of Henry\\'s coinage marked a break with what had gone before — the king\\'s bust became more lifelike, and the shields on the reverse became much more detailed. Henry\\'s first coinage is very like that of Henry V and Henry VI, minted at London, Canterbury, Durham, and York. The inscription was one of a variety of HENRIC DI GRA REX ANG — Henry by the grace of God King of England. Henry introduced what is known as the \"Sovereign coinage\", so called because the king is depicted seated on a throne, while the reverse shows the royal shield over a cross. The issue is regarded as marking the division between the coins of the Middle Ages and of the Renaissance in England. The Sovereign coinage was minted at London, Durham, and York, and inscribed with one of a variety of HENRICUS DI GRA REX ANG.\\n\\n\\n=== Henry VIII ===\\n\\nHenry\\'s first coinage, to 1526, resembled that of his father and still used his father\\'s portrait. With higher bullion prices on Europe, the weight of the silver coins was reduced again. Pennies were minted at the London, Canterbury, and Durham mints. With the reformation starting in the 1530s, the principal effect as far as the coinage; the closure of the ecclesiastical mints of Canterbury, Durham and York — in future all mints would be Royal mints, under the control of the crown who would consequently get all the revenue. The second coinage, from 1526 to 1544 had a completely different inscription, H.D.G. ROSA SIE SPIA — Henry by the grace of God a rose without a thorn. At this time the pound standard for mintage was changed from the local Tower pound to the internationally known troy pound. The value of a pennyweight increased from 1.46 grams to 1.56 grams. The coins were minted at London, Canterbury, Durham, and York ecclesiastical mints.\\nThe Dissolution of the Monasteries in the 1530s and the ratification of the First Act of Supremacy in 1534 resulted in a financial bonus for the king. By 1544, Henry was running short of money, partially to his extravagant lifestyle and expenditure. Henry\\'s solution was to drastically lower the fineness of the third coinage (1544 to 1547) to only one-third silver and two-thirds copper. This was understandably unpopular with the people, resulting in Henry acquiring the nickname \"Old Coppernose\" as the silver rubbed off the high-relief part of the coin design. By this time, there were two mints in London, at the Tower and in Southwark, and both of them, together with mints in Bristol, Canterbury, and York produced the debased coinage which bore the inscription H.D.G. ROSA SINE SPINA.\\n\\n\\n=== Edward VI ===\\n\\nThe debased coinage caused rampant inflation when Henry VIII died in 1547. He left behind the Country with Edward VI that contained religious turmoil and economic unrest. The influx of silver and gold from Central and South America into Spain and to the rest of Europe was destabilising the price of bull'),\n",
              " Document(metadata={'title': 'Robert Cecil, 1st Earl of Salisbury', 'summary': \"Robert Cecil, 1st Earl of Salisbury,  (1 June 1563 – 24 May 1612) was an English statesman noted for his direction of the government during the Union of the Crowns, as Tudor England gave way to Stuart rule (1603). Lord Salisbury served as the Secretary of State of England (1596–1612) and  Lord High Treasurer (1608–1612), succeeding his father as Queen Elizabeth I's Lord Privy Seal and remaining in power during the first nine years of King James I's reign until his own death.\\nThe principal discoverer of the Gunpowder Plot of 1605, Robert Cecil remains a controversial historic figure as it is still debated at what point he first learned of the plot and to what extent he acted as an agent provocateur.\", 'source': 'https://en.wikipedia.org/wiki/Robert_Cecil,_1st_Earl_of_Salisbury'}, page_content='Robert Cecil, 1st Earl of Salisbury,  (1 June 1563 – 24 May 1612) was an English statesman noted for his direction of the government during the Union of the Crowns, as Tudor England gave way to Stuart rule (1603). Lord Salisbury served as the Secretary of State of England (1596–1612) and  Lord High Treasurer (1608–1612), succeeding his father as Queen Elizabeth I\\'s Lord Privy Seal and remaining in power during the first nine years of King James I\\'s reign until his own death.\\nThe principal discoverer of the Gunpowder Plot of 1605, Robert Cecil remains a controversial historic figure as it is still debated at what point he first learned of the plot and to what extent he acted as an agent provocateur.\\n\\n\\n== Early life and family ==\\nCecil (created Earl of Salisbury in 1605) was the younger son of William Cecil, 1st Baron Burghley by his second wife, Mildred Cooke, eldest daughter of Sir Anthony Cooke of Gidea, Essex. His elder half-brother was Thomas Cecil, 1st Earl of Exeter, and philosopher Francis Bacon, 1st Viscount St Albans, was his first cousin.\\nRobert Cecil was 5 ft 4 in (163 cm) tall, had scoliosis, and was hunchbacked. Living in an age which attached much importance to  physical beauty in both sexes, he endured much ridicule as a result: Queen Elizabeth I called him \"my pygmy\", and King James I nicknamed him \"my little beagle\". Nonetheless, his father recognised that it was Robert rather than his half-brother Thomas who had inherited his own political genius.\\nCecil attended St John\\'s College, Cambridge, in the 1580s, but did not take a degree. He also attended \"disputations\" at the Sorbonne.\\nIn 1589, Cecil married Elizabeth Brooke, the daughter of William Brooke, 10th Baron Cobham by his second wife, Frances Newton. Their son, William Cecil, was born in Westminster on 28 March 1591, and baptised in St Clement Danes on 11 April. He was followed by a daughter, Lady Frances Cecil (1593–1644). Elizabeth died in 1597, leaving Cecil with two small children. Her brothers Henry, 11th Baron Cobham, and George Brooke were arrested by Cecil for their involvement in the Bye and Main Plots; George, her younger brother, was executed at Winchester on 5 December 1603 for high treason.\\nIn 1608, Frances Cecil caught the eye of King James I\\'s daughter Elizabeth and she made Sir John Harington write to Salisbury to invite her to join her household. She married the 5th Earl of Cumberland and had one daughter but no sons.\\n\\n\\n== Secretary of State ==\\n\\n\\n=== Under Elizabeth ===\\nIn 1584, Cecil sat for the first time in the House of Commons, representing his birthplace, the borough of Westminster, and was re-elected in 1586. He was a back bencher, never making a speech until 1593, after having been appointed a Privy Councillor. In 1588, he accompanied Lord Derby in his mission to the Netherlands to negotiate peace with Spain. He was elected for Hertfordshire in 1589, 1593, 1597, and 1601, was made a Privy Counsellor in 1591 and was leader of the Council by 1597.\\nFollowing the death of Sir Francis Walsingham in 1590, Burghley acted as Secretary of State, while Cecil took on an increasingly heavy work-load. He was also knighted and subsequently appointed to the Privy Council in 1591, and began to act as Secretary of State in 1589, although his formal appointment came later. He participated in the social life of the royal court, on 15 September 1595 he went hawking with the queen and they caught three partridges, which they gave to Elizabeth Wolley.\\nIn 1597, he was made Chancellor of the Duchy of Lancaster, and in February 1598 dispatched on a mission to Henry IV of France, to prevent the impending alliance between that country and Spain. Three ambassadors, Cecil, John Herbert, and Thomas Wilkes left from Dover, but Wilkes died soon after arrival at Rouen. Cecil and Herbert lodged at a house of the Duke of Montpensier in Paris, and subsequently travelled south to meet the French king at Angers in March. They had their final audiences with the king at N'),\n",
              " Document(metadata={'title': 'Execution of Mary, Queen of Scots', 'summary': 'The execution of Mary, Queen of Scots took place on 8 February 1587 at Fotheringhay Castle, Northamptonshire, England. After nineteen years in English captivity following her forced abdication from the throne of Scotland, Mary was found guilty of plotting the assassination of her cousin, Elizabeth I, in what became known as the Babington Plot. The execution of Mary was the first legal execution of an anointed European monarch.', 'source': 'https://en.wikipedia.org/wiki/Execution_of_Mary,_Queen_of_Scots'}, page_content='The execution of Mary, Queen of Scots took place on 8 February 1587 at Fotheringhay Castle, Northamptonshire, England. After nineteen years in English captivity following her forced abdication from the throne of Scotland, Mary was found guilty of plotting the assassination of her cousin, Elizabeth I, in what became known as the Babington Plot. The execution of Mary was the first legal execution of an anointed European monarch.\\n\\n\\n== Background ==\\nAfter her forced abdication in favour of her son James VI of Scotland, and an unsuccessful attempt to take back her throne, Mary fled south to England, crossing the Solway Firth into England by fishing boat on 16 May 1568.\\nInitially hoping her cousin Elizabeth I of England would help her regain her throne, Mary instead was imprisoned for the murder of her English-born husband Henry Stuart, Lord Darnley though she was found neither guilty nor acquitted of the charge. Over the course of almost nineteen years, she was moved from castle to castle in England and kept under house arrest and under close watch by spies set up in her household by Elizabeth\\'s advisors. Elizabeth saw her as a threat to her rule as Mary, the great-granddaughter of Henry VII of England through his daughter Margaret Tudor, was seen as a potential successor to the crown of England.\\n\\n\\n=== Trial ===\\n\\nOn 11 August 1586, after being implicated in the Babington Plot, Mary was arrested while out riding and taken to Tixall Hall in Staffordshire. In a successful attempt to entrap her, Walsingham had deliberately arranged for Mary\\'s letters to be smuggled out of Chartley. Her secretaries Claude Nau and Gilbert Curle and the clerk Jérôme Pasquier were taken to London for questioning. Mary was misled into thinking her letters were secure, while in reality they were deciphered and read by Walsingham. From these letters it was clear that Mary had sanctioned the attempted assassination of Elizabeth.\\nMary was moved to Fotheringhay Castle in a four-day journey ending on 25 September. In October, she was put on trial for treason under the Act for the Queen\\'s Safety before a court of 36 noblemen. The proceedings were held in the Great Chamber, where an empty throne represented Queen Elizabeth and Mary was seated in a subordinate position.\\nMary denied the charges, telling her triers, \"Look to your consciences and remember that the theatre of the whole world is wider than the kingdom of England.\" She protested that she had been denied the opportunity to review the evidence, that her papers had been removed from her, that she was denied access to legal counsel, and that as a foreign anointed queen she had never been an English subject and therefore could not be convicted of treason.\\nShe was convicted on 25 October and sentenced to death with only one commissioner, Lord Zouche, expressing any form of dissent. Nevertheless, Elizabeth hesitated to order her execution, even in the face of pressure from the English Parliament to carry out the sentence. She was concerned that the killing of a queen set a discreditable precedent and was fearful of the consequences, especially if, in retaliation, Mary\\'s son, James, formed an alliance with the Catholic powers and invaded England.\\nJames VI instructed his diplomats, William Keith of Delny, the Master of Gray, and Robert Melville, to try to stay his mother\\'s execution. Henry III of France and Catherine de\\' Medici sent Pomponne de Bellièvre to plead for her life. Finally, on 1 February 1587, Elizabeth signed the death warrant, and entrusted it to William Davison, a privy councillor. On 3 February, ten members of the Privy Council of England, summoned by Cecil without Elizabeth\\'s knowledge, decided to carry out the sentence at once.\\n\\n\\n== Execution ==\\n\\nOn the evening of 7 February 1587, Mary was told she was to be executed the next morning. She spent the last hours of her life in prayer, distributing her belongings to her household, and writing her will and a letter to the king of France. A scaffold wa')]"
            ]
          },
          "execution_count": 9,
          "metadata": {},
          "output_type": "execute_result"
        }
      ],
      "source": [
        "raw_documents"
      ]
    },
    {
      "cell_type": "code",
      "execution_count": 10,
      "metadata": {
        "id": "2_zAXIpWvoST"
      },
      "outputs": [],
      "source": [
        "from langchain.text_splitter import TokenTextSplitter\n",
        "text_splitter=TokenTextSplitter(chunk_size=512, chunk_overlap=24)\n",
        "documents=text_splitter.split_documents(raw_documents[:3])"
      ]
    },
    {
      "cell_type": "code",
      "execution_count": 11,
      "metadata": {
        "id": "UTB9MnWr0sYK"
      },
      "outputs": [],
      "source": [
        "pip install --upgrade --quiet langchain_groq\n"
      ]
    },
    {
      "cell_type": "code",
      "execution_count": 12,
      "metadata": {
        "id": "-aM1TrJXJ8JZ"
      },
      "outputs": [],
      "source": [
        "from langchain_groq import ChatGroq\n",
        "\n",
        "llm=ChatGroq(groq_api_key=groq_api_key,model_name=\"Gemma2-9b-It\")"
      ]
    },
    {
      "cell_type": "code",
      "execution_count": 13,
      "metadata": {
        "id": "OWLcuUepLE0S"
      },
      "outputs": [],
      "source": [
        "pip install --upgrade --quiet langchain_experimental"
      ]
    },
    {
      "cell_type": "code",
      "execution_count": 14,
      "metadata": {
        "id": "CclwMrlfTlm6"
      },
      "outputs": [],
      "source": [
        "from langchain_experimental.graph_transformers import LLMGraphTransformer\n",
        "llm_transformer=LLMGraphTransformer(llm=llm)"
      ]
    },
    {
      "cell_type": "code",
      "execution_count": 17,
      "metadata": {
        "id": "0wfEU8_yUG6g"
      },
      "outputs": [],
      "source": [
        "graph_documents=llm_transformer.convert_to_graph_documents(documents)"
      ]
    },
    {
      "cell_type": "code",
      "execution_count": 18,
      "metadata": {
        "id": "31AlUk0gUcdC"
      },
      "outputs": [],
      "source": [
        "graph.add_graph_documents(\n",
        "    graph_documents,\n",
        "    baseEntityLabel=True,\n",
        "    include_source=True\n",
        ")"
      ]
    },
    {
      "cell_type": "code",
      "execution_count": 19,
      "metadata": {
        "id": "GzaX2M6mXK8E"
      },
      "outputs": [],
      "source": [
        "default_cypher=\"MATCH (s) -[r:MENTIONS]->(t) RETURN s,r,t LIMIT 50\""
      ]
    },
    {
      "cell_type": "code",
      "execution_count": 20,
      "metadata": {
        "id": "XI_HBagunxys"
      },
      "outputs": [],
      "source": [
        "try:\n",
        "  import google.colab\n",
        "  from google.colab import output\n",
        "  output.enable_custom_widget_manager()\n",
        "except:\n",
        "  pass"
      ]
    },
    {
      "cell_type": "code",
      "execution_count": 21,
      "metadata": {
        "id": "0Z5BpHgAjUv5"
      },
      "outputs": [],
      "source": [
        "from neo4j import GraphDatabase\n",
        "from yfiles_jupyter_graphs import GraphWidget\n",
        "def showGraph(cypher: str = default_cypher):\n",
        "    driver=GraphDatabase.driver(\n",
        "        uri=NEO4J_URI,\n",
        "        auth=(NEO4J_USERNAME,NEO4J_PASSWORD))\n",
        "    session=driver.session()\n",
        "    widget= GraphWidget(graph = session.run(cypher).graph())\n",
        "    widget.node_label_mapping='id'\n",
        "    display(widget)\n",
        "    return widget\n"
      ]
    },
    {
      "cell_type": "code",
      "execution_count": 22,
      "metadata": {
        "colab": {
          "base_uri": "https://localhost:8080/",
          "height": 1000,
          "referenced_widgets": [
            "c23e8818d9264006b19146bc90431cb5",
            "9e4d2e468d5e4f2695911ebe1be0f124"
          ]
        },
        "id": "Jl55X6IKlUcQ",
        "outputId": "a16024ad-b745-400d-d03b-caaecceabeb4"
      },
      "outputs": [
        {
          "data": {
            "application/vnd.jupyter.widget-view+json": {
              "model_id": "c23e8818d9264006b19146bc90431cb5",
              "version_major": 2,
              "version_minor": 0
            },
            "text/plain": [
              "GraphWidget(layout=Layout(height='800px', width='100%'))"
            ]
          },
          "metadata": {
            "application/vnd.jupyter.widget-view+json": {
              "colab": {
                "custom_widget_manager": {
                  "url": "https://ssl.gstatic.com/colaboratory-static/widgets/colab-cdn-widget-manager/2b70e893a8ba7c0f/manager.min.js"
                }
              }
            }
          },
          "output_type": "display_data"
        },
        {
          "data": {
            "application/vnd.jupyter.widget-view+json": {
              "model_id": "c23e8818d9264006b19146bc90431cb5",
              "version_major": 2,
              "version_minor": 0
            },
            "text/plain": [
              "GraphWidget(layout=Layout(height='800px', width='100%'))"
            ]
          },
          "metadata": {
            "application/vnd.jupyter.widget-view+json": {
              "colab": {
                "custom_widget_manager": {
                  "url": "https://ssl.gstatic.com/colaboratory-static/widgets/colab-cdn-widget-manager/2b70e893a8ba7c0f/manager.min.js"
                }
              }
            }
          },
          "output_type": "display_data"
        }
      ],
      "source": [
        "showGraph()"
      ]
    },
    {
      "cell_type": "code",
      "execution_count": 23,
      "metadata": {
        "colab": {
          "base_uri": "https://localhost:8080/"
        },
        "id": "yAk7jlEktIkx",
        "outputId": "fc32da72-31cf-420e-ad92-d4a53c72a055"
      },
      "outputs": [
        {
          "name": "stdout",
          "output_type": "stream",
          "text": [
            "Requirement already satisfied: langchain in /usr/local/lib/python3.12/dist-packages (0.3.27)\n",
            "Requirement already satisfied: langchain-community in /usr/local/lib/python3.12/dist-packages (0.3.27)\n",
            "Requirement already satisfied: sentence-transformers in /usr/local/lib/python3.12/dist-packages (5.1.0)\n",
            "Requirement already satisfied: neo4j in /usr/local/lib/python3.12/dist-packages (5.28.2)\n",
            "Requirement already satisfied: langchain-core<1.0.0,>=0.3.72 in /usr/local/lib/python3.12/dist-packages (from langchain) (0.3.74)\n",
            "Requirement already satisfied: langchain-text-splitters<1.0.0,>=0.3.9 in /usr/local/lib/python3.12/dist-packages (from langchain) (0.3.9)\n",
            "Requirement already satisfied: langsmith>=0.1.17 in /usr/local/lib/python3.12/dist-packages (from langchain) (0.4.14)\n",
            "Requirement already satisfied: pydantic<3.0.0,>=2.7.4 in /usr/local/lib/python3.12/dist-packages (from langchain) (2.11.7)\n",
            "Requirement already satisfied: SQLAlchemy<3,>=1.4 in /usr/local/lib/python3.12/dist-packages (from langchain) (2.0.43)\n",
            "Requirement already satisfied: requests<3,>=2 in /usr/local/lib/python3.12/dist-packages (from langchain) (2.32.4)\n",
            "Requirement already satisfied: PyYAML>=5.3 in /usr/local/lib/python3.12/dist-packages (from langchain) (6.0.2)\n",
            "Requirement already satisfied: aiohttp<4.0.0,>=3.8.3 in /usr/local/lib/python3.12/dist-packages (from langchain-community) (3.12.15)\n",
            "Requirement already satisfied: tenacity!=8.4.0,<10,>=8.1.0 in /usr/local/lib/python3.12/dist-packages (from langchain-community) (9.1.2)\n",
            "Requirement already satisfied: dataclasses-json<0.7,>=0.5.7 in /usr/local/lib/python3.12/dist-packages (from langchain-community) (0.6.7)\n",
            "Requirement already satisfied: pydantic-settings<3.0.0,>=2.4.0 in /usr/local/lib/python3.12/dist-packages (from langchain-community) (2.10.1)\n",
            "Requirement already satisfied: httpx-sse<1.0.0,>=0.4.0 in /usr/local/lib/python3.12/dist-packages (from langchain-community) (0.4.1)\n",
            "Requirement already satisfied: numpy>=1.26.2 in /usr/local/lib/python3.12/dist-packages (from langchain-community) (2.0.2)\n",
            "Requirement already satisfied: transformers<5.0.0,>=4.41.0 in /usr/local/lib/python3.12/dist-packages (from sentence-transformers) (4.55.2)\n",
            "Requirement already satisfied: tqdm in /usr/local/lib/python3.12/dist-packages (from sentence-transformers) (4.67.1)\n",
            "Requirement already satisfied: torch>=1.11.0 in /usr/local/lib/python3.12/dist-packages (from sentence-transformers) (2.8.0+cu126)\n",
            "Requirement already satisfied: scikit-learn in /usr/local/lib/python3.12/dist-packages (from sentence-transformers) (1.6.1)\n",
            "Requirement already satisfied: scipy in /usr/local/lib/python3.12/dist-packages (from sentence-transformers) (1.16.1)\n",
            "Requirement already satisfied: huggingface-hub>=0.20.0 in /usr/local/lib/python3.12/dist-packages (from sentence-transformers) (0.34.4)\n",
            "Requirement already satisfied: Pillow in /usr/local/lib/python3.12/dist-packages (from sentence-transformers) (11.3.0)\n",
            "Requirement already satisfied: typing_extensions>=4.5.0 in /usr/local/lib/python3.12/dist-packages (from sentence-transformers) (4.14.1)\n",
            "Requirement already satisfied: pytz in /usr/local/lib/python3.12/dist-packages (from neo4j) (2025.2)\n",
            "Requirement already satisfied: aiohappyeyeballs>=2.5.0 in /usr/local/lib/python3.12/dist-packages (from aiohttp<4.0.0,>=3.8.3->langchain-community) (2.6.1)\n",
            "Requirement already satisfied: aiosignal>=1.4.0 in /usr/local/lib/python3.12/dist-packages (from aiohttp<4.0.0,>=3.8.3->langchain-community) (1.4.0)\n",
            "Requirement already satisfied: attrs>=17.3.0 in /usr/local/lib/python3.12/dist-packages (from aiohttp<4.0.0,>=3.8.3->langchain-community) (25.3.0)\n",
            "Requirement already satisfied: frozenlist>=1.1.1 in /usr/local/lib/python3.12/dist-packages (from aiohttp<4.0.0,>=3.8.3->langchain-community) (1.7.0)\n",
            "Requirement already satisfied: multidict<7.0,>=4.5 in /usr/local/lib/python3.12/dist-packages (from aiohttp<4.0.0,>=3.8.3->langchain-community) (6.6.4)\n",
            "Requirement already satisfied: propcache>=0.2.0 in /usr/local/lib/python3.12/dist-packages (from aiohttp<4.0.0,>=3.8.3->langchain-community) (0.3.2)\n",
            "Requirement already satisfied: yarl<2.0,>=1.17.0 in /usr/local/lib/python3.12/dist-packages (from aiohttp<4.0.0,>=3.8.3->langchain-community) (1.20.1)\n",
            "Requirement already satisfied: marshmallow<4.0.0,>=3.18.0 in /usr/local/lib/python3.12/dist-packages (from dataclasses-json<0.7,>=0.5.7->langchain-community) (3.26.1)\n",
            "Requirement already satisfied: typing-inspect<1,>=0.4.0 in /usr/local/lib/python3.12/dist-packages (from dataclasses-json<0.7,>=0.5.7->langchain-community) (0.9.0)\n",
            "Requirement already satisfied: filelock in /usr/local/lib/python3.12/dist-packages (from huggingface-hub>=0.20.0->sentence-transformers) (3.19.1)\n",
            "Requirement already satisfied: fsspec>=2023.5.0 in /usr/local/lib/python3.12/dist-packages (from huggingface-hub>=0.20.0->sentence-transformers) (2024.12.0)\n",
            "Requirement already satisfied: packaging>=20.9 in /usr/local/lib/python3.12/dist-packages (from huggingface-hub>=0.20.0->sentence-transformers) (25.0)\n",
            "Requirement already satisfied: hf-xet<2.0.0,>=1.1.3 in /usr/local/lib/python3.12/dist-packages (from huggingface-hub>=0.20.0->sentence-transformers) (1.1.7)\n",
            "Requirement already satisfied: jsonpatch<2.0,>=1.33 in /usr/local/lib/python3.12/dist-packages (from langchain-core<1.0.0,>=0.3.72->langchain) (1.33)\n",
            "Requirement already satisfied: httpx<1,>=0.23.0 in /usr/local/lib/python3.12/dist-packages (from langsmith>=0.1.17->langchain) (0.28.1)\n",
            "Requirement already satisfied: orjson>=3.9.14 in /usr/local/lib/python3.12/dist-packages (from langsmith>=0.1.17->langchain) (3.11.2)\n",
            "Requirement already satisfied: requests-toolbelt>=1.0.0 in /usr/local/lib/python3.12/dist-packages (from langsmith>=0.1.17->langchain) (1.0.0)\n",
            "Requirement already satisfied: zstandard>=0.23.0 in /usr/local/lib/python3.12/dist-packages (from langsmith>=0.1.17->langchain) (0.24.0)\n",
            "Requirement already satisfied: annotated-types>=0.6.0 in /usr/local/lib/python3.12/dist-packages (from pydantic<3.0.0,>=2.7.4->langchain) (0.7.0)\n",
            "Requirement already satisfied: pydantic-core==2.33.2 in /usr/local/lib/python3.12/dist-packages (from pydantic<3.0.0,>=2.7.4->langchain) (2.33.2)\n",
            "Requirement already satisfied: typing-inspection>=0.4.0 in /usr/local/lib/python3.12/dist-packages (from pydantic<3.0.0,>=2.7.4->langchain) (0.4.1)\n",
            "Requirement already satisfied: python-dotenv>=0.21.0 in /usr/local/lib/python3.12/dist-packages (from pydantic-settings<3.0.0,>=2.4.0->langchain-community) (1.1.1)\n",
            "Requirement already satisfied: charset_normalizer<4,>=2 in /usr/local/lib/python3.12/dist-packages (from requests<3,>=2->langchain) (3.4.3)\n",
            "Requirement already satisfied: idna<4,>=2.5 in /usr/local/lib/python3.12/dist-packages (from requests<3,>=2->langchain) (3.10)\n",
            "Requirement already satisfied: urllib3<3,>=1.21.1 in /usr/local/lib/python3.12/dist-packages (from requests<3,>=2->langchain) (2.5.0)\n",
            "Requirement already satisfied: certifi>=2017.4.17 in /usr/local/lib/python3.12/dist-packages (from requests<3,>=2->langchain) (2025.8.3)\n",
            "Requirement already satisfied: greenlet>=1 in /usr/local/lib/python3.12/dist-packages (from SQLAlchemy<3,>=1.4->langchain) (3.2.4)\n",
            "Requirement already satisfied: setuptools in /usr/local/lib/python3.12/dist-packages (from torch>=1.11.0->sentence-transformers) (75.2.0)\n",
            "Requirement already satisfied: sympy>=1.13.3 in /usr/local/lib/python3.12/dist-packages (from torch>=1.11.0->sentence-transformers) (1.13.3)\n",
            "Requirement already satisfied: networkx in /usr/local/lib/python3.12/dist-packages (from torch>=1.11.0->sentence-transformers) (3.5)\n",
            "Requirement already satisfied: jinja2 in /usr/local/lib/python3.12/dist-packages (from torch>=1.11.0->sentence-transformers) (3.1.6)\n",
            "Requirement already satisfied: nvidia-cuda-nvrtc-cu12==12.6.77 in /usr/local/lib/python3.12/dist-packages (from torch>=1.11.0->sentence-transformers) (12.6.77)\n",
            "Requirement already satisfied: nvidia-cuda-runtime-cu12==12.6.77 in /usr/local/lib/python3.12/dist-packages (from torch>=1.11.0->sentence-transformers) (12.6.77)\n",
            "Requirement already satisfied: nvidia-cuda-cupti-cu12==12.6.80 in /usr/local/lib/python3.12/dist-packages (from torch>=1.11.0->sentence-transformers) (12.6.80)\n",
            "Requirement already satisfied: nvidia-cudnn-cu12==9.10.2.21 in /usr/local/lib/python3.12/dist-packages (from torch>=1.11.0->sentence-transformers) (9.10.2.21)\n",
            "Requirement already satisfied: nvidia-cublas-cu12==12.6.4.1 in /usr/local/lib/python3.12/dist-packages (from torch>=1.11.0->sentence-transformers) (12.6.4.1)\n",
            "Requirement already satisfied: nvidia-cufft-cu12==11.3.0.4 in /usr/local/lib/python3.12/dist-packages (from torch>=1.11.0->sentence-transformers) (11.3.0.4)\n",
            "Requirement already satisfied: nvidia-curand-cu12==10.3.7.77 in /usr/local/lib/python3.12/dist-packages (from torch>=1.11.0->sentence-transformers) (10.3.7.77)\n",
            "Requirement already satisfied: nvidia-cusolver-cu12==11.7.1.2 in /usr/local/lib/python3.12/dist-packages (from torch>=1.11.0->sentence-transformers) (11.7.1.2)\n",
            "Requirement already satisfied: nvidia-cusparse-cu12==12.5.4.2 in /usr/local/lib/python3.12/dist-packages (from torch>=1.11.0->sentence-transformers) (12.5.4.2)\n",
            "Requirement already satisfied: nvidia-cusparselt-cu12==0.7.1 in /usr/local/lib/python3.12/dist-packages (from torch>=1.11.0->sentence-transformers) (0.7.1)\n",
            "Requirement already satisfied: nvidia-nccl-cu12==2.27.3 in /usr/local/lib/python3.12/dist-packages (from torch>=1.11.0->sentence-transformers) (2.27.3)\n",
            "Requirement already satisfied: nvidia-nvtx-cu12==12.6.77 in /usr/local/lib/python3.12/dist-packages (from torch>=1.11.0->sentence-transformers) (12.6.77)\n",
            "Requirement already satisfied: nvidia-nvjitlink-cu12==12.6.85 in /usr/local/lib/python3.12/dist-packages (from torch>=1.11.0->sentence-transformers) (12.6.85)\n",
            "Requirement already satisfied: nvidia-cufile-cu12==1.11.1.6 in /usr/local/lib/python3.12/dist-packages (from torch>=1.11.0->sentence-transformers) (1.11.1.6)\n",
            "Requirement already satisfied: triton==3.4.0 in /usr/local/lib/python3.12/dist-packages (from torch>=1.11.0->sentence-transformers) (3.4.0)\n",
            "Requirement already satisfied: regex!=2019.12.17 in /usr/local/lib/python3.12/dist-packages (from transformers<5.0.0,>=4.41.0->sentence-transformers) (2024.11.6)\n",
            "Requirement already satisfied: tokenizers<0.22,>=0.21 in /usr/local/lib/python3.12/dist-packages (from transformers<5.0.0,>=4.41.0->sentence-transformers) (0.21.4)\n",
            "Requirement already satisfied: safetensors>=0.4.3 in /usr/local/lib/python3.12/dist-packages (from transformers<5.0.0,>=4.41.0->sentence-transformers) (0.6.2)\n",
            "Requirement already satisfied: joblib>=1.2.0 in /usr/local/lib/python3.12/dist-packages (from scikit-learn->sentence-transformers) (1.5.1)\n",
            "Requirement already satisfied: threadpoolctl>=3.1.0 in /usr/local/lib/python3.12/dist-packages (from scikit-learn->sentence-transformers) (3.6.0)\n",
            "Requirement already satisfied: anyio in /usr/local/lib/python3.12/dist-packages (from httpx<1,>=0.23.0->langsmith>=0.1.17->langchain) (4.10.0)\n",
            "Requirement already satisfied: httpcore==1.* in /usr/local/lib/python3.12/dist-packages (from httpx<1,>=0.23.0->langsmith>=0.1.17->langchain) (1.0.9)\n",
            "Requirement already satisfied: h11>=0.16 in /usr/local/lib/python3.12/dist-packages (from httpcore==1.*->httpx<1,>=0.23.0->langsmith>=0.1.17->langchain) (0.16.0)\n",
            "Requirement already satisfied: jsonpointer>=1.9 in /usr/local/lib/python3.12/dist-packages (from jsonpatch<2.0,>=1.33->langchain-core<1.0.0,>=0.3.72->langchain) (3.0.0)\n",
            "Requirement already satisfied: mpmath<1.4,>=1.1.0 in /usr/local/lib/python3.12/dist-packages (from sympy>=1.13.3->torch>=1.11.0->sentence-transformers) (1.3.0)\n",
            "Requirement already satisfied: mypy-extensions>=0.3.0 in /usr/local/lib/python3.12/dist-packages (from typing-inspect<1,>=0.4.0->dataclasses-json<0.7,>=0.5.7->langchain-community) (1.1.0)\n",
            "Requirement already satisfied: MarkupSafe>=2.0 in /usr/local/lib/python3.12/dist-packages (from jinja2->torch>=1.11.0->sentence-transformers) (3.0.2)\n",
            "Requirement already satisfied: sniffio>=1.1 in /usr/local/lib/python3.12/dist-packages (from anyio->httpx<1,>=0.23.0->langsmith>=0.1.17->langchain) (1.3.1)\n"
          ]
        }
      ],
      "source": [
        "!pip install langchain langchain-community sentence-transformers neo4j"
      ]
    },
    {
      "cell_type": "code",
      "execution_count": 24,
      "metadata": {
        "id": "vhTaCCmbtLyP"
      },
      "outputs": [],
      "source": [
        "from langchain_community.embeddings import HuggingFaceEmbeddings\n",
        "from langchain_community.vectorstores import Neo4jVector\n",
        "from langchain_community.graphs import Neo4jGraph\n",
        "from langchain_core.prompts import ChatPromptTemplate\n",
        "from langchain_core.prompts.prompt import PromptTemplate"
      ]
    },
    {
      "cell_type": "code",
      "execution_count": 38,
      "metadata": {
        "colab": {
          "base_uri": "https://localhost:8080/"
        },
        "id": "GnMdYYOUtPDW",
        "outputId": "5271b490-fb60-4302-e335-1ab6e0cf9983"
      },
      "outputs": [
        {
          "name": "stdout",
          "output_type": "stream",
          "text": [
            "Collecting langchain-huggingface\n",
            "  Downloading langchain_huggingface-0.3.1-py3-none-any.whl.metadata (996 bytes)\n",
            "Requirement already satisfied: langchain-core<1.0.0,>=0.3.70 in /usr/local/lib/python3.12/dist-packages (from langchain-huggingface) (0.3.74)\n",
            "Requirement already satisfied: tokenizers>=0.19.1 in /usr/local/lib/python3.12/dist-packages (from langchain-huggingface) (0.21.4)\n",
            "Requirement already satisfied: huggingface-hub>=0.33.4 in /usr/local/lib/python3.12/dist-packages (from langchain-huggingface) (0.34.4)\n",
            "Requirement already satisfied: filelock in /usr/local/lib/python3.12/dist-packages (from huggingface-hub>=0.33.4->langchain-huggingface) (3.19.1)\n",
            "Requirement already satisfied: fsspec>=2023.5.0 in /usr/local/lib/python3.12/dist-packages (from huggingface-hub>=0.33.4->langchain-huggingface) (2024.12.0)\n",
            "Requirement already satisfied: packaging>=20.9 in /usr/local/lib/python3.12/dist-packages (from huggingface-hub>=0.33.4->langchain-huggingface) (25.0)\n",
            "Requirement already satisfied: pyyaml>=5.1 in /usr/local/lib/python3.12/dist-packages (from huggingface-hub>=0.33.4->langchain-huggingface) (6.0.2)\n",
            "Requirement already satisfied: requests in /usr/local/lib/python3.12/dist-packages (from huggingface-hub>=0.33.4->langchain-huggingface) (2.32.4)\n",
            "Requirement already satisfied: tqdm>=4.42.1 in /usr/local/lib/python3.12/dist-packages (from huggingface-hub>=0.33.4->langchain-huggingface) (4.67.1)\n",
            "Requirement already satisfied: typing-extensions>=3.7.4.3 in /usr/local/lib/python3.12/dist-packages (from huggingface-hub>=0.33.4->langchain-huggingface) (4.14.1)\n",
            "Requirement already satisfied: hf-xet<2.0.0,>=1.1.3 in /usr/local/lib/python3.12/dist-packages (from huggingface-hub>=0.33.4->langchain-huggingface) (1.1.7)\n",
            "Requirement already satisfied: langsmith>=0.3.45 in /usr/local/lib/python3.12/dist-packages (from langchain-core<1.0.0,>=0.3.70->langchain-huggingface) (0.4.14)\n",
            "Requirement already satisfied: tenacity!=8.4.0,<10.0.0,>=8.1.0 in /usr/local/lib/python3.12/dist-packages (from langchain-core<1.0.0,>=0.3.70->langchain-huggingface) (9.1.2)\n",
            "Requirement already satisfied: jsonpatch<2.0,>=1.33 in /usr/local/lib/python3.12/dist-packages (from langchain-core<1.0.0,>=0.3.70->langchain-huggingface) (1.33)\n",
            "Requirement already satisfied: pydantic>=2.7.4 in /usr/local/lib/python3.12/dist-packages (from langchain-core<1.0.0,>=0.3.70->langchain-huggingface) (2.11.7)\n",
            "Requirement already satisfied: jsonpointer>=1.9 in /usr/local/lib/python3.12/dist-packages (from jsonpatch<2.0,>=1.33->langchain-core<1.0.0,>=0.3.70->langchain-huggingface) (3.0.0)\n",
            "Requirement already satisfied: httpx<1,>=0.23.0 in /usr/local/lib/python3.12/dist-packages (from langsmith>=0.3.45->langchain-core<1.0.0,>=0.3.70->langchain-huggingface) (0.28.1)\n",
            "Requirement already satisfied: orjson>=3.9.14 in /usr/local/lib/python3.12/dist-packages (from langsmith>=0.3.45->langchain-core<1.0.0,>=0.3.70->langchain-huggingface) (3.11.2)\n",
            "Requirement already satisfied: requests-toolbelt>=1.0.0 in /usr/local/lib/python3.12/dist-packages (from langsmith>=0.3.45->langchain-core<1.0.0,>=0.3.70->langchain-huggingface) (1.0.0)\n",
            "Requirement already satisfied: zstandard>=0.23.0 in /usr/local/lib/python3.12/dist-packages (from langsmith>=0.3.45->langchain-core<1.0.0,>=0.3.70->langchain-huggingface) (0.24.0)\n",
            "Requirement already satisfied: annotated-types>=0.6.0 in /usr/local/lib/python3.12/dist-packages (from pydantic>=2.7.4->langchain-core<1.0.0,>=0.3.70->langchain-huggingface) (0.7.0)\n",
            "Requirement already satisfied: pydantic-core==2.33.2 in /usr/local/lib/python3.12/dist-packages (from pydantic>=2.7.4->langchain-core<1.0.0,>=0.3.70->langchain-huggingface) (2.33.2)\n",
            "Requirement already satisfied: typing-inspection>=0.4.0 in /usr/local/lib/python3.12/dist-packages (from pydantic>=2.7.4->langchain-core<1.0.0,>=0.3.70->langchain-huggingface) (0.4.1)\n",
            "Requirement already satisfied: charset_normalizer<4,>=2 in /usr/local/lib/python3.12/dist-packages (from requests->huggingface-hub>=0.33.4->langchain-huggingface) (3.4.3)\n",
            "Requirement already satisfied: idna<4,>=2.5 in /usr/local/lib/python3.12/dist-packages (from requests->huggingface-hub>=0.33.4->langchain-huggingface) (3.10)\n",
            "Requirement already satisfied: urllib3<3,>=1.21.1 in /usr/local/lib/python3.12/dist-packages (from requests->huggingface-hub>=0.33.4->langchain-huggingface) (2.5.0)\n",
            "Requirement already satisfied: certifi>=2017.4.17 in /usr/local/lib/python3.12/dist-packages (from requests->huggingface-hub>=0.33.4->langchain-huggingface) (2025.8.3)\n",
            "Requirement already satisfied: anyio in /usr/local/lib/python3.12/dist-packages (from httpx<1,>=0.23.0->langsmith>=0.3.45->langchain-core<1.0.0,>=0.3.70->langchain-huggingface) (4.10.0)\n",
            "Requirement already satisfied: httpcore==1.* in /usr/local/lib/python3.12/dist-packages (from httpx<1,>=0.23.0->langsmith>=0.3.45->langchain-core<1.0.0,>=0.3.70->langchain-huggingface) (1.0.9)\n",
            "Requirement already satisfied: h11>=0.16 in /usr/local/lib/python3.12/dist-packages (from httpcore==1.*->httpx<1,>=0.23.0->langsmith>=0.3.45->langchain-core<1.0.0,>=0.3.70->langchain-huggingface) (0.16.0)\n",
            "Requirement already satisfied: sniffio>=1.1 in /usr/local/lib/python3.12/dist-packages (from anyio->httpx<1,>=0.23.0->langsmith>=0.3.45->langchain-core<1.0.0,>=0.3.70->langchain-huggingface) (1.3.1)\n",
            "Downloading langchain_huggingface-0.3.1-py3-none-any.whl (27 kB)\n",
            "Installing collected packages: langchain-huggingface\n",
            "Successfully installed langchain-huggingface-0.3.1\n"
          ]
        }
      ],
      "source": [
        "!pip install -U langchain-huggingface\n",
        "\n",
        "from langchain_huggingface import HuggingFaceEmbeddings\n",
        "\n",
        "embeddings = HuggingFaceEmbeddings(\n",
        "    model_name=\"sentence-transformers/all-MiniLM-L6-v2\"\n",
        ")"
      ]
    },
    {
      "cell_type": "code",
      "execution_count": null,
      "metadata": {
        "id": "X-BISAlBtR0t"
      },
      "outputs": [],
      "source": [
        "NEO4J_URI=\"neo4j+s://dd69d9f9.databases.neo4j.io\"\n",
        "vector_index = Neo4jVector.from_existing_graph(\n",
        "     embedding=embeddings,\n",
        "    url=\"\",\n",
        "    username=\"\",\n",
        "    password=\"\",\n",
        "    database=\"neo4j\",\n",
        "    search_type=\"hybrid\",      # or \"vector\"\n",
        "    node_label=\"Document\",\n",
        "    text_node_properties=[\"text\"],\n",
        "    embedding_node_property=\"embedding\"\n",
        ")"
      ]
    },
    {
      "cell_type": "code",
      "execution_count": 40,
      "metadata": {
        "id": "Oq-xIg_SWsOq"
      },
      "outputs": [],
      "source": [
        "graph_query=(\"CREATE FULLTEXT INDEX entity IF NOT EXISTS FOR (e:__Entity__) ON EACH [e.id]\")"
      ]
    },
    {
      "cell_type": "code",
      "execution_count": 41,
      "metadata": {
        "id": "mqdYigVbSDAw"
      },
      "outputs": [],
      "source": [
        "from langchain_core.pydantic_v1 import BaseModel, Field\n",
        "from typing import List\n",
        "class Entities(BaseModel):\n",
        "     names: List[str]=Field(\n",
        "         ...,\n",
        "         description=\"All the person, organisation or business entities that\"\n",
        "         \"appear in the text\",\n",
        "     )"
      ]
    },
    {
      "cell_type": "code",
      "execution_count": 42,
      "metadata": {
        "id": "ssN6IS1wTzaR"
      },
      "outputs": [],
      "source": [
        "prompt = ChatPromptTemplate.from_messages(\n",
        "    [\n",
        "        (\n",
        "            \"system\",\n",
        "            \"You are extracting organisation and person entities from the text.\"\n",
        "        ),\n",
        "        (\n",
        "            \"human\",\n",
        "            \"Use the given format to extract the information from the following input: {question}\"\n",
        "        ),\n",
        "    ]\n",
        ")\n"
      ]
    },
    {
      "cell_type": "code",
      "execution_count": 43,
      "metadata": {
        "id": "K8Ecr6alUvLY"
      },
      "outputs": [],
      "source": [
        "entity_chain = prompt | llm.with_structured_output(Entities)"
      ]
    },
    {
      "cell_type": "code",
      "execution_count": 45,
      "metadata": {
        "colab": {
          "base_uri": "https://localhost:8080/"
        },
        "id": "q05UVB_gVRxZ",
        "outputId": "c1c4e8e6-fee6-4ee9-854e-45ac804067df"
      },
      "outputs": [
        {
          "data": {
            "text/plain": [
              "['Amelia Earhart']"
            ]
          },
          "execution_count": 45,
          "metadata": {},
          "output_type": "execute_result"
        }
      ],
      "source": [
        "entity_chain.invoke({\"question\" :\"where was Amelia Earhart born?\"}).names"
      ]
    },
    {
      "cell_type": "code",
      "execution_count": 46,
      "metadata": {
        "id": "E4aqKu8LVsRQ"
      },
      "outputs": [],
      "source": [
        "from langchain_community.vectorstores.neo4j_vector import remove_lucene_chars"
      ]
    },
    {
      "cell_type": "code",
      "execution_count": 47,
      "metadata": {
        "id": "fek-GWtfXnax"
      },
      "outputs": [],
      "source": [
        "def generate_full_text_query(input: str) -> str:\n",
        "    full_text_query =\"\"\n",
        "    words = [el for el in remove_lucene_chars(input).split() if el]\n",
        "    for word in words[:-1]:\n",
        "        full_text_query += f\" {word}~2 AND\"\n",
        "    full_text_query += f\" {words[-1]}~2\"\n",
        "    return full_text_query.strip()"
      ]
    },
    {
      "cell_type": "code",
      "execution_count": 48,
      "metadata": {
        "id": "YsD9Du25Yds4"
      },
      "outputs": [],
      "source": [
        "def structured_retriever(question: str) -> str:\n",
        "    result = \"\"\n",
        "    entities = entity_chain.invoke({\"question\": question})\n",
        "\n",
        "    for entity in entities.names:\n",
        "        response = graph.query(\n",
        "            \"\"\"\n",
        "            CALL db.index.fulltext.queryNodes('entity', $query, {limit: 2})\n",
        "            YIELD node, score\n",
        "            CALL {\n",
        "                WITH node\n",
        "                MATCH (node)-[r:!MENTIONS]->(neighbor)\n",
        "                RETURN node.id + ' ' + type(r) + '->' + neighbor.id AS output\n",
        "                UNION ALL\n",
        "                WITH node\n",
        "                MATCH (node)<-[r:!MENTIONS]-(neighbor)\n",
        "                RETURN neighbor.id + ' ' + type(r) + '->' + node.id AS output\n",
        "            }\n",
        "            RETURN output LIMIT 50\n",
        "            \"\"\",\n",
        "            {\"query\": generate_full_text_query(entity)},\n",
        "        )\n",
        "        result += \"\\n\".join([el[\"output\"] for el in response])\n",
        "\n",
        "    return result"
      ]
    },
    {
      "cell_type": "code",
      "execution_count": 49,
      "metadata": {
        "colab": {
          "base_uri": "https://localhost:8080/"
        },
        "id": "80V6ypggnuod",
        "outputId": "eb44ab3b-8beb-4eed-bbc5-ec6717368cbf"
      },
      "outputs": [
        {
          "data": {
            "text/plain": [
              "[]"
            ]
          },
          "execution_count": 49,
          "metadata": {},
          "output_type": "execute_result"
        }
      ],
      "source": [
        "graph.query(graph_query)"
      ]
    },
    {
      "cell_type": "code",
      "execution_count": 50,
      "metadata": {
        "colab": {
          "base_uri": "https://localhost:8080/"
        },
        "id": "aZomMPvvZ3lP",
        "outputId": "d0ede1b6-fa9c-4483-e63a-4af7d61c791c"
      },
      "outputs": [
        {
          "name": "stderr",
          "output_type": "stream",
          "text": [
            "WARNING:neo4j.notifications:Received notification from DBMS server: {severity: WARNING} {code: Neo.ClientNotification.Statement.FeatureDeprecationWarning} {category: DEPRECATION} {title: This feature is deprecated and will be removed in future versions.} {description: CALL subquery without a variable scope clause is now deprecated. Use CALL (node, node) { ... }} {position: line: 4, column: 13, offset: 119} for query: \"\\n            CALL db.index.fulltext.queryNodes('entity', $query, {limit: 2})\\n            YIELD node, score\\n            CALL {\\n                WITH node\\n                MATCH (node)-[r:!MENTIONS]->(neighbor)\\n                RETURN node.id + ' ' + type(r) + '->' + neighbor.id AS output\\n                UNION ALL\\n                WITH node\\n                MATCH (node)<-[r:!MENTIONS]-(neighbor)\\n                RETURN neighbor.id + ' ' + type(r) + '->' + node.id AS output\\n            }\\n            RETURN output LIMIT 50\\n            \"\n"
          ]
        },
        {
          "name": "stdout",
          "output_type": "stream",
          "text": [
            "Elizabeth I PARENT->Henry Viii\n",
            "Elizabeth I PARENT->Anne Boleyn\n",
            "Elizabeth I PARENT->Henry Viii Of England\n",
            "Elizabeth I SIBLING->Edward Vi\n",
            "Elizabeth I SIBLING->Mary\n",
            "Elizabeth I SIBLING->Mary I\n",
            "Elizabeth I RELATIVE->James Vi Of Scotland\n",
            "Elizabeth I ADVISOR->William Cecil\n",
            "Elizabeth I ADVISOR->Francis Walsingham\n",
            "Elizabeth I MINISTER->Francis Walsingham\n",
            "Elizabeth I MOTHER->Anne Boleyn\n",
            "Elizabeth I GRANDMOTHER->Elizabeth Of York\n",
            "Elizabeth I GRANDMOTHER->Lady Elizabeth Howard\n",
            "Elizabeth I RULER->England\n",
            "Elizabeth I DAUGHTER->Henry Viii\n",
            "Elizabeth I FATHER->Henry Viii\n",
            "Elizabeth I SUCCESSOR->James Vi Of Scotland\n",
            "Elizabeth I RELATION->James Vi Of Scotland\n",
            "Elizabeth I RULER_OF->England\n",
            "Elizabeth I RULER_OF->Ireland\n",
            "Elizabeth I CHILD_OF->Henry Viii\n",
            "Elizabeth I CHILD_OF->Anne Boleyn\n",
            "Elizabeth I HALF_SIBLING->Edward Vi\n",
            "Elizabeth I HALF_SIBLING->Mary\n",
            "Elizabeth I COUSIN->James Vi Of Scotland\n",
            "Elizabeth I TRUSTED_ADVISER->William Cecil\n",
            "Elizabeth I COUNSELOR->William Cecil\n",
            "Elizabeth I COUNSELOR->Francis Walsingham\n",
            "Elizabeth I PRECEDESSOR->Lady Jane Grey\n",
            "Elizabeth I TRUSTED_ADVISOR->William Cecil\n",
            "Elizabeth I SECRET_SERVICE_HEAD->Francis Walsingham\n",
            "Elizabeth I SUCCESSION_CANDIDATE->Jane Grey\n",
            "Elizabeth I SUCCESSION_CANDIDATE->Katherine Grey\n",
            "Elizabeth I SUCCESSION_CANDIDATE->Mary Grey\n",
            "Elizabeth I SUCCESSION_CANDIDATE->Margaret Clifford\n",
            "Elizabeth I RELATIVES->James Vi Of Scotland\n",
            "Elizabeth I AGENT->Francis Walsingham\n",
            "Henry Viii PARENT->Elizabeth I\n",
            "Henry Viii DAUGHTER->Elizabeth I\n",
            "James Vi Of Scotland SUCCESSOR->Elizabeth I\n",
            "Henry Viii CHILD->Elizabeth I\n",
            "James Vi Of Scotland SUCCESSION->Elizabeth I\n",
            "Elizabeth Or Elizaveta Petrovna PARENT->Tsar Peter The Great\n",
            "Elizabeth Or Elizaveta Petrovna PARENT->Catherine I Of Russia\n",
            "Elizabeth Or Elizaveta Petrovna RELATIVE->Peter Ii\n",
            "Elizabeth Or Elizaveta Petrovna RELATIVE->Anna\n",
            "Elizabeth Or Elizaveta Petrovna RELATIVE->Ivan Vi\n",
            "Elizabeth Or Elizaveta Petrovna RELATIVE->Peter Iii\n",
            "Elizabeth Or Elizaveta Petrovna SUPPORTER->Mikhail Lomonosov\n",
            "Elizabeth Or Elizaveta Petrovna SUPPORTER->Ivan Shuvalov\n"
          ]
        }
      ],
      "source": [
        "print(structured_retriever(\"who was Elizabeth I?\"))"
      ]
    },
    {
      "cell_type": "code",
      "execution_count": 37,
      "metadata": {
        "id": "TVLkYLYEaZMP"
      },
      "outputs": [],
      "source": [
        "def retriver(question: str):\n",
        "    print(f\"Search query: {question}\")\n",
        "    structured_data = structured_retriever (question)\n",
        "    unstructured_data = [el.page_content for el in vector_index.similarity_search (question)]\n",
        "    final_data = f\"\"\"Structured data:\n",
        "{structured_data}\n",
        "Unstructured data:\n",
        "{\"#Document \". join (unstructured_data)}\n",
        "\"\"\"\n",
        "    return final_data"
      ]
    },
    {
      "cell_type": "code",
      "execution_count": 51,
      "metadata": {
        "id": "iM7oWryMbMKG"
      },
      "outputs": [],
      "source": [
        "_template = \"\"\"Given the following conversation and a follow up question,\n",
        "rephrase the follow up question to be a standalone question,\n",
        "in its original language.\n",
        "\n",
        "Chat History:\n",
        "{chat_history}\n",
        "\n",
        "Follow Up Input:\n",
        "{question}\n",
        "\n",
        "Standalone question:\"\"\"\n"
      ]
    },
    {
      "cell_type": "code",
      "execution_count": 52,
      "metadata": {
        "id": "hN07ehPebhYO"
      },
      "outputs": [],
      "source": [
        "CONDENSE_QUESTION_PROMPT = PromptTemplate.from_template(_template)"
      ]
    },
    {
      "cell_type": "code",
      "execution_count": 53,
      "metadata": {
        "id": "IKOfSuZ_btyt"
      },
      "outputs": [],
      "source": [
        "from typing import List, Tuple\n",
        "from langchain.schema import HumanMessage, AIMessage\n",
        "def _format_chat_history(chat_history: List[Tuple[str, str]]):\n",
        "    buffer = []\n",
        "    for human, ai in chat_history:\n",
        "        buffer.append(HumanMessage(content=human))\n",
        "        buffer.append(AIMessage(content=ai))\n",
        "    return buffer"
      ]
    },
    {
      "cell_type": "code",
      "execution_count": 54,
      "metadata": {
        "id": "froyhLdTdpae"
      },
      "outputs": [],
      "source": [
        "from langchain_core.runnables import RunnableBranch, RunnableLambda, RunnablePassthrough\n",
        "from langchain_core.output_parsers import StrOutputParser"
      ]
    },
    {
      "cell_type": "code",
      "execution_count": 59,
      "metadata": {
        "id": "s_a9iPZ2b9nB"
      },
      "outputs": [],
      "source": [
        "from langchain_core.prompts import PromptTemplate\n",
        "from langchain_core.output_parsers import StrOutputParser\n",
        "from langchain_core.runnables import RunnableBranch, RunnableLambda, RunnablePassthrough\n",
        "\n",
        "# Fixed branch logic with default\n",
        "_search_query = RunnableBranch(\n",
        "    # CASE 1: If input includes chat history\n",
        "    (\n",
        "        RunnableLambda(lambda x: bool(x.get(\"chat_history\"))).with_config(\n",
        "            run_name=\"HasChatHistoryCheck\"\n",
        "        ),\n",
        "        (\n",
        "            RunnablePassthrough.assign(\n",
        "                chat_history=lambda x: _format_chat_history(x[\"chat_history\"])\n",
        "            )\n",
        "            | CONDENSE_QUESTION_PROMPT\n",
        "            | llm\n",
        "            | StrOutputParser()\n",
        "        ),\n",
        "    ),\n",
        "    # CASE 2: Else → no chat history, just pass through the question\n",
        "    RunnableLambda(lambda x: x[\"question\"]),\n",
        ")"
      ]
    },
    {
      "cell_type": "code",
      "execution_count": 60,
      "metadata": {
        "id": "dRj2D2AtdkPK"
      },
      "outputs": [],
      "source": [
        "template=\"\"\" Answer the question based on the following context:\n",
        "            {context}\n",
        "            Question:{question}\n",
        "            Use the natural language and be concise.\n",
        "            Answer:\"\"\""
      ]
    },
    {
      "cell_type": "code",
      "execution_count": 61,
      "metadata": {
        "id": "ejrBM3dTecDd"
      },
      "outputs": [],
      "source": [
        "prompt=ChatPromptTemplate.from_template(template)"
      ]
    },
    {
      "cell_type": "code",
      "execution_count": 63,
      "metadata": {
        "id": "FAJ8BwNZept-"
      },
      "outputs": [],
      "source": [
        "from langchain_core.runnables import RunnableParallel\n",
        "\n",
        "chain=(\n",
        "    RunnableParallel(\n",
        "        {\n",
        "            \"context\":_search_query | retriver,\n",
        "            \"question\": RunnablePassthrough(),\n",
        "        }\n",
        "    )\n",
        "    | prompt\n",
        "    | llm\n",
        "    | StrOutputParser()\n",
        ")"
      ]
    },
    {
      "cell_type": "code",
      "execution_count": 64,
      "metadata": {
        "colab": {
          "base_uri": "https://localhost:8080/",
          "height": 108
        },
        "id": "XS6mMTIffiML",
        "outputId": "ec12169e-8154-413d-c276-4b5fc41df0ad"
      },
      "outputs": [
        {
          "name": "stdout",
          "output_type": "stream",
          "text": [
            "Search query: Which house did Elizabeth I belong to?\n"
          ]
        },
        {
          "name": "stderr",
          "output_type": "stream",
          "text": [
            "WARNING:neo4j.notifications:Received notification from DBMS server: {severity: WARNING} {code: Neo.ClientNotification.Statement.FeatureDeprecationWarning} {category: DEPRECATION} {title: This feature is deprecated and will be removed in future versions.} {description: CALL subquery without a variable scope clause is now deprecated. Use CALL (node, node) { ... }} {position: line: 4, column: 13, offset: 119} for query: \"\\n            CALL db.index.fulltext.queryNodes('entity', $query, {limit: 2})\\n            YIELD node, score\\n            CALL {\\n                WITH node\\n                MATCH (node)-[r:!MENTIONS]->(neighbor)\\n                RETURN node.id + ' ' + type(r) + '->' + neighbor.id AS output\\n                UNION ALL\\n                WITH node\\n                MATCH (node)<-[r:!MENTIONS]-(neighbor)\\n                RETURN neighbor.id + ' ' + type(r) + '->' + node.id AS output\\n            }\\n            RETURN output LIMIT 50\\n            \"\n",
            "WARNING:neo4j.notifications:Received notification from DBMS server: {severity: WARNING} {code: Neo.ClientNotification.Statement.FeatureDeprecationWarning} {category: DEPRECATION} {title: This feature is deprecated and will be removed in future versions.} {description: CALL subquery without a variable scope clause is now deprecated. Use CALL () { ... }} {position: line: 1, column: 1, offset: 0} for query: \"CALL { CALL db.index.vector.queryNodes($index, $k, $embedding) YIELD node, score WITH collect({node:node, score:score}) AS nodes, max(score) AS max UNWIND nodes AS n RETURN n.node AS node, (n.score / max) AS score UNION CALL db.index.fulltext.queryNodes($keyword_index, $query, {limit: $k}) YIELD node, score WITH collect({node:node, score:score}) AS nodes, max(score) AS max UNWIND nodes AS n RETURN n.node AS node, (n.score / max) AS score } WITH node, max(score) AS score ORDER BY score DESC LIMIT $k RETURN reduce(str='', k IN ['text'] | str + '\\\\n' + k + ': ' + coalesce(node[k], '')) AS text, node {.*, `embedding`: Null, id: Null, `text`: Null} AS metadata, score\"\n"
          ]
        },
        {
          "data": {
            "application/vnd.google.colaboratory.intrinsic+json": {
              "type": "string"
            },
            "text/plain": [
              "'Elizabeth I belonged to the House of Tudor. \\n'"
            ]
          },
          "execution_count": 64,
          "metadata": {},
          "output_type": "execute_result"
        }
      ],
      "source": [
        "chain.invoke({\"question\":\"Which house did Elizabeth I belong to?\"})"
      ]
    }
  ],
  "metadata": {
    "accelerator": "GPU",
    "colab": {
      "gpuType": "T4",
      "provenance": []
    },
    "kernelspec": {
      "display_name": "Python 3",
      "name": "python3"
    },
    "language_info": {
      "name": "python"
    },
    "widgets": {
      "application/vnd.jupyter.widget-state+json": {
        "9e4d2e468d5e4f2695911ebe1be0f124": {
          "model_module": "@jupyter-widgets/base",
          "model_module_version": "1.2.0",
          "model_name": "LayoutModel",
          "state": {
            "_model_module": "@jupyter-widgets/base",
            "_model_module_version": "1.2.0",
            "_model_name": "LayoutModel",
            "_view_count": null,
            "_view_module": "@jupyter-widgets/base",
            "_view_module_version": "1.2.0",
            "_view_name": "LayoutView",
            "align_content": null,
            "align_items": null,
            "align_self": null,
            "border": null,
            "bottom": null,
            "display": null,
            "flex": null,
            "flex_flow": null,
            "grid_area": null,
            "grid_auto_columns": null,
            "grid_auto_flow": null,
            "grid_auto_rows": null,
            "grid_column": null,
            "grid_gap": null,
            "grid_row": null,
            "grid_template_areas": null,
            "grid_template_columns": null,
            "grid_template_rows": null,
            "height": "800px",
            "justify_content": null,
            "justify_items": null,
            "left": null,
            "margin": null,
            "max_height": null,
            "max_width": null,
            "min_height": null,
            "min_width": null,
            "object_fit": null,
            "object_position": null,
            "order": null,
            "overflow": null,
            "overflow_x": null,
            "overflow_y": null,
            "padding": null,
            "right": null,
            "top": null,
            "visibility": null,
            "width": "100%"
          }
        },
        "c23e8818d9264006b19146bc90431cb5": {
          "model_module": "yfiles-jupyter-graphs",
          "model_module_version": "^1.10.9",
          "model_name": "GraphModel",
          "state": {
            "_context_pane_mapping": [
              {
                "id": "Neighborhood",
                "title": "Neighborhood"
              },
              {
                "id": "Data",
                "title": "Data"
              },
              {
                "id": "Search",
                "title": "Search"
              },
              {
                "id": "About",
                "title": "About"
              }
            ],
            "_data_importer": "neo4j",
            "_directed": true,
            "_dom_classes": [],
            "_edges": [
              {
                "color": "#4CAF50",
                "directed": true,
                "end": 1563,
                "id": 1152924803141731800,
                "label": "MENTIONS",
                "properties": {
                  "label": "MENTIONS"
                },
                "start": 1562,
                "styles": {},
                "thickness_factor": 1
              },
              {
                "color": "#4CAF50",
                "directed": true,
                "end": 1564,
                "id": 1155176602955417000,
                "label": "MENTIONS",
                "properties": {
                  "label": "MENTIONS"
                },
                "start": 1562,
                "styles": {},
                "thickness_factor": 1
              },
              {
                "color": "#4CAF50",
                "directed": true,
                "end": 1565,
                "id": 1157428402769102300,
                "label": "MENTIONS",
                "properties": {
                  "label": "MENTIONS"
                },
                "start": 1562,
                "styles": {},
                "thickness_factor": 1
              },
              {
                "color": "#4CAF50",
                "directed": true,
                "end": 1566,
                "id": 1159680202582787600,
                "label": "MENTIONS",
                "properties": {
                  "label": "MENTIONS"
                },
                "start": 1562,
                "styles": {},
                "thickness_factor": 1
              },
              {
                "color": "#4CAF50",
                "directed": true,
                "end": 1567,
                "id": 1161932002396472800,
                "label": "MENTIONS",
                "properties": {
                  "label": "MENTIONS"
                },
                "start": 1562,
                "styles": {},
                "thickness_factor": 1
              },
              {
                "color": "#4CAF50",
                "directed": true,
                "end": 1568,
                "id": 1164183802210158000,
                "label": "MENTIONS",
                "properties": {
                  "label": "MENTIONS"
                },
                "start": 1562,
                "styles": {},
                "thickness_factor": 1
              },
              {
                "color": "#4CAF50",
                "directed": true,
                "end": 1569,
                "id": 1166435602023843300,
                "label": "MENTIONS",
                "properties": {
                  "label": "MENTIONS"
                },
                "start": 1562,
                "styles": {},
                "thickness_factor": 1
              },
              {
                "color": "#4CAF50",
                "directed": true,
                "end": 1570,
                "id": 1168687401837528600,
                "label": "MENTIONS",
                "properties": {
                  "label": "MENTIONS"
                },
                "start": 1562,
                "styles": {},
                "thickness_factor": 1
              },
              {
                "color": "#4CAF50",
                "directed": true,
                "end": 1571,
                "id": 1170939201651213800,
                "label": "MENTIONS",
                "properties": {
                  "label": "MENTIONS"
                },
                "start": 1562,
                "styles": {},
                "thickness_factor": 1
              },
              {
                "color": "#4CAF50",
                "directed": true,
                "end": 1581,
                "id": 1173191001464899000,
                "label": "MENTIONS",
                "properties": {
                  "label": "MENTIONS"
                },
                "start": 1562,
                "styles": {},
                "thickness_factor": 1
              },
              {
                "color": "#4CAF50",
                "directed": true,
                "end": 1584,
                "id": 1175442801278584300,
                "label": "MENTIONS",
                "properties": {
                  "label": "MENTIONS"
                },
                "start": 1562,
                "styles": {},
                "thickness_factor": 1
              },
              {
                "color": "#4CAF50",
                "directed": true,
                "end": 1563,
                "id": 1152924803141731800,
                "label": "MENTIONS",
                "properties": {
                  "label": "MENTIONS"
                },
                "start": 1572,
                "styles": {},
                "thickness_factor": 1
              },
              {
                "color": "#4CAF50",
                "directed": true,
                "end": 1564,
                "id": 1188953600160695800,
                "label": "MENTIONS",
                "properties": {
                  "label": "MENTIONS"
                },
                "start": 1572,
                "styles": {},
                "thickness_factor": 1
              },
              {
                "color": "#4CAF50",
                "directed": true,
                "end": 1565,
                "id": 1157428402769102300,
                "label": "MENTIONS",
                "properties": {
                  "label": "MENTIONS"
                },
                "start": 1572,
                "styles": {},
                "thickness_factor": 1
              },
              {
                "color": "#4CAF50",
                "directed": true,
                "end": 1573,
                "id": 1155176602955417000,
                "label": "MENTIONS",
                "properties": {
                  "label": "MENTIONS"
                },
                "start": 1572,
                "styles": {},
                "thickness_factor": 1
              },
              {
                "color": "#4CAF50",
                "directed": true,
                "end": 1574,
                "id": 1159680202582787600,
                "label": "MENTIONS",
                "properties": {
                  "label": "MENTIONS"
                },
                "start": 1572,
                "styles": {},
                "thickness_factor": 1
              },
              {
                "color": "#4CAF50",
                "directed": true,
                "end": 1575,
                "id": 1161932002396472800,
                "label": "MENTIONS",
                "properties": {
                  "label": "MENTIONS"
                },
                "start": 1572,
                "styles": {},
                "thickness_factor": 1
              },
              {
                "color": "#4CAF50",
                "directed": true,
                "end": 1576,
                "id": 1164183802210158000,
                "label": "MENTIONS",
                "properties": {
                  "label": "MENTIONS"
                },
                "start": 1572,
                "styles": {},
                "thickness_factor": 1
              },
              {
                "color": "#4CAF50",
                "directed": true,
                "end": 1577,
                "id": 1166435602023843300,
                "label": "MENTIONS",
                "properties": {
                  "label": "MENTIONS"
                },
                "start": 1572,
                "styles": {},
                "thickness_factor": 1
              },
              {
                "color": "#4CAF50",
                "directed": true,
                "end": 1578,
                "id": 1168687401837528600,
                "label": "MENTIONS",
                "properties": {
                  "label": "MENTIONS"
                },
                "start": 1572,
                "styles": {},
                "thickness_factor": 1
              },
              {
                "color": "#4CAF50",
                "directed": true,
                "end": 1579,
                "id": 1170939201651213800,
                "label": "MENTIONS",
                "properties": {
                  "label": "MENTIONS"
                },
                "start": 1572,
                "styles": {},
                "thickness_factor": 1
              },
              {
                "color": "#4CAF50",
                "directed": true,
                "end": 1580,
                "id": 1173191001464899000,
                "label": "MENTIONS",
                "properties": {
                  "label": "MENTIONS"
                },
                "start": 1572,
                "styles": {},
                "thickness_factor": 1
              },
              {
                "color": "#4CAF50",
                "directed": true,
                "end": 1581,
                "id": 1175442801278584300,
                "label": "MENTIONS",
                "properties": {
                  "label": "MENTIONS"
                },
                "start": 1572,
                "styles": {},
                "thickness_factor": 1
              },
              {
                "color": "#4CAF50",
                "directed": true,
                "end": 1582,
                "id": 1177694601092269600,
                "label": "MENTIONS",
                "properties": {
                  "label": "MENTIONS"
                },
                "start": 1572,
                "styles": {},
                "thickness_factor": 1
              },
              {
                "color": "#4CAF50",
                "directed": true,
                "end": 1583,
                "id": 1179946400905954800,
                "label": "MENTIONS",
                "properties": {
                  "label": "MENTIONS"
                },
                "start": 1572,
                "styles": {},
                "thickness_factor": 1
              },
              {
                "color": "#4CAF50",
                "directed": true,
                "end": 1584,
                "id": 1182198200719640000,
                "label": "MENTIONS",
                "properties": {
                  "label": "MENTIONS"
                },
                "start": 1572,
                "styles": {},
                "thickness_factor": 1
              },
              {
                "color": "#4CAF50",
                "directed": true,
                "end": 1585,
                "id": 1184450000533325300,
                "label": "MENTIONS",
                "properties": {
                  "label": "MENTIONS"
                },
                "start": 1572,
                "styles": {},
                "thickness_factor": 1
              },
              {
                "color": "#4CAF50",
                "directed": true,
                "end": 1604,
                "id": 1186701800347010600,
                "label": "MENTIONS",
                "properties": {
                  "label": "MENTIONS"
                },
                "start": 1572,
                "styles": {},
                "thickness_factor": 1
              },
              {
                "color": "#4CAF50",
                "directed": true,
                "end": 1646,
                "id": 6917532326175967000,
                "label": "MENTIONS",
                "properties": {
                  "label": "MENTIONS"
                },
                "start": 1572,
                "styles": {},
                "thickness_factor": 1
              },
              {
                "color": "#4CAF50",
                "directed": true,
                "end": 1587,
                "id": 1152924803141731800,
                "label": "MENTIONS",
                "properties": {
                  "label": "MENTIONS"
                },
                "start": 1586,
                "styles": {},
                "thickness_factor": 1
              },
              {
                "color": "#4CAF50",
                "directed": true,
                "end": 1588,
                "id": 1155176602955417000,
                "label": "MENTIONS",
                "properties": {
                  "label": "MENTIONS"
                },
                "start": 1586,
                "styles": {},
                "thickness_factor": 1
              },
              {
                "color": "#4CAF50",
                "directed": true,
                "end": 1589,
                "id": 1157428402769102300,
                "label": "MENTIONS",
                "properties": {
                  "label": "MENTIONS"
                },
                "start": 1586,
                "styles": {},
                "thickness_factor": 1
              },
              {
                "color": "#4CAF50",
                "directed": true,
                "end": 1590,
                "id": 1159680202582787600,
                "label": "MENTIONS",
                "properties": {
                  "label": "MENTIONS"
                },
                "start": 1586,
                "styles": {},
                "thickness_factor": 1
              },
              {
                "color": "#4CAF50",
                "directed": true,
                "end": 1591,
                "id": 1161932002396472800,
                "label": "MENTIONS",
                "properties": {
                  "label": "MENTIONS"
                },
                "start": 1586,
                "styles": {},
                "thickness_factor": 1
              },
              {
                "color": "#4CAF50",
                "directed": true,
                "end": 1592,
                "id": 1164183802210158000,
                "label": "MENTIONS",
                "properties": {
                  "label": "MENTIONS"
                },
                "start": 1586,
                "styles": {},
                "thickness_factor": 1
              },
              {
                "color": "#4CAF50",
                "directed": true,
                "end": 1593,
                "id": 1166435602023843300,
                "label": "MENTIONS",
                "properties": {
                  "label": "MENTIONS"
                },
                "start": 1586,
                "styles": {},
                "thickness_factor": 1
              },
              {
                "color": "#4CAF50",
                "directed": true,
                "end": 1594,
                "id": 1168687401837528600,
                "label": "MENTIONS",
                "properties": {
                  "label": "MENTIONS"
                },
                "start": 1586,
                "styles": {},
                "thickness_factor": 1
              },
              {
                "color": "#4CAF50",
                "directed": true,
                "end": 1595,
                "id": 1170939201651213800,
                "label": "MENTIONS",
                "properties": {
                  "label": "MENTIONS"
                },
                "start": 1586,
                "styles": {},
                "thickness_factor": 1
              },
              {
                "color": "#4CAF50",
                "directed": true,
                "end": 1596,
                "id": 1173191001464899000,
                "label": "MENTIONS",
                "properties": {
                  "label": "MENTIONS"
                },
                "start": 1586,
                "styles": {},
                "thickness_factor": 1
              },
              {
                "color": "#4CAF50",
                "directed": true,
                "end": 1597,
                "id": 1175442801278584300,
                "label": "MENTIONS",
                "properties": {
                  "label": "MENTIONS"
                },
                "start": 1586,
                "styles": {},
                "thickness_factor": 1
              },
              {
                "color": "#4CAF50",
                "directed": true,
                "end": 1598,
                "id": 1177694601092269600,
                "label": "MENTIONS",
                "properties": {
                  "label": "MENTIONS"
                },
                "start": 1586,
                "styles": {},
                "thickness_factor": 1
              },
              {
                "color": "#4CAF50",
                "directed": true,
                "end": 1599,
                "id": 1179946400905954800,
                "label": "MENTIONS",
                "properties": {
                  "label": "MENTIONS"
                },
                "start": 1586,
                "styles": {},
                "thickness_factor": 1
              },
              {
                "color": "#4CAF50",
                "directed": true,
                "end": 1600,
                "id": 1182198200719640000,
                "label": "MENTIONS",
                "properties": {
                  "label": "MENTIONS"
                },
                "start": 1586,
                "styles": {},
                "thickness_factor": 1
              },
              {
                "color": "#4CAF50",
                "directed": true,
                "end": 1601,
                "id": 1184450000533325300,
                "label": "MENTIONS",
                "properties": {
                  "label": "MENTIONS"
                },
                "start": 1586,
                "styles": {},
                "thickness_factor": 1
              },
              {
                "color": "#4CAF50",
                "directed": true,
                "end": 1602,
                "id": 1186701800347010600,
                "label": "MENTIONS",
                "properties": {
                  "label": "MENTIONS"
                },
                "start": 1586,
                "styles": {},
                "thickness_factor": 1
              },
              {
                "color": "#4CAF50",
                "directed": true,
                "end": 1605,
                "id": 1188953600160695800,
                "label": "MENTIONS",
                "properties": {
                  "label": "MENTIONS"
                },
                "start": 1586,
                "styles": {},
                "thickness_factor": 1
              },
              {
                "color": "#4CAF50",
                "directed": true,
                "end": 1641,
                "id": 6917532326175967000,
                "label": "MENTIONS",
                "properties": {
                  "label": "MENTIONS"
                },
                "start": 1586,
                "styles": {},
                "thickness_factor": 1
              },
              {
                "color": "#4CAF50",
                "directed": true,
                "end": 1583,
                "id": 1168687401837528600,
                "label": "MENTIONS",
                "properties": {
                  "label": "MENTIONS"
                },
                "start": 1603,
                "styles": {},
                "thickness_factor": 1
              },
              {
                "color": "#4CAF50",
                "directed": true,
                "end": 1591,
                "id": 6917532326175967000,
                "label": "MENTIONS",
                "properties": {
                  "label": "MENTIONS"
                },
                "start": 1603,
                "styles": {},
                "thickness_factor": 1
              },
              {
                "color": "#4CAF50",
                "directed": true,
                "end": 1602,
                "id": 1161932002396472800,
                "label": "MENTIONS",
                "properties": {
                  "label": "MENTIONS"
                },
                "start": 1603,
                "styles": {},
                "thickness_factor": 1
              }
            ],
            "_graph_layout": {},
            "_highlight": [],
            "_license": {},
            "_model_module": "yfiles-jupyter-graphs",
            "_model_module_version": "^1.10.9",
            "_model_name": "GraphModel",
            "_neighborhood": {},
            "_nodes": [
              {
                "color": "#2196F3",
                "id": 1562,
                "label": "045390d8231e29ce795ddcc8690f8e19",
                "position": [
                  0,
                  0
                ],
                "properties": {
                  "embedding": [
                    -0.06693653017282486,
                    -0.05131691321730614,
                    0.03829455003142357,
                    -0.006652866490185261,
                    0.04416172578930855,
                    -0.0358319990336895,
                    -0.05429302155971527,
                    -0.019762372598052025,
                    -0.000453980261227116,
                    -0.024477548897266388,
                    -0.03673801198601723,
                    -0.002785046584904194,
                    0.04657081887125969,
                    -0.060535695403814316,
                    -0.01853324845433235,
                    0.01961490698158741,
                    -0.06820916384458542,
                    0.02325834333896637,
                    -0.11519750207662582,
                    0.07896052300930023,
                    0.0195752140134573,
                    -0.005295309703797102,
                    -0.014625589363276958,
                    0.08427315950393677,
                    -0.03790714591741562,
                    0.021079162135720253,
                    -0.04473953694105148,
                    -0.025348737835884094,
                    -0.01823919638991356,
                    -0.05984508991241455,
                    -0.07886014878749847,
                    -0.14354060590267181,
                    -0.012266455218195915,
                    0.030671892687678337,
                    -0.006736197043210268,
                    -0.06980747729539871,
                    0.011368775740265846,
                    0.031624048948287964,
                    0.03183748945593834,
                    -0.057291992008686066,
                    -0.07475172728300095,
                    -0.05331943556666374,
                    0.04851701855659485,
                    -0.014668670482933521,
                    0.0006606227834708989,
                    0.024731088429689407,
                    -0.05959964171051979,
                    0.011167887598276138,
                    -0.02393656224012375,
                    -0.0034848705399781466,
                    0.048501431941986084,
                    0.010290405713021755,
                    0.0065378970466554165,
                    -0.0062655117362737656,
                    -0.022230368107557297,
                    0.009683123789727688,
                    -0.014411943964660168,
                    -0.017155658453702927,
                    0.04265351966023445,
                    0.03101564384996891,
                    0.04931377246975899,
                    0.07846885919570923,
                    0.046486545354127884,
                    -0.03135877102613449,
                    -0.08596102148294449,
                    -0.000989713123999536,
                    0.04212069511413574,
                    -0.09347117692232132,
                    -0.0108323460444808,
                    0.04100511595606804,
                    -0.023032251745462418,
                    -0.05062740296125412,
                    0.04096473753452301,
                    0.03029642440378666,
                    -0.05358276143670082,
                    0.06202998757362366,
                    0.10198786854743958,
                    0.03181491047143936,
                    -0.0759875476360321,
                    0.010780747048556805,
                    -0.06549132615327835,
                    -0.012696400284767151,
                    0.020500095561146736,
                    0.10600919276475906,
                    0.03228946030139923,
                    -0.0744711309671402,
                    -0.02300363965332508,
                    -0.07294732332229614,
                    -0.009222992695868015,
                    0.01867150515317917,
                    -0.034783657640218735,
                    -0.0745529904961586,
                    0.06487953662872314,
                    0.07709053158760071,
                    0.10792843252420425,
                    0.03133175149559975,
                    0.00880811084061861,
                    -0.043477993458509445,
                    0.020214909687638283,
                    -0.005243934690952301,
                    -0.10469907522201538,
                    -0.027716731652617455,
                    -0.04173381254076958,
                    0.05325071141123772,
                    -0.0797804743051529,
                    0.004181306343525648,
                    0.037804994732141495,
                    -0.06660392135381699,
                    0.028932368382811546,
                    -0.012776843272149563,
                    -0.025366146117448807,
                    -0.02578386664390564,
                    -0.04673639312386513,
                    -0.027057262137532234,
                    0.06084470450878143,
                    0.044020265340805054,
                    0.0107267489656806,
                    0.009136224165558815,
                    0.009569489397108555,
                    -0.03252528980374336,
                    0.023025935515761375,
                    0.07994361221790314,
                    -0.0023789529222995043,
                    -0.032920438796281815,
                    0.015395019203424454,
                    -0.0346406064927578,
                    0.06616199016571045,
                    2.8212959098849103e-33,
                    -0.054674625396728516,
                    -0.03135932609438896,
                    -0.025105001404881477,
                    0.07005487382411957,
                    0.012303683906793594,
                    0.03055114485323429,
                    -0.03604164719581604,
                    0.06714945286512375,
                    0.03862255439162254,
                    -0.0024729070719331503,
                    -0.010634415782988071,
                    -0.11618056893348694,
                    -0.010707078501582146,
                    -0.15977051854133606,
                    -0.022041482850909233,
                    0.07500484585762024,
                    0.07922477275133133,
                    -0.004581780638545752,
                    0.030586734414100647,
                    -0.0032061056699603796,
                    0.030091004446148872,
                    -0.01040685549378395,
                    0.04849833995103836,
                    0.04683518037199974,
                    -0.04568113759160042,
                    -0.038327109068632126,
                    0.030704457312822342,
                    -0.015056631527841091,
                    -0.012015358544886112,
                    0.006939881015568972,
                    -0.009182039648294449,
                    -0.029873693361878395,
                    0.023207813501358032,
                    -0.05681046098470688,
                    -0.025886669754981995,
                    0.009017023257911205,
                    0.09154225140810013,
                    -0.010676102712750435,
                    0.07420061528682709,
                    0.0765533521771431,
                    -0.015124045312404633,
                    0.029140833765268326,
                    0.0980786681175232,
                    -0.03204813227057457,
                    -0.022887777537107468,
                    -0.087496317923069,
                    0.035081297159194946,
                    -0.0031929854303598404,
                    -0.05379248037934303,
                    0.028522267937660217,
                    0.04294588789343834,
                    -0.13230182230472565,
                    -0.034545913338661194,
                    -0.02390708215534687,
                    -0.048620935529470444,
                    0.08786442875862122,
                    0.03105747327208519,
                    0.04015939682722092,
                    0.025603462010622025,
                    0.09326284378767014,
                    0.08126180619001389,
                    -0.04985968768596649,
                    0.03997956961393356,
                    0.03195584937930107,
                    -0.05033593997359276,
                    0.01594884693622589,
                    0.0028253605123609304,
                    -0.030796902254223824,
                    -0.08868886530399323,
                    -0.04300123453140259,
                    -0.02230346016585827,
                    0.022954393178224564,
                    -0.019002847373485565,
                    -0.06820092350244522,
                    0.04250001162290573,
                    -0.005474908277392387,
                    -0.01782085746526718,
                    -0.04493461549282074,
                    0.0037550455890595913,
                    0.021924234926700592,
                    0.019755272194743156,
                    0.05336499586701393,
                    0.0436226949095726,
                    -0.03495784103870392,
                    0.040956057608127594,
                    -0.10357645899057388,
                    -0.03384045511484146,
                    -0.019327597692608833,
                    0.05677167698740959,
                    0.007571452297270298,
                    -0.0008632660610601306,
                    -0.0018804428400471807,
                    0.10375405848026276,
                    -0.0298916008323431,
                    -0.0046712178736925125,
                    -3.876673839836361e-33,
                    -0.008709417656064034,
                    -0.04963311180472374,
                    0.0741838738322258,
                    0.051037032157182693,
                    -0.014716973528265953,
                    -0.060362834483385086,
                    -0.06083636358380318,
                    0.0016762306913733482,
                    0.01589326560497284,
                    -0.09713536500930786,
                    0.04139579087495804,
                    -0.02282249741256237,
                    0.03849434480071068,
                    0.07068200409412384,
                    -0.053929541260004044,
                    0.03461333364248276,
                    -0.04654724523425102,
                    -0.020821787416934967,
                    0.00398897472769022,
                    0.024181203916668892,
                    -0.026664456352591515,
                    -0.046230100095272064,
                    -0.08514808118343353,
                    -0.06584503501653671,
                    0.05969756096601486,
                    0.0494418740272522,
                    -0.10113896429538727,
                    0.04589137062430382,
                    0.03624701872467995,
                    -0.003694831393659115,
                    -0.007805375382304192,
                    -0.0025218569207936525,
                    0.03732310235500336,
                    -0.035564620047807693,
                    0.05723948776721954,
                    -0.011500281281769276,
                    0.03699507191777229,
                    -0.0015000364510342479,
                    0.12628932297229767,
                    -0.012296625413000584,
                    -0.005335407331585884,
                    -0.048621829599142075,
                    0.07564469426870346,
                    -0.043909620493650436,
                    0.012737560085952282,
                    0.039117585867643356,
                    0.04136976599693298,
                    0.05350928381085396,
                    0.12954667210578918,
                    0.0661095604300499,
                    0.014727816917002201,
                    -0.026056140661239624,
                    0.03684856742620468,
                    0.10920334607362747,
                    0.003306127153337002,
                    0.022481881082057953,
                    0.005135053303092718,
                    0.011514391750097275,
                    0.012934176251292229,
                    0.0492740236222744,
                    0.008345311507582664,
                    0.028886284679174423,
                    -0.033931609243154526,
                    0.06646780669689178,
                    -0.05203207954764366,
                    0.0652773529291153,
                    -0.05091698095202446,
                    -0.03177742287516594,
                    -0.00898987427353859,
                    -0.05306508392095566,
                    -0.04355607181787491,
                    -0.007080093491822481,
                    0.0014126538299024105,
                    0.06680198013782501,
                    0.011610505171120167,
                    -0.05515175685286522,
                    0.011230719275772572,
                    -0.05387307330965996,
                    -0.01691296324133873,
                    0.013523224741220474,
                    -0.004787147045135498,
                    0.0008082070271484554,
                    -0.05309175327420235,
                    -0.13306403160095215,
                    -0.043828096240758896,
                    -0.04485008865594864,
                    0.06507620960474014,
                    0.042918771505355835,
                    0.025626283138990402,
                    -0.13944290578365326,
                    -0.0005653180414810777,
                    -0.0826687291264534,
                    0.0933399423956871,
                    -0.07988248765468597,
                    0.061567384749650955,
                    -5.195030539084655e-8,
                    0.06444448232650757,
                    -0.010103287175297737,
                    0.05311664938926697,
                    -0.040272265672683716,
                    0.024679619818925858,
                    0.014654358848929405,
                    0.0379977822303772,
                    0.03860471025109291,
                    0.07873575389385223,
                    -0.062025897204875946,
                    -0.08584163337945938,
                    0.032657310366630554,
                    0.03912493586540222,
                    -0.08803963661193848,
                    0.0517236553132534,
                    -0.02232416532933712,
                    0.03371475264430046,
                    -0.11602633446455002,
                    0.08671475946903229,
                    0.08293689787387848,
                    0.028038514778017998,
                    -0.057063180953264236,
                    0.004826743621379137,
                    -0.04810364544391632,
                    0.025686876848340034,
                    -0.048158612102270126,
                    0.0833735316991806,
                    0.03322584554553032,
                    -0.08614358305931091,
                    0.013742692768573761,
                    0.032262735068798065,
                    0.042412642389535904,
                    -0.007755641359835863,
                    0.014904904179275036,
                    -0.0987003743648529,
                    -0.01781429536640644,
                    0.05263608694076538,
                    0.06134651228785515,
                    -0.0542624294757843,
                    -0.01180737093091011,
                    0.04218925163149834,
                    0.06380259245634079,
                    -0.09285371005535126,
                    -0.06571919471025467,
                    0.10809101164340973,
                    -0.03974130377173424,
                    -0.02782636322081089,
                    0.017424792051315308,
                    -0.002844385104253888,
                    -0.04516102001070976,
                    -0.029230663552880287,
                    0.03119015134871006,
                    0.04815344884991646,
                    0.06146712973713875,
                    0.032191772013902664,
                    -0.010204962454736233,
                    0.03094809502363205,
                    0.046242326498031616,
                    -0.04079067334532738,
                    0.06764025241136551,
                    0.07178420573472977,
                    -0.018512537702918053,
                    0.05836563929915428,
                    -0.06415833532810211
                  ],
                  "id": "045390d8231e29ce795ddcc8690f8e19",
                  "label": "Document",
                  "source": "https://en.wikipedia.org/wiki/Elizabeth_I",
                  "summary": "Elizabeth I (7 September 1533 – 24 March 1603) was Queen of England and Ireland from 17 November 1558 until her death in 1603. She was the last and longest reigning monarch of the House of Tudor. Her eventful reign, and its effect on history and culture, gave name to the Elizabethan era.\nElizabeth was the only surviving child of Henry VIII and his second wife, Anne Boleyn. When Elizabeth was two years old, her parents' marriage was annulled, her mother was executed, and Elizabeth was declared illegitimate. Henry restored her to the line of succession when she was 10. After Henry's death in 1547, Elizabeth's younger half-brother Edward VI ruled until his own death in 1553, bequeathing the crown to a Protestant cousin, Lady Jane Grey, and ignoring the claims of his two half-sisters, Mary and Elizabeth, despite statutes to the contrary. Edward's will was quickly set aside and the Catholic Mary became queen, deposing Jane. During Mary's reign, Elizabeth was imprisoned for nearly a year on suspicion of supporting Protestant rebels.\nUpon Mary's 1558 death, Elizabeth succeeded to the throne and set out to rule by good counsel. She depended heavily on a group of trusted advisers led by William Cecil, whom she created Baron Burghley. One of her first actions as queen was the establishment of an English Protestant church, of which she became the supreme governor. This arrangement, later named the Elizabethan Religious Settlement, would evolve into the Church of England. It was expected that Elizabeth would marry and produce an heir; however, despite numerous courtships, she never did. Because of this she is sometimes referred to as the \"Virgin Queen\". She was succeeded by her cousin, James VI of Scotland.\nIn government, Elizabeth was more moderate than her father and siblings had been. One of her mottoes was video et taceo (\"I see and keep silent\"). In religion, she was relatively tolerant and avoided systematic persecution. After the pope declared her illegitimate in 1570, which in theory released English Catholics from allegiance to her, several conspiracies threatened her life, all of which were defeated with the help of her ministers' secret service, run by Francis Walsingham. Elizabeth was cautious in foreign affairs, manoeuvring between the major powers of France and Spain. She half-heartedly supported a number of ineffective, poorly resourced military campaigns in the Netherlands, France, and Ireland. By the mid-1580s, England could no longer avoid war with Spain.\nAs she grew older, Elizabeth became celebrated for her virginity. A cult of personality grew around her which was celebrated in the portraits, pageants, and literature of the day. The Elizabethan era is famous for the flourishing of English drama, led by playwrights such as William Shakespeare and Christopher Marlowe, the prowess of English maritime adventurers, such as Francis Drake and Walter Raleigh, and for the defeat of the Spanish Armada. Some historians depict Elizabeth as a short-tempered, sometimes indecisive ruler, who enjoyed more than her fair share of luck. Towards the end of her reign, a series of economic and military problems weakened her popularity. Elizabeth is acknowledged as a charismatic performer (\"Gloriana\") and a dogged survivor (\"Good Queen Bess\") in an era when government was ramshackle and limited, and when monarchs in neighbouring countries faced internal problems that jeopardised their thrones. After the short, disastrous reigns of her half-siblings, her 44 years on the throne provided welcome stability for the kingdom and helped to forge a sense of national identity.",
                  "text": "Elizabeth I (7 September 1533 – 24 March 1603) was Queen of England and Ireland from 17 November 1558 until her death in 1603. She was the last and longest reigning monarch of the House of Tudor. Her eventful reign, and its effect on history and culture, gave name to the Elizabethan era.\nElizabeth was the only surviving child of Henry VIII and his second wife, Anne Boleyn. When Elizabeth was two years old, her parents' marriage was annulled, her mother was executed, and Elizabeth was declared illegitimate. Henry restored her to the line of succession when she was 10. After Henry's death in 1547, Elizabeth's younger half-brother Edward VI ruled until his own death in 1553, bequeathing the crown to a Protestant cousin, Lady Jane Grey, and ignoring the claims of his two half-sisters, Mary and Elizabeth, despite statutes to the contrary. Edward's will was quickly set aside and the Catholic Mary became queen, deposing Jane. During Mary's reign, Elizabeth was imprisoned for nearly a year on suspicion of supporting Protestant rebels.\nUpon Mary's 1558 death, Elizabeth succeeded to the throne and set out to rule by good counsel. She depended heavily on a group of trusted advisers led by William Cecil, whom she created Baron Burghley. One of her first actions as queen was the establishment of an English Protestant church, of which she became the supreme governor. This arrangement, later named the Elizabethan Religious Settlement, would evolve into the Church of England. It was expected that Elizabeth would marry and produce an heir; however, despite numerous courtships, she never did. Because of this she is sometimes referred to as the \"Virgin Queen\". She was succeeded by her cousin, James VI of Scotland.\nIn government, Elizabeth was more moderate than her father and siblings had been. One of her mottoes was video et taceo (\"I see and keep silent\"). In religion, she was relatively tolerant and avoided systematic persecution. After the pope declared her illegitimate in 1570, which in theory released English Catholics from allegiance to her, several conspiracies threatened her life, all of which were defeated with the help of her ministers' secret service, run by Francis Walsingham. Elizabeth was cautious in foreign affairs, manoeuvring between the major powers of France and Spain. She half-heartedly supported a number of ineffective, poorly resourced military campaigns in the Netherlands, France, and Ireland. By the mid-1580s, England could no",
                  "title": "Elizabeth I"
                },
                "scale_factor": 1,
                "size": [
                  55,
                  55
                ],
                "styles": {},
                "type": "#2196F3"
              },
              {
                "color": "#4CAF50",
                "id": 1563,
                "label": "Elizabeth I",
                "position": [
                  0,
                  0
                ],
                "properties": {
                  "id": "Elizabeth I",
                  "label": "__Entity__:Person"
                },
                "scale_factor": 1,
                "size": [
                  55,
                  55
                ],
                "styles": {},
                "type": "#4CAF50"
              },
              {
                "color": "#4CAF50",
                "id": 1564,
                "label": "Henry Viii",
                "position": [
                  0,
                  0
                ],
                "properties": {
                  "id": "Henry Viii",
                  "label": "__Entity__:Person"
                },
                "scale_factor": 1,
                "size": [
                  55,
                  55
                ],
                "styles": {},
                "type": "#4CAF50"
              },
              {
                "color": "#4CAF50",
                "id": 1565,
                "label": "Anne Boleyn",
                "position": [
                  0,
                  0
                ],
                "properties": {
                  "id": "Anne Boleyn",
                  "label": "__Entity__:Person"
                },
                "scale_factor": 1,
                "size": [
                  55,
                  55
                ],
                "styles": {},
                "type": "#4CAF50"
              },
              {
                "color": "#4CAF50",
                "id": 1566,
                "label": "Edward Vi",
                "position": [
                  0,
                  0
                ],
                "properties": {
                  "id": "Edward Vi",
                  "label": "__Entity__:Person"
                },
                "scale_factor": 1,
                "size": [
                  55,
                  55
                ],
                "styles": {},
                "type": "#4CAF50"
              },
              {
                "color": "#4CAF50",
                "id": 1567,
                "label": "Mary",
                "position": [
                  0,
                  0
                ],
                "properties": {
                  "id": "Mary",
                  "label": "__Entity__:Person"
                },
                "scale_factor": 1,
                "size": [
                  55,
                  55
                ],
                "styles": {},
                "type": "#4CAF50"
              },
              {
                "color": "#4CAF50",
                "id": 1568,
                "label": "James Vi Of Scotland",
                "position": [
                  0,
                  0
                ],
                "properties": {
                  "id": "James Vi Of Scotland",
                  "label": "__Entity__:Person"
                },
                "scale_factor": 1,
                "size": [
                  55,
                  55
                ],
                "styles": {},
                "type": "#4CAF50"
              },
              {
                "color": "#4CAF50",
                "id": 1569,
                "label": "William Cecil",
                "position": [
                  0,
                  0
                ],
                "properties": {
                  "id": "William Cecil",
                  "label": "__Entity__:Person"
                },
                "scale_factor": 1,
                "size": [
                  55,
                  55
                ],
                "styles": {},
                "type": "#4CAF50"
              },
              {
                "color": "#4CAF50",
                "id": 1570,
                "label": "Lady Jane Grey",
                "position": [
                  0,
                  0
                ],
                "properties": {
                  "id": "Lady Jane Grey",
                  "label": "__Entity__:Person"
                },
                "scale_factor": 1,
                "size": [
                  55,
                  55
                ],
                "styles": {},
                "type": "#4CAF50"
              },
              {
                "color": "#4CAF50",
                "id": 1571,
                "label": "Francis Walsingham",
                "position": [
                  0,
                  0
                ],
                "properties": {
                  "id": "Francis Walsingham",
                  "label": "__Entity__:Person"
                },
                "scale_factor": 1,
                "size": [
                  55,
                  55
                ],
                "styles": {},
                "type": "#4CAF50"
              },
              {
                "color": "#F44336",
                "id": 1581,
                "label": "England",
                "position": [
                  0,
                  0
                ],
                "properties": {
                  "id": "England",
                  "label": "__Entity__:Country"
                },
                "scale_factor": 1,
                "size": [
                  55,
                  55
                ],
                "styles": {},
                "type": "#F44336"
              },
              {
                "color": "#F44336",
                "id": 1584,
                "label": "Ireland",
                "position": [
                  0,
                  0
                ],
                "properties": {
                  "id": "Ireland",
                  "label": "__Entity__:Country"
                },
                "scale_factor": 1,
                "size": [
                  55,
                  55
                ],
                "styles": {},
                "type": "#F44336"
              },
              {
                "color": "#2196F3",
                "id": 1572,
                "label": "e0ba5e8b5d19f0741f3c1c964e47cddb",
                "position": [
                  0,
                  0
                ],
                "properties": {
                  "embedding": [
                    0.0840979740023613,
                    0.006958695128560066,
                    0.10085456073284149,
                    0.020467860624194145,
                    0.06281308829784393,
                    0.09075263142585754,
                    -0.03504127264022827,
                    -0.011487049981951714,
                    -0.08439453691244125,
                    0.02992912381887436,
                    -0.09197353571653366,
                    0.023966841399669647,
                    0.05227123945951462,
                    -0.029372958466410637,
                    -0.05655961483716965,
                    0.04096432402729988,
                    -0.015781352296471596,
                    -0.028767507523298264,
                    -0.06572937965393066,
                    0.06707879155874252,
                    -0.01840175688266754,
                    0.019075656309723854,
                    -0.024377865716814995,
                    0.08655913174152374,
                    -0.05277265980839729,
                    -0.060475606471300125,
                    -0.006911285221576691,
                    0.011203298345208168,
                    -0.010554729960858822,
                    -0.012038705870509148,
                    -0.014157270081341267,
                    -0.06437715142965317,
                    0.0430874228477478,
                    0.02357739582657814,
                    -0.04934351518750191,
                    0.002080523408949375,
                    0.002100080717355013,
                    -0.012854496017098427,
                    -0.02714436501264572,
                    -0.13564230501651764,
                    0.0022674878127872944,
                    -0.03411625698208809,
                    -0.00697342911735177,
                    0.02120717242360115,
                    -0.011411636136472225,
                    -0.09373845905065536,
                    -0.05876071751117706,
                    0.03857697919011116,
                    0.001400875044055283,
                    -0.02183057926595211,
                    0.0016699316911399364,
                    0.023097310215234756,
                    -0.017898377031087875,
                    -0.1151682585477829,
                    -0.020468033850193024,
                    0.0036911549977958202,
                    -0.024827413260936737,
                    -0.0001305017649428919,
                    0.097185879945755,
                    -0.03292020037770271,
                    -0.033475879579782486,
                    0.07939909398555756,
                    0.05851440504193306,
                    -0.017052968963980675,
                    -0.044055674225091934,
                    -0.01630375161767006,
                    0.07832512259483337,
                    0.015214596875011921,
                    -0.04982837662100792,
                    0.10754816979169846,
                    -0.04150274395942688,
                    -0.06338963657617569,
                    0.08489079028367996,
                    0.04518594592809677,
                    0.0021253374870866537,
                    0.05586036294698715,
                    -0.010869918391108513,
                    -0.01591655984520912,
                    -0.06613251566886902,
                    0.0312567874789238,
                    0.0057360329665243626,
                    0.0030676734168082476,
                    0.002030658768489957,
                    0.054883427917957306,
                    0.01742759719491005,
                    -0.10039287805557251,
                    -0.024608030915260315,
                    -0.06796447932720184,
                    0.053472694009542465,
                    -0.05874166637659073,
                    -0.06108705326914787,
                    -0.07653067260980606,
                    0.059765394777059555,
                    0.10052374005317688,
                    0.081974096596241,
                    0.024103835225105286,
                    0.04130814969539642,
                    -0.03084135614335537,
                    0.026174351572990417,
                    0.032580528408288956,
                    -0.010673078708350658,
                    0.04064841568470001,
                    -0.028151916339993477,
                    0.046468786895275116,
                    -0.09195137768983841,
                    0.023704921826720238,
                    0.017715860158205032,
                    -0.03404830023646355,
                    -0.0530395433306694,
                    -0.04701778292655945,
                    -0.0072638955898582935,
                    -0.009677753783762455,
                    0.01654057763516903,
                    -0.035968977957963943,
                    0.05222884938120842,
                    -0.01567256823182106,
                    -0.046478692442178726,
                    -0.0198727585375309,
                    -0.015344053506851196,
                    -0.006798014044761658,
                    0.11393746733665466,
                    0.05156359449028969,
                    0.037645865231752396,
                    -0.07168404012918472,
                    0.03582430258393288,
                    0.023631641641259193,
                    0.029980497434735298,
                    1.1134637894358839e-33,
                    -0.03769834712147713,
                    -0.03582672402262688,
                    -0.036166317760944366,
                    0.13121266663074493,
                    0.008876054547727108,
                    0.06721866130828857,
                    0.01569928601384163,
                    0.04757135361433029,
                    0.028053337708115578,
                    -0.06280320137739182,
                    -0.03653216361999512,
                    -0.011199934408068657,
                    -0.03366565331816673,
                    -0.15325985848903656,
                    -0.0053984858095645905,
                    0.0702148899435997,
                    0.05818071961402893,
                    -0.011652704328298569,
                    0.05293324217200279,
                    0.03198741003870964,
                    -0.03424161300063133,
                    0.0013540080981329083,
                    0.0701521560549736,
                    -0.00034534349106252193,
                    -0.050831906497478485,
                    -0.009315297938883305,
                    0.1021817997097969,
                    0.012902089394629002,
                    0.021516619250178337,
                    0.019329501315951347,
                    0.03406023606657982,
                    -0.029025869444012642,
                    -0.04086795076727867,
                    -0.06770288944244385,
                    0.06806154549121857,
                    -0.04321710392832756,
                    -0.0020124693401157856,
                    -0.07537737488746643,
                    0.04080628603696823,
                    0.12757085263729095,
                    -0.08940605819225311,
                    0.013319595716893673,
                    0.05602988228201866,
                    0.001373306498862803,
                    -0.07408875972032547,
                    -0.008837354369461536,
                    0.0633392482995987,
                    0.042739029973745346,
                    -0.01552383042871952,
                    0.0035953549668192863,
                    0.029225697740912437,
                    -0.09691588580608368,
                    0.0026953909546136856,
                    -0.055047981441020966,
                    -0.01481217797845602,
                    0.07361650466918945,
                    -0.01406096387654543,
                    0.00663538184016943,
                    -0.03273655101656914,
                    -0.04992359131574631,
                    0.07237786054611206,
                    -0.06893770396709442,
                    0.07221602648496628,
                    0.04454588517546654,
                    -0.009411854669451714,
                    0.05468857288360596,
                    -0.04056874290108681,
                    -0.028142519295215607,
                    -0.03529614582657814,
                    -0.019342871382832527,
                    0.003594802925363183,
                    0.09032468497753143,
                    0.007188174873590469,
                    -0.011259861290454865,
                    0.056175872683525085,
                    0.042283643037080765,
                    0.07331465929746628,
                    -0.04639212787151337,
                    0.000013621835023513995,
                    0.0021880564745515585,
                    -0.009760151617228985,
                    -0.020166968926787376,
                    -0.02586503140628338,
                    -0.014707516878843307,
                    0.025250321254134178,
                    -0.0777481198310852,
                    0.024649089202284813,
                    -0.04369348660111427,
                    0.08362875878810883,
                    0.0801100879907608,
                    0.03173396736383438,
                    -0.0815768837928772,
                    0.043941184878349304,
                    -0.08236188441514969,
                    -0.055366840213537216,
                    -1.607445913079261e-33,
                    0.0019121578661724925,
                    -0.0013330091023817658,
                    0.06313574314117432,
                    0.07301335781812668,
                    0.06967446953058243,
                    -0.05968879163265228,
                    -0.057010993361473083,
                    0.031092317774891853,
                    -0.004143640864640474,
                    -0.0785093680024147,
                    0.037018053233623505,
                    -0.05472799018025398,
                    0.03457982838153839,
                    -0.023656681180000305,
                    -0.04079313203692436,
                    0.018468327820301056,
                    0.033993031829595566,
                    -0.044185053557157516,
                    -0.003532425733283162,
                    -0.022621015086770058,
                    -0.057243525981903076,
                    -0.022299278527498245,
                    -0.041692864149808884,
                    -0.13477297127246857,
                    0.0513850636780262,
                    0.058103423565626144,
                    -0.09629074484109879,
                    -0.03604601323604584,
                    -0.02011009119451046,
                    0.032897792756557465,
                    0.05192817375063896,
                    0.11963121592998505,
                    -0.020930346101522446,
                    -0.05071534588932991,
                    -0.0004459851188585162,
                    0.061243511736392975,
                    -0.02921726554632187,
                    -0.08420855551958084,
                    0.09849074482917786,
                    0.029571473598480225,
                    -0.0360482856631279,
                    -0.03290355205535889,
                    0.02298869378864765,
                    -0.036374907940626144,
                    0.0028854182455688715,
                    0.03754830360412598,
                    -0.003967777360230684,
                    0.018590619787573814,
                    0.1304696649312973,
                    0.019700638949871063,
                    -0.012982679530978203,
                    0.006517559755593538,
                    0.0393294095993042,
                    0.04377548396587372,
                    0.06140006706118584,
                    -0.05225926637649536,
                    0.03063460998237133,
                    -0.027902433648705482,
                    -0.032530318945646286,
                    0.029295984655618668,
                    0.0043681953102350235,
                    -0.06807354092597961,
                    -0.036494988948106766,
                    -0.02362794429063797,
                    -0.009126638993620872,
                    0.03312041983008385,
                    -0.006708600092679262,
                    -0.016767043620347977,
                    -0.058288704603910446,
                    -0.009194999933242798,
                    0.026655808091163635,
                    -0.015649307519197464,
                    -0.03768351301550865,
                    0.08675989508628845,
                    -0.03270962834358215,
                    0.046547453850507736,
                    -0.03855663537979126,
                    -0.0699550062417984,
                    -0.031437866389751434,
                    0.009256277233362198,
                    -0.028176389634609222,
                    -0.002188706072047353,
                    -0.057781241834163666,
                    -0.11599703133106232,
                    -0.07925663888454437,
                    0.052594102919101715,
                    0.006497090216726065,
                    0.046381670981645584,
                    -0.043602652847766876,
                    -0.050002314150333405,
                    0.06863009929656982,
                    -0.057683564722537994,
                    -0.011467347852885723,
                    -0.06753746420145035,
                    0.12716606259346008,
                    -5.379618528422725e-8,
                    -0.06044794246554375,
                    0.0033927271142601967,
                    -0.04084537550806999,
                    -0.05022267624735832,
                    -0.04450780898332596,
                    0.05149034783244133,
                    -0.012098371982574463,
                    0.0187156330794096,
                    0.06891076266765594,
                    0.01542925089597702,
                    -0.06824836879968643,
                    -0.0299410130828619,
                    0.02187899872660637,
                    -0.04459002614021301,
                    0.055792052298784256,
                    0.010607026517391205,
                    0.04724486917257309,
                    -0.03885263949632645,
                    -0.011709083802998066,
                    0.06033719703555107,
                    0.08435152471065521,
                    0.0018855471862480044,
                    -0.019717011600732803,
                    -0.08159323781728745,
                    -0.0990435779094696,
                    -0.029560919851064682,
                    0.0111248679459095,
                    0.012654428370296955,
                    -0.054628536105155945,
                    -0.020288804545998573,
                    0.04313117638230324,
                    0.011830845847725868,
                    -0.005330735817551613,
                    -0.06569347530603409,
                    -0.05835811048746109,
                    0.028768889605998993,
                    0.03502999246120453,
                    -0.012356694787740707,
                    -0.03973172977566719,
                    0.06547883152961731,
                    0.07178321480751038,
                    0.12015070766210556,
                    -0.024466054514050484,
                    0.011400081217288971,
                    0.0614912323653698,
                    -0.012347374111413956,
                    -0.039034318178892136,
                    0.12166571617126465,
                    -0.06524600833654404,
                    -0.026095446199178696,
                    0.03879959136247635,
                    -0.0099464887753129,
                    0.0537097230553627,
                    0.05258207395672798,
                    0.038337744772434235,
                    -0.039988573640584946,
                    0.03134842962026596,
                    0.08429019153118134,
                    -0.05228046700358391,
                    0.06323349475860596,
                    0.011435363441705704,
                    -0.02260960265994072,
                    0.017357442528009415,
                    -0.05257744714617729
                  ],
                  "id": "e0ba5e8b5d19f0741f3c1c964e47cddb",
                  "label": "Document",
                  "source": "https://en.wikipedia.org/wiki/Elizabeth_I",
                  "summary": "Elizabeth I (7 September 1533 – 24 March 1603) was Queen of England and Ireland from 17 November 1558 until her death in 1603. She was the last and longest reigning monarch of the House of Tudor. Her eventful reign, and its effect on history and culture, gave name to the Elizabethan era.\nElizabeth was the only surviving child of Henry VIII and his second wife, Anne Boleyn. When Elizabeth was two years old, her parents' marriage was annulled, her mother was executed, and Elizabeth was declared illegitimate. Henry restored her to the line of succession when she was 10. After Henry's death in 1547, Elizabeth's younger half-brother Edward VI ruled until his own death in 1553, bequeathing the crown to a Protestant cousin, Lady Jane Grey, and ignoring the claims of his two half-sisters, Mary and Elizabeth, despite statutes to the contrary. Edward's will was quickly set aside and the Catholic Mary became queen, deposing Jane. During Mary's reign, Elizabeth was imprisoned for nearly a year on suspicion of supporting Protestant rebels.\nUpon Mary's 1558 death, Elizabeth succeeded to the throne and set out to rule by good counsel. She depended heavily on a group of trusted advisers led by William Cecil, whom she created Baron Burghley. One of her first actions as queen was the establishment of an English Protestant church, of which she became the supreme governor. This arrangement, later named the Elizabethan Religious Settlement, would evolve into the Church of England. It was expected that Elizabeth would marry and produce an heir; however, despite numerous courtships, she never did. Because of this she is sometimes referred to as the \"Virgin Queen\". She was succeeded by her cousin, James VI of Scotland.\nIn government, Elizabeth was more moderate than her father and siblings had been. One of her mottoes was video et taceo (\"I see and keep silent\"). In religion, she was relatively tolerant and avoided systematic persecution. After the pope declared her illegitimate in 1570, which in theory released English Catholics from allegiance to her, several conspiracies threatened her life, all of which were defeated with the help of her ministers' secret service, run by Francis Walsingham. Elizabeth was cautious in foreign affairs, manoeuvring between the major powers of France and Spain. She half-heartedly supported a number of ineffective, poorly resourced military campaigns in the Netherlands, France, and Ireland. By the mid-1580s, England could no longer avoid war with Spain.\nAs she grew older, Elizabeth became celebrated for her virginity. A cult of personality grew around her which was celebrated in the portraits, pageants, and literature of the day. The Elizabethan era is famous for the flourishing of English drama, led by playwrights such as William Shakespeare and Christopher Marlowe, the prowess of English maritime adventurers, such as Francis Drake and Walter Raleigh, and for the defeat of the Spanish Armada. Some historians depict Elizabeth as a short-tempered, sometimes indecisive ruler, who enjoyed more than her fair share of luck. Towards the end of her reign, a series of economic and military problems weakened her popularity. Elizabeth is acknowledged as a charismatic performer (\"Gloriana\") and a dogged survivor (\"Good Queen Bess\") in an era when government was ramshackle and limited, and when monarchs in neighbouring countries faced internal problems that jeopardised their thrones. After the short, disastrous reigns of her half-siblings, her 44 years on the throne provided welcome stability for the kingdom and helped to forge a sense of national identity.",
                  "text": " resourced military campaigns in the Netherlands, France, and Ireland. By the mid-1580s, England could no longer avoid war with Spain.\nAs she grew older, Elizabeth became celebrated for her virginity. A cult of personality grew around her which was celebrated in the portraits, pageants, and literature of the day. The Elizabethan era is famous for the flourishing of English drama, led by playwrights such as William Shakespeare and Christopher Marlowe, the prowess of English maritime adventurers, such as Francis Drake and Walter Raleigh, and for the defeat of the Spanish Armada. Some historians depict Elizabeth as a short-tempered, sometimes indecisive ruler, who enjoyed more than her fair share of luck. Towards the end of her reign, a series of economic and military problems weakened her popularity. Elizabeth is acknowledged as a charismatic performer (\"Gloriana\") and a dogged survivor (\"Good Queen Bess\") in an era when government was ramshackle and limited, and when monarchs in neighbouring countries faced internal problems that jeopardised their thrones. After the short, disastrous reigns of her half-siblings, her 44 years on the throne provided welcome stability for the kingdom and helped to forge a sense of national identity.\n\n\n== Early life ==\n\nElizabeth was born at Greenwich Palace on 7 September 1533 and was named after her grandmothers, Elizabeth of York and Lady Elizabeth Howard. She was the second child of Henry VIII of England born in wedlock to survive infancy. Her mother was Henry VIII's second wife, Anne Boleyn. At birth, Elizabeth was the heir presumptive to the English throne. Her elder ",
                  "title": "Elizabeth I"
                },
                "scale_factor": 1,
                "size": [
                  55,
                  55
                ],
                "styles": {},
                "type": "#2196F3"
              },
              {
                "color": "#4CAF50",
                "id": 1573,
                "label": "Henry Viii Of England",
                "position": [
                  0,
                  0
                ],
                "properties": {
                  "id": "Henry Viii Of England",
                  "label": "__Entity__:Person"
                },
                "scale_factor": 1,
                "size": [
                  55,
                  55
                ],
                "styles": {},
                "type": "#4CAF50"
              },
              {
                "color": "#4CAF50",
                "id": 1574,
                "label": "Elizabeth Of York",
                "position": [
                  0,
                  0
                ],
                "properties": {
                  "id": "Elizabeth Of York",
                  "label": "__Entity__:Person"
                },
                "scale_factor": 1,
                "size": [
                  55,
                  55
                ],
                "styles": {},
                "type": "#4CAF50"
              },
              {
                "color": "#4CAF50",
                "id": 1575,
                "label": "Lady Elizabeth Howard",
                "position": [
                  0,
                  0
                ],
                "properties": {
                  "id": "Lady Elizabeth Howard",
                  "label": "__Entity__:Person"
                },
                "scale_factor": 1,
                "size": [
                  55,
                  55
                ],
                "styles": {},
                "type": "#4CAF50"
              },
              {
                "color": "#4CAF50",
                "id": 1576,
                "label": "William Shakespeare",
                "position": [
                  0,
                  0
                ],
                "properties": {
                  "id": "William Shakespeare",
                  "label": "__Entity__:Person"
                },
                "scale_factor": 1,
                "size": [
                  55,
                  55
                ],
                "styles": {},
                "type": "#4CAF50"
              },
              {
                "color": "#4CAF50",
                "id": 1577,
                "label": "Christopher Marlowe",
                "position": [
                  0,
                  0
                ],
                "properties": {
                  "id": "Christopher Marlowe",
                  "label": "__Entity__:Person"
                },
                "scale_factor": 1,
                "size": [
                  55,
                  55
                ],
                "styles": {},
                "type": "#4CAF50"
              },
              {
                "color": "#4CAF50",
                "id": 1578,
                "label": "Francis Drake",
                "position": [
                  0,
                  0
                ],
                "properties": {
                  "id": "Francis Drake",
                  "label": "__Entity__:Person"
                },
                "scale_factor": 1,
                "size": [
                  55,
                  55
                ],
                "styles": {},
                "type": "#4CAF50"
              },
              {
                "color": "#4CAF50",
                "id": 1579,
                "label": "Walter Raleigh",
                "position": [
                  0,
                  0
                ],
                "properties": {
                  "id": "Walter Raleigh",
                  "label": "__Entity__:Person"
                },
                "scale_factor": 1,
                "size": [
                  55,
                  55
                ],
                "styles": {},
                "type": "#4CAF50"
              },
              {
                "color": "#F44336",
                "id": 1580,
                "label": "Spain",
                "position": [
                  0,
                  0
                ],
                "properties": {
                  "id": "Spain",
                  "label": "__Entity__:Country"
                },
                "scale_factor": 1,
                "size": [
                  55,
                  55
                ],
                "styles": {},
                "type": "#F44336"
              },
              {
                "color": "#F44336",
                "id": 1582,
                "label": "Netherlands",
                "position": [
                  0,
                  0
                ],
                "properties": {
                  "id": "Netherlands",
                  "label": "__Entity__:Country"
                },
                "scale_factor": 1,
                "size": [
                  55,
                  55
                ],
                "styles": {},
                "type": "#F44336"
              },
              {
                "color": "#607D8B",
                "id": 1583,
                "label": "France",
                "position": [
                  0,
                  0
                ],
                "properties": {
                  "id": "France",
                  "label": "__Entity__:Location:Country"
                },
                "scale_factor": 1,
                "size": [
                  55,
                  55
                ],
                "styles": {},
                "type": "#607D8B"
              },
              {
                "color": "#673AB7",
                "id": 1585,
                "label": "Spanish Armada",
                "position": [
                  0,
                  0
                ],
                "properties": {
                  "id": "Spanish Armada",
                  "label": "__Entity__:Military_force:Military force:Military organization"
                },
                "scale_factor": 1,
                "size": [
                  55,
                  55
                ],
                "styles": {},
                "type": "#673AB7"
              },
              {
                "color": "#4CAF50",
                "id": 1604,
                "label": "Elizabeth",
                "position": [
                  0,
                  0
                ],
                "properties": {
                  "id": "Elizabeth",
                  "label": "__Entity__:Person"
                },
                "scale_factor": 1,
                "size": [
                  55,
                  55
                ],
                "styles": {},
                "type": "#4CAF50"
              },
              {
                "color": "#CDDC39",
                "id": 1646,
                "label": "Elizabethan Era",
                "position": [
                  0,
                  0
                ],
                "properties": {
                  "id": "Elizabethan Era",
                  "label": "__Entity__:Era"
                },
                "scale_factor": 1,
                "size": [
                  55,
                  55
                ],
                "styles": {},
                "type": "#CDDC39"
              },
              {
                "color": "#2196F3",
                "id": 1586,
                "label": "dd67548fc425785a54cc3ca32add644d",
                "position": [
                  0,
                  0
                ],
                "properties": {
                  "embedding": [
                    -0.046023234724998474,
                    -0.054093703627586365,
                    0.07138337939977646,
                    0.02641095593571663,
                    -0.04110955446958542,
                    0.01674194261431694,
                    -0.0024497027043253183,
                    0.08934630453586578,
                    -0.046693213284015656,
                    -0.010470631532371044,
                    -0.1214580312371254,
                    0.08124132454395294,
                    -0.03241247311234474,
                    -0.036877237260341644,
                    -0.08072537928819656,
                    0.01735794171690941,
                    -0.005239070393145084,
                    0.030507270246744156,
                    -0.04798075556755066,
                    0.051760233938694,
                    -0.017841078341007233,
                    -0.12255728244781494,
                    0.08824589103460312,
                    0.00453120656311512,
                    0.005313390400260687,
                    0.04403037950396538,
                    -0.04007995128631592,
                    0.027037756517529488,
                    0.055041540414094925,
                    0.029085466638207436,
                    -0.0570761002600193,
                    -0.1551462560892105,
                    -0.02174084074795246,
                    0.01148059219121933,
                    -0.012703286483883858,
                    -0.010630604811012745,
                    0.029027732089161873,
                    0.04705330729484558,
                    0.012289761565625668,
                    -0.022086860612034798,
                    0.007072425913065672,
                    -0.0036551770754158497,
                    -0.033831387758255005,
                    0.0633525475859642,
                    0.019228214398026466,
                    0.05244041606783867,
                    -0.09953086823225021,
                    0.022203762084245682,
                    -0.005038992967456579,
                    0.0010399241000413895,
                    -0.06728789210319519,
                    0.04087096080183983,
                    -0.03527987375855446,
                    0.02934235706925392,
                    0.0493592768907547,
                    0.025813717395067215,
                    0.019511617720127106,
                    -0.06965196877717972,
                    0.004537893924862146,
                    0.011599169112741947,
                    -0.01506216824054718,
                    0.023757928982377052,
                    0.014620732516050339,
                    -0.07294286042451859,
                    -0.08687465637922287,
                    -0.02661009505391121,
                    0.03982674703001976,
                    0.0005511595518328249,
                    0.005694865249097347,
                    0.07632502913475037,
                    -0.030360931530594826,
                    0.006091820076107979,
                    -0.049668602645397186,
                    0.043750010430812836,
                    -0.10425547510385513,
                    0.030693182721734047,
                    0.07777552306652069,
                    0.04317311942577362,
                    -0.05859992653131485,
                    0.05912540480494499,
                    -0.059120047837495804,
                    0.014323100447654724,
                    -0.0003729010932147503,
                    0.08554079383611679,
                    -0.06127345934510231,
                    -0.07305128872394562,
                    0.012345454655587673,
                    -0.06378033012151718,
                    0.03583706170320511,
                    0.0016199145466089249,
                    0.01833135262131691,
                    -0.042081885039806366,
                    0.1058633029460907,
                    0.0372510589659214,
                    0.12614189088344574,
                    -0.002611880423501134,
                    -0.006323057692497969,
                    -0.02287125773727894,
                    0.07044494897127151,
                    -0.04313547536730766,
                    -0.06669606268405914,
                    -0.013701360672712326,
                    0.0009303220431320369,
                    0.06764139235019684,
                    -0.14025923609733582,
                    0.02181975729763508,
                    -0.06427223235368729,
                    -0.05576804280281067,
                    0.008930542506277561,
                    0.00626955134794116,
                    -0.03647243604063988,
                    -0.10047848522663116,
                    0.0019278101390227675,
                    -0.010445144027471542,
                    0.030680924654006958,
                    0.01636088453233242,
                    -0.007741713430732489,
                    -0.004903142806142569,
                    -0.0037912754341959953,
                    -0.02815892919898033,
                    0.037882041186094284,
                    0.02941604144871235,
                    -0.018627861514687538,
                    0.036152180284261703,
                    0.040841616690158844,
                    -0.006531020160764456,
                    0.007674962282180786,
                    1.5606180752333396e-33,
                    -0.036491427570581436,
                    -0.005049475003033876,
                    -0.01185706164687872,
                    0.10939742624759674,
                    -0.060846175998449326,
                    0.10299859941005707,
                    0.015373832546174526,
                    0.07904201000928879,
                    -0.03758038207888603,
                    0.07130119949579239,
                    -0.027692440897226334,
                    -0.06826286017894745,
                    -0.06531384587287903,
                    -0.18688367307186127,
                    -0.0269793588668108,
                    0.07314560562372208,
                    0.027039246633648872,
                    0.0030245184898376465,
                    0.020742036402225494,
                    0.12418030947446823,
                    0.07404491305351257,
                    0.0669497698545456,
                    0.04628126323223114,
                    0.047141846269369125,
                    0.0006471016677096486,
                    0.02215680480003357,
                    0.05053137242794037,
                    -0.04250318557024002,
                    -0.07964039593935013,
                    -0.04275662079453468,
                    -0.0033632314298301935,
                    -0.1016320288181305,
                    -0.077117919921875,
                    0.01634792983531952,
                    -0.07567201554775238,
                    -0.07496465742588043,
                    0.034142736345529556,
                    -0.0442323312163353,
                    0.07618851214647293,
                    0.06004052981734276,
                    -0.02792246639728546,
                    -0.08461235463619232,
                    0.14841289818286896,
                    0.02122393064200878,
                    -0.026356728747487068,
                    -0.05325682461261749,
                    0.041459739208221436,
                    -0.012318777851760387,
                    0.026746461167931557,
                    0.014754324220120907,
                    0.003047850914299488,
                    -0.07699977606534958,
                    -0.008042209781706333,
                    0.08676936477422714,
                    -0.10406425595283508,
                    0.03539157286286354,
                    -0.033207036554813385,
                    0.044072531163692474,
                    -0.0010050293058156967,
                    -0.005701690912246704,
                    0.06047280505299568,
                    -0.07046718150377274,
                    0.03624044731259346,
                    0.0162882748991251,
                    0.005551165901124477,
                    -0.04171811789274216,
                    0.022168613970279694,
                    0.04580220580101013,
                    -0.00753359030932188,
                    0.08528896421194077,
                    0.038929570466279984,
                    0.03709641471505165,
                    -0.024123303592205048,
                    -0.054850779473781586,
                    0.07144470512866974,
                    -0.002246002433821559,
                    -0.023733044043183327,
                    0.0032226245384663343,
                    -0.02897101826965809,
                    0.0040685576386749744,
                    -0.03318087011575699,
                    0.08678551763296127,
                    0.08831103146076202,
                    0.07484832406044006,
                    0.00722236093133688,
                    -0.0680847316980362,
                    0.0017364826053380966,
                    0.054157499223947525,
                    -0.022577187046408653,
                    0.08236344158649445,
                    -0.05195697396993637,
                    -0.019032873213291168,
                    0.06392178684473038,
                    0.009030528366565704,
                    -0.056584425270557404,
                    -2.6436383058573532e-33,
                    0.048303671181201935,
                    -0.04033796116709709,
                    0.04689127951860428,
                    0.08057139068841934,
                    -0.03184037655591965,
                    -0.03199131786823273,
                    0.013443931005895138,
                    0.002747527789324522,
                    -0.03194145858287811,
                    -0.014549105428159237,
                    0.07996512949466705,
                    -0.010787835344672203,
                    0.03351973369717598,
                    0.06179570406675339,
                    -0.014051288366317749,
                    0.013895703479647636,
                    0.008102999068796635,
                    -0.011663323268294334,
                    -0.022875692695379257,
                    -0.07602158188819885,
                    -0.055644117295742035,
                    0.002518731402233243,
                    -0.08599932491779327,
                    0.011839492246508598,
                    0.08856996893882751,
                    0.03184172883629799,
                    0.03794034570455551,
                    -0.0028410658705979586,
                    -0.05028936266899109,
                    0.018804412335157394,
                    -0.008288698270916939,
                    0.023276567459106445,
                    0.009443880058825016,
                    -0.0004108638095203787,
                    0.07696337252855301,
                    0.028606366366147995,
                    0.03034565970301628,
                    0.016621654853224754,
                    -0.004588091280311346,
                    -0.0021697282791137695,
                    -0.0025354151148349047,
                    0.040459681302309036,
                    0.09356848895549774,
                    0.052866484969854355,
                    0.020900797098875046,
                    -0.024839401245117188,
                    -0.010812063701450825,
                    0.07989374548196793,
                    0.1452086716890335,
                    0.038679204881191254,
                    -0.03126438334584236,
                    -0.02270061895251274,
                    0.061920151114463806,
                    0.05134296044707298,
                    0.0200557392090559,
                    0.01295060757547617,
                    0.04240234196186066,
                    -0.019110361114144325,
                    0.04696008935570717,
                    0.05113506689667702,
                    0.04309562221169472,
                    -0.0586935393512249,
                    -0.01441024336963892,
                    -0.039377931505441666,
                    -0.0743672177195549,
                    0.05707142874598503,
                    -0.04166078194975853,
                    -0.06622661650180817,
                    -0.004501078277826309,
                    -0.008496904745697975,
                    -0.007145042531192303,
                    0.00042823137482628226,
                    0.021289510652422905,
                    0.0497756190598011,
                    0.0029688626527786255,
                    0.07740727066993713,
                    0.04535996541380882,
                    -0.004671622067689896,
                    0.04210999608039856,
                    -0.03717868775129318,
                    -0.0010665705194696784,
                    -0.023091545328497887,
                    -0.03660132363438606,
                    -0.07349757105112076,
                    -0.036780767142772675,
                    -0.1051018238067627,
                    0.01960173435509205,
                    0.011368411593139172,
                    0.003040987765416503,
                    -0.10967360436916351,
                    -0.018858417868614197,
                    -0.06792351603507996,
                    0.03989478200674057,
                    -0.09064683318138123,
                    -0.018111176788806915,
                    -4.686499366357566e-8,
                    0.0855647400021553,
                    0.025382136926054955,
                    0.016524307429790497,
                    -0.021863454952836037,
                    -0.013301868923008442,
                    -0.08066900074481964,
                    -0.03653125837445259,
                    0.022252613678574562,
                    -0.011163773015141487,
                    -0.024088339880108833,
                    -0.06808748841285706,
                    -0.03434615209698677,
                    0.033218689262866974,
                    -0.014763877727091312,
                    0.12768858671188354,
                    -0.08047165721654892,
                    0.030466565862298012,
                    -0.04633171111345291,
                    -0.016657432541251183,
                    0.024683460593223572,
                    -0.03375646844506264,
                    -0.06064818054437637,
                    -0.08799830079078674,
                    -0.06211794540286064,
                    -0.03292663022875786,
                    -0.09088707715272903,
                    0.1254587322473526,
                    -0.010840503498911858,
                    0.028808463364839554,
                    -0.012640989385545254,
                    -0.017691388726234436,
                    -0.012924565933644772,
                    -0.011873017996549606,
                    0.017419960349798203,
                    -0.01054660975933075,
                    0.015815917402505875,
                    0.023567311465740204,
                    -0.006481904536485672,
                    0.011920592747628689,
                    -0.046340975910425186,
                    0.007044317200779915,
                    0.030511217191815376,
                    -0.02844998985528946,
                    -0.012743580155074596,
                    0.0006202460499480367,
                    -0.04378810524940491,
                    -0.027063053101301193,
                    -0.09676356613636017,
                    0.0363101102411747,
                    0.035027023404836655,
                    0.019801374524831772,
                    0.08989949524402618,
                    0.031972795724868774,
                    0.010189039632678032,
                    -0.049407992511987686,
                    0.027569670230150223,
                    0.014520241878926754,
                    -0.004052622243762016,
                    -0.007851176895201206,
                    0.05527012422680855,
                    -0.017002545297145844,
                    -0.028312427923083305,
                    0.014493216760456562,
                    -0.048488810658454895
                  ],
                  "id": "dd67548fc425785a54cc3ca32add644d",
                  "label": "Document",
                  "source": "https://en.wikipedia.org/wiki/Elizabeth_of_Russia",
                  "summary": "Elizabeth or Elizaveta Petrovna (Russian: Елизаве́та Петро́вна; 29 December [O.S. 18 December] 1709 – 5 January [O.S. 25 December] 1762) was Empress of Russia from 1741 until her death in 1762. She remains one of the most popular Russian monarchs because of her decision not to execute a single person during her reign, her numerous construction projects, and her strong opposition to Prussian policies. She was the last person on the agnatic line of the Romanovs as her nephew ascended, thus creating the house of Holstein-Gottorp-Romanov.\nThe second-eldest daughter of Tsar Peter the Great (r. 1682–1725), Elizabeth lived through the confused successions of her father's descendants following her half-brother Alexei's death in 1718. The throne first passed to her mother Catherine I of Russia (r. 1725–1727), then to her nephew Peter II, who died in 1730 and was succeeded by Elizabeth's first cousin Anna (r. 1730–1740). After the brief rule of Anna's infant great-nephew, Ivan VI, Elizabeth seized the throne with the military's support and declared her own nephew, the future Peter III, her heir.\nDuring her reign Elizabeth continued the policies of her father and brought about a remarkable Age of Enlightenment in Russia. Her domestic policies allowed the nobles to gain dominance in local government while shortening their terms of service to the state. She encouraged Mikhail Lomonosov's foundation of the University of Moscow, the highest-ranking Russian educational institution. Her court became one of the most splendid in all Europe, especially regarding architecture: she modernised Russia's roads, encouraged Ivan Shuvalov's foundation of the Imperial Academy of Arts, and financed grandiose Baroque projects of her favourite architect, Bartolomeo Rastrelli, particularly in Peterhof Palace. The Winter Palace and the Smolny Cathedral in Saint Petersburg are among the chief monuments of her reign.\nElizabeth led the Russian Empire during the two major European conflicts of her time: the War of Austrian Succession (1740–1748) and the Seven Years' War (1756–1763). She and diplomat Aleksey Bestuzhev-Ryumin solved the first event by forming an alliance with Austria and France, but indirectly caused the second. Russian troops enjoyed several victories against Prussia and briefly occupied Berlin, but when Frederick the Great was finally considering surrender in January 1762, the Russian Empress died. She was the last agnatic member of the House of Romanov to reign over the Russian Empire.",
                  "text": "Elizabeth or Elizaveta Petrovna (Russian: Елизаве́та Петро́вна; 29 December [O.S. 18 December] 1709 – 5 January [O.S. 25 December] 1762) was Empress of Russia from 1741 until her death in 1762. She remains one of the most popular Russian monarchs because of her decision not to execute a single person during her reign, her numerous construction projects, and her strong opposition to Prussian policies. She was the last person on the agnatic line of the Romanovs as her nephew ascended, thus creating the house of Holstein-Gottorp-Romanov.\nThe second-eldest daughter of Tsar Peter the Great (r. 1682–1725), Elizabeth lived through the confused successions of her father's descendants following her half-brother Alexei's death in 1718. The throne first passed to her mother Catherine I of Russia (r. 1725–1727), then to her nephew Peter II, who died in 1730 and was succeeded by Elizabeth's first cousin Anna (r. 1730–1740). After the brief rule of Anna's infant great-nephew, Ivan VI, Elizabeth seized the throne with the military's support and declared her own nephew, the future Peter III, her heir.\nDuring her reign Elizabeth continued the policies of her father and brought about a remarkable Age of Enlightenment in Russia. Her domestic policies allowed the nobles to gain dominance in local government while shortening their terms of service to the state. She encouraged Mikhail Lomonosov's foundation of the University of Moscow, the highest-ranking Russian educational institution. Her court became one of the most splendid in all Europe, especially regarding architecture: she modernised Russia's roads, encouraged Ivan Shuvalov's foundation of the Imperial Academy of Arts, and financed grandiose Baroque projects of her favourite architect, Bartolomeo Rastrelli, particularly in Peterhof Palace. The Winter Palace and the Smolny Cathedral in Saint Petersburg are among the chief monuments of her reign.\nElizabeth led the Russian Empire during the two major European conflicts of her time: the War of Austrian Succession (1740–1748) and the Seven Years' War (1756–1763). She and diplomat Aleksey Bestuzhev-Ryumin solved the first event by forming an",
                  "title": "Elizabeth of Russia"
                },
                "scale_factor": 1,
                "size": [
                  55,
                  55
                ],
                "styles": {},
                "type": "#2196F3"
              },
              {
                "color": "#4CAF50",
                "id": 1587,
                "label": "Elizabeth Or Elizaveta Petrovna",
                "position": [
                  0,
                  0
                ],
                "properties": {
                  "id": "Elizabeth Or Elizaveta Petrovna",
                  "label": "__Entity__:Person"
                },
                "scale_factor": 1,
                "size": [
                  55,
                  55
                ],
                "styles": {},
                "type": "#4CAF50"
              },
              {
                "color": "#4CAF50",
                "id": 1588,
                "label": "Tsar Peter The Great",
                "position": [
                  0,
                  0
                ],
                "properties": {
                  "id": "Tsar Peter The Great",
                  "label": "__Entity__:Person"
                },
                "scale_factor": 1,
                "size": [
                  55,
                  55
                ],
                "styles": {},
                "type": "#4CAF50"
              },
              {
                "color": "#4CAF50",
                "id": 1589,
                "label": "Catherine I Of Russia",
                "position": [
                  0,
                  0
                ],
                "properties": {
                  "id": "Catherine I Of Russia",
                  "label": "__Entity__:Person"
                },
                "scale_factor": 1,
                "size": [
                  55,
                  55
                ],
                "styles": {},
                "type": "#4CAF50"
              },
              {
                "color": "#4CAF50",
                "id": 1590,
                "label": "Peter Ii",
                "position": [
                  0,
                  0
                ],
                "properties": {
                  "id": "Peter Ii",
                  "label": "__Entity__:Person"
                },
                "scale_factor": 1,
                "size": [
                  55,
                  55
                ],
                "styles": {},
                "type": "#4CAF50"
              },
              {
                "color": "#4CAF50",
                "id": 1591,
                "label": "Anna",
                "position": [
                  0,
                  0
                ],
                "properties": {
                  "id": "Anna",
                  "label": "__Entity__:Person"
                },
                "scale_factor": 1,
                "size": [
                  55,
                  55
                ],
                "styles": {},
                "type": "#4CAF50"
              },
              {
                "color": "#4CAF50",
                "id": 1592,
                "label": "Ivan Vi",
                "position": [
                  0,
                  0
                ],
                "properties": {
                  "id": "Ivan Vi",
                  "label": "__Entity__:Person"
                },
                "scale_factor": 1,
                "size": [
                  55,
                  55
                ],
                "styles": {},
                "type": "#4CAF50"
              },
              {
                "color": "#4CAF50",
                "id": 1593,
                "label": "Peter Iii",
                "position": [
                  0,
                  0
                ],
                "properties": {
                  "id": "Peter Iii",
                  "label": "__Entity__:Person"
                },
                "scale_factor": 1,
                "size": [
                  55,
                  55
                ],
                "styles": {},
                "type": "#4CAF50"
              },
              {
                "color": "#4CAF50",
                "id": 1594,
                "label": "Mikhail Lomonosov",
                "position": [
                  0,
                  0
                ],
                "properties": {
                  "id": "Mikhail Lomonosov",
                  "label": "__Entity__:Person"
                },
                "scale_factor": 1,
                "size": [
                  55,
                  55
                ],
                "styles": {},
                "type": "#4CAF50"
              },
              {
                "color": "#4CAF50",
                "id": 1595,
                "label": "Ivan Shuvalov",
                "position": [
                  0,
                  0
                ],
                "properties": {
                  "id": "Ivan Shuvalov",
                  "label": "__Entity__:Person"
                },
                "scale_factor": 1,
                "size": [
                  55,
                  55
                ],
                "styles": {},
                "type": "#4CAF50"
              },
              {
                "color": "#4CAF50",
                "id": 1596,
                "label": "Bartolomeo Rastrelli",
                "position": [
                  0,
                  0
                ],
                "properties": {
                  "id": "Bartolomeo Rastrelli",
                  "label": "__Entity__:Person"
                },
                "scale_factor": 1,
                "size": [
                  55,
                  55
                ],
                "styles": {},
                "type": "#4CAF50"
              },
              {
                "color": "#9E9E9E",
                "id": 1597,
                "label": "University Of Moscow",
                "position": [
                  0,
                  0
                ],
                "properties": {
                  "id": "University Of Moscow",
                  "label": "__Entity__:Educationalinstitution:Institution"
                },
                "scale_factor": 1,
                "size": [
                  55,
                  55
                ],
                "styles": {},
                "type": "#9E9E9E"
              },
              {
                "color": "#9C27B0",
                "id": 1598,
                "label": "Peterhof Palace",
                "position": [
                  0,
                  0
                ],
                "properties": {
                  "id": "Peterhof Palace",
                  "label": "__Entity__:Building"
                },
                "scale_factor": 1,
                "size": [
                  55,
                  55
                ],
                "styles": {},
                "type": "#9C27B0"
              },
              {
                "color": "#9C27B0",
                "id": 1599,
                "label": "Winter Palace",
                "position": [
                  0,
                  0
                ],
                "properties": {
                  "id": "Winter Palace",
                  "label": "__Entity__:Building"
                },
                "scale_factor": 1,
                "size": [
                  55,
                  55
                ],
                "styles": {},
                "type": "#9C27B0"
              },
              {
                "color": "#9C27B0",
                "id": 1600,
                "label": "Smolny Cathedral",
                "position": [
                  0,
                  0
                ],
                "properties": {
                  "id": "Smolny Cathedral",
                  "label": "__Entity__:Building"
                },
                "scale_factor": 1,
                "size": [
                  55,
                  55
                ],
                "styles": {},
                "type": "#9C27B0"
              },
              {
                "color": "#2196F3",
                "id": 1601,
                "label": "Imperial Academy Of Arts",
                "position": [
                  0,
                  0
                ],
                "properties": {
                  "id": "Imperial Academy Of Arts",
                  "label": "__Entity__:Institution"
                },
                "scale_factor": 1,
                "size": [
                  55,
                  55
                ],
                "styles": {},
                "type": "#2196F3"
              },
              {
                "color": "#4CAF50",
                "id": 1602,
                "label": "Aleksey Bestuzhev-Ryumin",
                "position": [
                  0,
                  0
                ],
                "properties": {
                  "id": "Aleksey Bestuzhev-Ryumin",
                  "label": "__Entity__:Person"
                },
                "scale_factor": 1,
                "size": [
                  55,
                  55
                ],
                "styles": {},
                "type": "#4CAF50"
              },
              {
                "color": "#4CAF50",
                "id": 1605,
                "label": "Peter The Great",
                "position": [
                  0,
                  0
                ],
                "properties": {
                  "id": "Peter The Great",
                  "label": "__Entity__:Person"
                },
                "scale_factor": 1,
                "size": [
                  55,
                  55
                ],
                "styles": {},
                "type": "#4CAF50"
              },
              {
                "color": "#4CAF50",
                "id": 1641,
                "label": "Elizabeth Petrovna",
                "position": [
                  0,
                  0
                ],
                "properties": {
                  "id": "Elizabeth Petrovna",
                  "label": "__Entity__:Person"
                },
                "scale_factor": 1,
                "size": [
                  55,
                  55
                ],
                "styles": {},
                "type": "#4CAF50"
              },
              {
                "color": "#2196F3",
                "id": 1603,
                "label": "c9a71ce69046357e0ef6f25a34513e9f",
                "position": [
                  0,
                  0
                ],
                "properties": {
                  "embedding": [
                    -0.01693153567612171,
                    0.017428915947675705,
                    0.019243590533733368,
                    0.06781504303216934,
                    -0.024115920066833496,
                    0.044564150273799896,
                    -0.010379326529800892,
                    0.07260029017925262,
                    -0.008440079167485237,
                    -0.03660903126001358,
                    -0.10051794350147247,
                    0.07164809107780457,
                    0.0052509913221001625,
                    -0.07797100394964218,
                    -0.09846730530261993,
                    -0.01507693063467741,
                    -0.04810022562742233,
                    0.0626446083188057,
                    -0.06666780263185501,
                    0.0606427937746048,
                    -0.008296401239931583,
                    -0.12908042967319489,
                    0.03660187870264053,
                    0.04216308519244194,
                    0.053588803857564926,
                    0.023803558200597763,
                    -0.025783509016036987,
                    -0.002046032343059778,
                    -0.0028742270078510046,
                    0.06167151406407356,
                    -0.01652979850769043,
                    -0.14664922654628754,
                    0.005860486533492804,
                    0.038075581192970276,
                    -0.019491368904709816,
                    0.00727040832862258,
                    0.039176035672426224,
                    0.060651909559965134,
                    0.02880878560245037,
                    0.006644142791628838,
                    -0.033652085810899734,
                    -0.015212278813123703,
                    -0.0705694705247879,
                    0.07640310376882553,
                    -0.011909651570022106,
                    0.05383489653468132,
                    -0.09995803982019424,
                    0.005528619978576899,
                    -0.05274258181452751,
                    0.026006726548075676,
                    -0.08459669351577759,
                    0.03572395443916321,
                    0.010678711347281933,
                    -0.0342220701277256,
                    0.03169100359082222,
                    -0.0029294337145984173,
                    -0.022092198953032494,
                    -0.045840200036764145,
                    0.05681850016117096,
                    0.019953874871134758,
                    -0.003550312016159296,
                    0.006643032189458609,
                    -0.018809795379638672,
                    -0.024022730067372322,
                    -0.04405787214636803,
                    -0.022059524431824684,
                    0.036279212683439255,
                    0.007133326027542353,
                    0.03441847488284111,
                    0.047885287553071976,
                    -0.0012792636407539248,
                    0.03430571034550667,
                    -0.038605332374572754,
                    0.002200641669332981,
                    -0.06649938970804214,
                    -0.007926469668745995,
                    0.018747346475720406,
                    0.010080086998641491,
                    -0.06893213838338852,
                    0.028458010405302048,
                    -0.019306514412164688,
                    0.012729392386972904,
                    -0.06704949587583542,
                    0.08991090208292007,
                    -0.019482778385281563,
                    -0.049961332231760025,
                    0.016957944259047508,
                    -0.007672379724681377,
                    0.010933932848274708,
                    0.014198394492268562,
                    0.006539672147482634,
                    -0.0551217682659626,
                    0.06061209365725517,
                    0.014518991112709045,
                    0.05586349964141846,
                    -0.00980345532298088,
                    -0.02108842320740223,
                    -0.03159431368112564,
                    0.05619468167424202,
                    -0.03306427225470543,
                    -0.037016186863183975,
                    -0.0018071947852149606,
                    0.07088187336921692,
                    0.050449978560209274,
                    -0.052744608372449875,
                    0.04805881902575493,
                    -0.06374833732843399,
                    -0.058463241904973984,
                    -0.005414693616330624,
                    -0.008839847519993782,
                    0.0027450823690742254,
                    -0.1254696547985077,
                    -0.02603505179286003,
                    -0.04894198104739189,
                    0.04042963683605194,
                    0.08544377237558365,
                    0.0334971621632576,
                    -0.025314409285783768,
                    -0.022035274654626846,
                    -0.07212425023317337,
                    -0.000673455186188221,
                    0.021235663443803787,
                    -0.005518163088709116,
                    0.007240666542202234,
                    0.007569459732621908,
                    0.02348947897553444,
                    0.00796836894005537,
                    3.0733206130042626e-33,
                    -0.056767262518405914,
                    -0.018135270103812218,
                    -0.008037957362830639,
                    0.08847114443778992,
                    -0.09567061066627502,
                    0.07157199829816818,
                    -0.005158757790923119,
                    0.08074640482664108,
                    -0.04471878707408905,
                    0.05483689159154892,
                    -0.020890187472105026,
                    -0.03138192743062973,
                    -0.03759927302598953,
                    -0.20385602116584778,
                    -0.02312440611422062,
                    0.11976064741611481,
                    0.014297290705144405,
                    0.038759343326091766,
                    -0.004379987251013517,
                    0.16614575684070587,
                    0.08936665952205658,
                    0.04999477416276932,
                    -0.013371977023780346,
                    0.061084549874067307,
                    0.053008150309324265,
                    -0.02267646975815296,
                    0.02049952745437622,
                    -0.0016446859808638692,
                    -0.05256598815321922,
                    -0.03843098133802414,
                    -0.0030020324047654867,
                    -0.010725079104304314,
                    -0.020152006298303604,
                    0.02033413201570511,
                    -0.008459820412099361,
                    -0.04905190318822861,
                    0.005780152976512909,
                    -0.019516609609127045,
                    0.06597784906625748,
                    0.045380037277936935,
                    -0.0012823545839637518,
                    -0.09160134941339493,
                    0.078811414539814,
                    0.023771382868289948,
                    0.018957002088427544,
                    -0.037859149277210236,
                    0.011177600361406803,
                    -0.038459133356809616,
                    0.0847058817744255,
                    -0.0010598894441500306,
                    -0.002055022632703185,
                    -0.04456009343266487,
                    -0.07498162239789963,
                    0.09436724334955215,
                    -0.1025320366024971,
                    0.11673401296138763,
                    -0.021083172410726547,
                    0.05190076678991318,
                    0.022947950288653374,
                    0.0380399152636528,
                    0.041112761944532394,
                    -0.05113660916686058,
                    0.03636503219604492,
                    -0.049862537533044815,
                    -0.00024741687229834497,
                    -0.08000638335943222,
                    0.01599065400660038,
                    0.1179262027144432,
                    -0.03146757557988167,
                    0.01581379771232605,
                    0.004595908802002668,
                    0.05889539420604706,
                    -0.009543919935822487,
                    -0.08328131586313248,
                    0.05838800594210625,
                    -0.006701345555484295,
                    -0.02028798870742321,
                    0.013535385020077229,
                    -0.044777315109968185,
                    0.03579162433743477,
                    -0.00644295709207654,
                    0.07332722842693329,
                    0.04976300895214081,
                    0.029478350654244423,
                    0.02108358033001423,
                    -0.053111132234334946,
                    0.0071440101601183414,
                    0.05030279979109764,
                    -0.04654001444578171,
                    0.10211793333292007,
                    -0.07478946447372437,
                    -0.0031634147744625807,
                    0.011665783822536469,
                    -0.030712412670254707,
                    -0.0803864598274231,
                    -4.354542782830345e-33,
                    0.0661781057715416,
                    -0.08201433718204498,
                    0.0631004199385643,
                    0.08386576175689697,
                    -0.018449660390615463,
                    0.010618054307997227,
                    -0.0064339484088122845,
                    -0.006124441046267748,
                    -0.08280245959758759,
                    0.009782142005860806,
                    0.1059860810637474,
                    -0.0759919062256813,
                    0.01995367370545864,
                    0.06984279304742813,
                    0.005798189900815487,
                    0.004680298734456301,
                    -0.007290936075150967,
                    0.013776416890323162,
                    -0.028376135975122452,
                    -0.04928601533174515,
                    -0.06402909010648727,
                    0.05489533022046089,
                    -0.07385823875665665,
                    0.009593681432306767,
                    0.08435431122779846,
                    0.031023496761918068,
                    0.07017545402050018,
                    0.032637324184179306,
                    -0.031424473971128464,
                    0.05772209167480469,
                    -0.0024017184041440487,
                    0.01927248202264309,
                    -0.05295908451080322,
                    0.017460472881793976,
                    0.08156399428844452,
                    -0.006597776431590319,
                    0.03384812921285629,
                    0.06558479368686676,
                    0.06439665704965591,
                    -0.021585850045084953,
                    -0.04094851016998291,
                    0.05119888111948967,
                    0.029704799875617027,
                    0.09316914528608322,
                    0.07339126616716385,
                    0.02492203190922737,
                    0.000324916880344972,
                    0.06840085238218307,
                    0.1176876425743103,
                    0.009368373081088066,
                    -0.018052417784929276,
                    -0.01275335531681776,
                    -0.022545354440808296,
                    0.06189953163266182,
                    -0.013369669206440449,
                    0.004843666218221188,
                    -0.0020218323916196823,
                    -0.009781122207641602,
                    0.044436387717723846,
                    -0.005639294162392616,
                    0.001048373058438301,
                    -0.07311700284481049,
                    -0.03309379145503044,
                    -0.036426790058612823,
                    -0.06566951423883438,
                    -0.010053485631942749,
                    -0.06914912909269333,
                    0.03549591451883316,
                    0.00611125910654664,
                    -0.029263660311698914,
                    -0.046743836253881454,
                    -0.01421903446316719,
                    0.030618105083703995,
                    0.06126851588487625,
                    0.012737695127725601,
                    0.030005784705281258,
                    0.02032550238072872,
                    -0.018406163901090622,
                    0.03442208841443062,
                    0.003649441758170724,
                    -0.0031017204746603966,
                    0.07672619819641113,
                    -0.03768394887447357,
                    -0.024941561743617058,
                    -0.008726227097213268,
                    -0.06223401054739952,
                    -0.023618461564183235,
                    -0.005138183478266001,
                    0.00600256584584713,
                    -0.1129613146185875,
                    -0.08055420964956284,
                    0.018457353115081787,
                    0.04220857098698616,
                    -0.0772409662604332,
                    -0.0005756763275712729,
                    -4.903479933204835e-8,
                    0.08306875824928284,
                    0.0906599909067154,
                    -0.020427698269486427,
                    -0.03601495921611786,
                    -0.03781561926007271,
                    -0.13107609748840332,
                    -0.02354062907397747,
                    -0.022871388122439384,
                    -0.04224724322557449,
                    -0.016365787014365196,
                    -0.13183969259262085,
                    0.0052833580411970615,
                    -0.017347494140267372,
                    -0.04707036912441254,
                    0.07110198587179184,
                    -0.10157940536737442,
                    0.03796525299549103,
                    -0.11591042578220367,
                    0.01783614233136177,
                    0.049323920160532,
                    0.0331730917096138,
                    -0.08080621063709259,
                    -0.06618177890777588,
                    0.005169290117919445,
                    -0.04438243433833122,
                    -0.02239573560655117,
                    0.16722922027111053,
                    -0.03024887852370739,
                    0.006990966387093067,
                    -0.04984377697110176,
                    0.01788708195090294,
                    -0.0506024993956089,
                    -0.07036496698856354,
                    0.04988626763224602,
                    0.04900789260864258,
                    0.0025745336897671223,
                    -0.016859402880072594,
                    -0.017467839643359184,
                    0.0474470853805542,
                    -0.032626088708639145,
                    0.003102867165580392,
                    -0.009772298857569695,
                    -0.03900374844670296,
                    0.0009992867708206177,
                    -0.02433384396135807,
                    -0.014074604958295822,
                    -0.012270220555365086,
                    -0.0795903131365776,
                    0.03281990438699722,
                    0.07732167094945908,
                    -0.05659963935613632,
                    0.056427352130413055,
                    -0.0007447124808095396,
                    -0.004480642266571522,
                    -0.0391685925424099,
                    0.028182821348309517,
                    0.043305110186338425,
                    0.004176848568022251,
                    0.020245274528861046,
                    0.05245327949523926,
                    -0.01874743588268757,
                    -0.006977689918130636,
                    -0.008215655572712421,
                    -0.02126135863363743
                  ],
                  "id": "c9a71ce69046357e0ef6f25a34513e9f",
                  "label": "Document",
                  "source": "https://en.wikipedia.org/wiki/Elizabeth_of_Russia",
                  "summary": "Elizabeth or Elizaveta Petrovna (Russian: Елизаве́та Петро́вна; 29 December [O.S. 18 December] 1709 – 5 January [O.S. 25 December] 1762) was Empress of Russia from 1741 until her death in 1762. She remains one of the most popular Russian monarchs because of her decision not to execute a single person during her reign, her numerous construction projects, and her strong opposition to Prussian policies. She was the last person on the agnatic line of the Romanovs as her nephew ascended, thus creating the house of Holstein-Gottorp-Romanov.\nThe second-eldest daughter of Tsar Peter the Great (r. 1682–1725), Elizabeth lived through the confused successions of her father's descendants following her half-brother Alexei's death in 1718. The throne first passed to her mother Catherine I of Russia (r. 1725–1727), then to her nephew Peter II, who died in 1730 and was succeeded by Elizabeth's first cousin Anna (r. 1730–1740). After the brief rule of Anna's infant great-nephew, Ivan VI, Elizabeth seized the throne with the military's support and declared her own nephew, the future Peter III, her heir.\nDuring her reign Elizabeth continued the policies of her father and brought about a remarkable Age of Enlightenment in Russia. Her domestic policies allowed the nobles to gain dominance in local government while shortening their terms of service to the state. She encouraged Mikhail Lomonosov's foundation of the University of Moscow, the highest-ranking Russian educational institution. Her court became one of the most splendid in all Europe, especially regarding architecture: she modernised Russia's roads, encouraged Ivan Shuvalov's foundation of the Imperial Academy of Arts, and financed grandiose Baroque projects of her favourite architect, Bartolomeo Rastrelli, particularly in Peterhof Palace. The Winter Palace and the Smolny Cathedral in Saint Petersburg are among the chief monuments of her reign.\nElizabeth led the Russian Empire during the two major European conflicts of her time: the War of Austrian Succession (1740–1748) and the Seven Years' War (1756–1763). She and diplomat Aleksey Bestuzhev-Ryumin solved the first event by forming an alliance with Austria and France, but indirectly caused the second. Russian troops enjoyed several victories against Prussia and briefly occupied Berlin, but when Frederick the Great was finally considering surrender in January 1762, the Russian Empress died. She was the last agnatic member of the House of Romanov to reign over the Russian Empire.",
                  "text": "–1763). She and diplomat Aleksey Bestuzhev-Ryumin solved the first event by forming an alliance with Austria and France, but indirectly caused the second. Russian troops enjoyed several victories against Prussia and briefly occupied Berlin, but when Frederick the Great was finally considering surrender in January 1762, the Russian Empress died. She was the last agnatic member of the House of Romanov to reign over the Russian Empire.\n\n\n== Early life ==\n\n\n=== Childhood and teenage years ===\n\nElizabeth was born at Kolomenskoye, near Moscow, Russia, on 18 December 1709 (O.S.). Her parents were Peter the Great, Tsar of Russia and Catherine. Catherine was the daughter of Samuel Skowroński, a subject of Grand Duchy of Lithuania. Although no documentary record exists, her parents were said to have married secretly at the Cathedral of the Holy Trinity in Saint Petersburg at some point between 23 October and 1 December 1707. Their official marriage was at Saint Isaac's Cathedral in Saint Petersburg on 9 February 1712. On this day, the two children previously born to the couple (Anna and Elizabeth) were legitimised by their father and given the title of Tsarevna (\"princess\") on 6 March 1711. Of the twelve children born to Peter and Catherine (five sons and seven daughters), only the sisters survived to adulthood. They had one older surviving sibling, crown prince Alexei Petrovich, who was Peter's son by his first wife, noblewoman Eudoxia Lopukhina.\n\nAs a child, Elizabeth was the favourite of her father, whom she resembled both physically and temperamentally. Even though he adored his daughter, Peter did not devote time or attention to her education; having both a son and grandson from his first marriage to a noblewoman, he did not anticipate that a daughter born to his former maid might one day inherit the Russian throne, which had until that point never been occupied by a woman; as such, it was left to ",
                  "title": "Elizabeth of Russia"
                },
                "scale_factor": 1,
                "size": [
                  55,
                  55
                ],
                "styles": {},
                "type": "#2196F3"
              }
            ],
            "_overview": {
              "enabled": null,
              "overview_set": false
            },
            "_selected_graph": [
              [],
              []
            ],
            "_sidebar": {
              "enabled": false,
              "start_with": null
            },
            "_view_count": null,
            "_view_module": "yfiles-jupyter-graphs",
            "_view_module_version": "^1.10.9",
            "_view_name": "GraphView",
            "layout": "IPY_MODEL_9e4d2e468d5e4f2695911ebe1be0f124"
          }
        }
      }
    }
  },
  "nbformat": 4,
  "nbformat_minor": 0
}
